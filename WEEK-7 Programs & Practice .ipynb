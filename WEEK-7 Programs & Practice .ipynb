{
 "cells": [
  {
   "cell_type": "markdown",
   "id": "ad95db15",
   "metadata": {},
   "source": [
    "# WEEK-7 Programs & Practice"
   ]
  },
  {
   "cell_type": "code",
   "execution_count": 40,
   "id": "c5cad40c",
   "metadata": {},
   "outputs": [],
   "source": [
    "# an example Employee class to demonstrate the class and objects\n",
    "class employee:\n",
    "    def set_data(self,n,a,s):\n",
    "        self._name = n\n",
    "        self._age = a\n",
    "        self._salary = s\n",
    "    def display_data(self):\n",
    "        print('Name    : ',self._name)\n",
    "        print('Age     : ',self._age)\n",
    "        print('Salary  : ',self._salary)"
   ]
  },
  {
   "cell_type": "code",
   "execution_count": 41,
   "id": "33b74d23",
   "metadata": {},
   "outputs": [
    {
     "name": "stdout",
     "output_type": "stream",
     "text": [
      "Name    :  Chandu\n",
      "Age     :  25\n",
      "Salary  :  15000\n",
      "Name    :  Marif\n",
      "Age     :  25\n",
      "Salary  :  40000\n"
     ]
    }
   ],
   "source": [
    "# creates onjects of employee class\n",
    "e1 = employee()\n",
    "e1.set_data('Chandu',25,15000)\n",
    "e2 = employee()\n",
    "e2.set_data('Marif',25,40000)\n",
    "\n",
    "e1.display_data()\n",
    "e2.display_data()"
   ]
  },
  {
   "cell_type": "code",
   "execution_count": 42,
   "id": "028031b7",
   "metadata": {},
   "outputs": [],
   "source": [
    "# __init__() and __del__() example\n",
    "\n",
    "class employee1:\n",
    "    def __init__(self,n='N/A',a=0,s=0.0):\n",
    "        self._name = n\n",
    "        self._age = a\n",
    "        self._salary = s\n",
    "    def set_data(self,n,a,s):\n",
    "        self._name = n\n",
    "        self._age = a\n",
    "        self._salary = s\n",
    "    def display_data(self):\n",
    "        print('Name    : ',self._name)\n",
    "        print('Age     : ',self._age)\n",
    "        print('Salary  : ',self._salary)\n",
    "    def __del__(self):\n",
    "        print('Deleting the object : ',str(self))"
   ]
  },
  {
   "cell_type": "code",
   "execution_count": 43,
   "id": "4f7084a7",
   "metadata": {},
   "outputs": [
    {
     "name": "stdout",
     "output_type": "stream",
     "text": [
      "Name    :  Mahesh\n",
      "Age     :  24\n",
      "Salary  :  60000\n",
      "Name    :  N/A\n",
      "Age     :  0\n",
      "Salary  :  0.0\n",
      "Name    :  Sanjay\n",
      "Age     :  24\n",
      "Salary  :  75000\n"
     ]
    }
   ],
   "source": [
    "e1 = employee1('Mahesh',24,60000)\n",
    "e1.display_data()\n",
    "e2 = employee1()\n",
    "e2.display_data()\n",
    "e3 = employee1('Sanjay',24,75000)\n",
    "e3.display_data()"
   ]
  },
  {
   "cell_type": "code",
   "execution_count": 44,
   "id": "a4e026d1",
   "metadata": {},
   "outputs": [],
   "source": [
    "# Demonostrate class variable and class method\n",
    "\n",
    "\n",
    "class Employee2:\n",
    "    instance_count = 0\n",
    "    def __init__(self,n='N/A',a=0,s=0.0):\n",
    "        Employee2.increment_instance_count()\n",
    "        self._name = n\n",
    "        self._age = a\n",
    "        self._salary = s\n",
    "    def set_data(self,n,a,s):\n",
    "        self._name = n\n",
    "        self._age = a\n",
    "        self._salary = s\n",
    "    def display_data(self):\n",
    "        print('Name    : ',self._name)\n",
    "        print('Age     : ',self._age)\n",
    "        print('Salary  : ',self._salary)\n",
    "    @classmethod\n",
    "    def increment_instance_count(cls):\n",
    "        cls.instance_count +=1\n",
    "    "
   ]
  },
  {
   "cell_type": "code",
   "execution_count": 45,
   "id": "48adab7d",
   "metadata": {},
   "outputs": [
    {
     "name": "stdout",
     "output_type": "stream",
     "text": [
      "Deleting the object :  <__main__.employee1 object at 0x000002565A1226D0>\n",
      "Deleting the object :  <__main__.employee1 object at 0x000002565A122F70>\n",
      "Deleting the object :  <__main__.employee1 object at 0x000002565A1222B0>\n",
      "Number of Employee objects are created :  3\n"
     ]
    }
   ],
   "source": [
    "e1 = Employee2()\n",
    "e2 = Employee2('Chandu',26,35000)\n",
    "e3 = Employee2('Marif',25,40000)\n",
    "print('Number of Employee objects are created : ',Employee2.instance_count)"
   ]
  },
  {
   "cell_type": "code",
   "execution_count": 46,
   "id": "145961ef",
   "metadata": {},
   "outputs": [
    {
     "data": {
      "text/plain": [
       "mappingproxy({'__module__': '__main__',\n",
       "              'instance_count': 3,\n",
       "              '__init__': <function __main__.Employee2.__init__(self, n='N/A', a=0, s=0.0)>,\n",
       "              'set_data': <function __main__.Employee2.set_data(self, n, a, s)>,\n",
       "              'display_data': <function __main__.Employee2.display_data(self)>,\n",
       "              'increment_instance_count': <classmethod at 0x2565b517670>,\n",
       "              '__dict__': <attribute '__dict__' of 'Employee2' objects>,\n",
       "              '__weakref__': <attribute '__weakref__' of 'Employee2' objects>,\n",
       "              '__doc__': None})"
      ]
     },
     "execution_count": 46,
     "metadata": {},
     "output_type": "execute_result"
    }
   ],
   "source": [
    "# vars() and dir() examples\n",
    "vars(Employee2)"
   ]
  },
  {
   "cell_type": "code",
   "execution_count": 47,
   "id": "138fc024",
   "metadata": {},
   "outputs": [
    {
     "data": {
      "text/plain": [
       "['__class__',\n",
       " '__delattr__',\n",
       " '__dict__',\n",
       " '__dir__',\n",
       " '__doc__',\n",
       " '__eq__',\n",
       " '__format__',\n",
       " '__ge__',\n",
       " '__getattribute__',\n",
       " '__gt__',\n",
       " '__hash__',\n",
       " '__init__',\n",
       " '__init_subclass__',\n",
       " '__le__',\n",
       " '__lt__',\n",
       " '__module__',\n",
       " '__ne__',\n",
       " '__new__',\n",
       " '__reduce__',\n",
       " '__reduce_ex__',\n",
       " '__repr__',\n",
       " '__setattr__',\n",
       " '__sizeof__',\n",
       " '__str__',\n",
       " '__subclasshook__',\n",
       " '__weakref__',\n",
       " '_age',\n",
       " '_name',\n",
       " '_salary',\n",
       " 'display_data',\n",
       " 'increment_instance_count',\n",
       " 'instance_count',\n",
       " 'set_data']"
      ]
     },
     "execution_count": 47,
     "metadata": {},
     "output_type": "execute_result"
    }
   ],
   "source": [
    "dir(e1)\n"
   ]
  },
  {
   "cell_type": "code",
   "execution_count": 48,
   "id": "fdcbf389",
   "metadata": {},
   "outputs": [
    {
     "data": {
      "text/plain": [
       "['__class__',\n",
       " '__delattr__',\n",
       " '__dict__',\n",
       " '__dir__',\n",
       " '__doc__',\n",
       " '__eq__',\n",
       " '__format__',\n",
       " '__ge__',\n",
       " '__getattribute__',\n",
       " '__gt__',\n",
       " '__hash__',\n",
       " '__init__',\n",
       " '__init_subclass__',\n",
       " '__le__',\n",
       " '__lt__',\n",
       " '__module__',\n",
       " '__ne__',\n",
       " '__new__',\n",
       " '__reduce__',\n",
       " '__reduce_ex__',\n",
       " '__repr__',\n",
       " '__setattr__',\n",
       " '__sizeof__',\n",
       " '__str__',\n",
       " '__subclasshook__',\n",
       " '__weakref__',\n",
       " 'display_data',\n",
       " 'increment_instance_count',\n",
       " 'instance_count',\n",
       " 'set_data']"
      ]
     },
     "execution_count": 48,
     "metadata": {},
     "output_type": "execute_result"
    }
   ],
   "source": [
    "dir(Employee2)"
   ]
  },
  {
   "cell_type": "code",
   "execution_count": 49,
   "id": "40fc4c88",
   "metadata": {},
   "outputs": [],
   "source": [
    "# implement operator overloading on the quantithy class\n",
    "class Quantity:\n",
    "    def __init__(self,v=0):\n",
    "        self._value = v\n",
    "    def __add__(self,other):\n",
    "        new_value=self._value + other._value\n",
    "        return Quantity(new_value)\n",
    "    def __sub__(self,other):\n",
    "        new_value=self._value - other._value\n",
    "        return Quantity(new_value)\n",
    "    def __pow__(self,other):\n",
    "        new_value=self._value ** other._value\n",
    "        return Quantity(new_value)\n",
    "    def __lt__(self,other):\n",
    "        new_value = self._value < other._value\n",
    "        return Quantity(new_value)\n",
    "    def __str__(self):\n",
    "        return str(self._value)\n",
    "    "
   ]
  },
  {
   "cell_type": "code",
   "execution_count": 50,
   "id": "e8b470b5",
   "metadata": {},
   "outputs": [
    {
     "name": "stdout",
     "output_type": "stream",
     "text": [
      "Q1 =  12\n",
      "Q2 =  18\n",
      "the sum =  30\n",
      "the sub =  -6\n",
      "The power of  12 & 18 is : 26623333280885243904\n",
      "12 is lessthan  18\n",
      "12 is lessthan  18 is : True\n"
     ]
    }
   ],
   "source": [
    "q1 = Quantity(12)\n",
    "q2 = Quantity(18)\n",
    "q3 = Quantity()\n",
    "print('Q1 = ',q1)\n",
    "print(\"Q2 = \",q2)\n",
    "q3 = q1+q2\n",
    "print('the sum = ',q3)\n",
    "q4 = q1-q2\n",
    "print(\"the sub = \",q4)\n",
    "q5 = q1 ** q2\n",
    "print('The power of ',q1,'&',q2,'is :',q5)\n",
    "\n",
    "if q1<q2:\n",
    "    print(q1,'is lessthan ',q2)\n",
    "    \n",
    "\n",
    "q6 = q1<q2\n",
    "print(q1,'is lessthan ',q2,'is :',q6)\n"
   ]
  },
  {
   "cell_type": "code",
   "execution_count": 51,
   "id": "48875b8c",
   "metadata": {},
   "outputs": [],
   "source": [
    "# an example to demonstrate Containership\n",
    "class Department:\n",
    "    def set_department(self):\n",
    "        self._id = input('Enter Department ID :')\n",
    "        self._name = input('Enter Department Name :')\n",
    "    def display_department(self):\n",
    "        print('Department Id : ',self._id)\n",
    "        print('Department Name :',self._name)\n",
    "class Employee4:\n",
    "    def set_employee(self):\n",
    "        self._eid = input('Enter Employee ID :')\n",
    "        self._ename = input('Enter Employee Name :')\n",
    "        self._dept = Department()\n",
    "        self._dept.set_department()\n",
    "    def diaplay_employee(self):\n",
    "        print('Employee ID : ',self._eid)\n",
    "        print('Employee Name : ',self._ename)\n",
    "        self._dept.display_department()         "
   ]
  },
  {
   "cell_type": "code",
   "execution_count": 52,
   "id": "e7c2b035",
   "metadata": {},
   "outputs": [
    {
     "name": "stdout",
     "output_type": "stream",
     "text": [
      "Enter Employee ID :12\n",
      "Enter Employee Name :1542\n",
      "Enter Department ID :58451\n",
      "Enter Department Name :1585206\n",
      "----------------------------------------\n",
      "Employee ID :  12\n",
      "Employee Name :  1542\n",
      "Department Id :  58451\n",
      "Department Name : 1585206\n"
     ]
    }
   ],
   "source": [
    "emp = Employee4()\n",
    "emp.set_employee()\n",
    "print('-'*40)\n",
    "emp.diaplay_employee()"
   ]
  },
  {
   "cell_type": "code",
   "execution_count": 53,
   "id": "9637f43c",
   "metadata": {},
   "outputs": [],
   "source": [
    "# Class inheritance\n",
    "#Parent class / super /base class\n",
    "\n",
    "class Person:\n",
    "    def __init__(self,n,a):\n",
    "        self._name = n\n",
    "        self._age = a\n",
    "    def birthday(self):\n",
    "        print('Happy Birthday, you were : ',self._age)\n",
    "        self._age += 1\n",
    "        print('Now you are ',self._age,'years old')\n",
    "    def __str__(self):\n",
    "        return self._name + ' is '+ str(self._age) +' years old'"
   ]
  },
  {
   "cell_type": "code",
   "execution_count": 54,
   "id": "b3d83e7d",
   "metadata": {},
   "outputs": [],
   "source": [
    "# Child class / sub class / derived clas\n",
    "\n",
    "class Employee5(Person):\n",
    "    def __init__(self,n,a,i):\n",
    "        super().__init__(n,a)      #invoking __init__ from parent class\n",
    "        self._id = i\n",
    "    def calculate_pay(self,hours_worked):\n",
    "        rate_of_pay = 7.50\n",
    "        if self._age >= 21:\n",
    "            rate_of_pay += 2.50\n",
    "        return hours_worked * rate_of_pay\n",
    "    "
   ]
  },
  {
   "cell_type": "code",
   "execution_count": 55,
   "id": "80ea1c2b",
   "metadata": {},
   "outputs": [
    {
     "name": "stdout",
     "output_type": "stream",
     "text": [
      "A person object only\n",
      "The person object p is:  Chandu is 25 years old\n",
      "--------------------------------------------------\n",
      "Employee object\n",
      "Happy Birthday, you were :  25\n",
      "Now you are  26 years old\n",
      "Marif is 26 years old pay of employee for 40 hours is : 400.0\n",
      "--------------------------------------------------\n"
     ]
    }
   ],
   "source": [
    "print('A person object only')\n",
    "p = Person('Chandu',25)\n",
    "print('The person object p is: ',p)\n",
    "print('-'*50)\n",
    "print(\"Employee object\")\n",
    "\n",
    "e = Employee5('Marif',25,2000)\n",
    "\n",
    "e.birthday()\n",
    "\n",
    "print(e,'pay of employee for 40 hours is :',e.calculate_pay(40))\n",
    "print('-'*50)"
   ]
  },
  {
   "cell_type": "code",
   "execution_count": 56,
   "id": "a571a5f2",
   "metadata": {},
   "outputs": [],
   "source": [
    "# inherit form employee 5 class\n",
    "class SalesPerson(Employee5):\n",
    "    def __init__(self,n,a,i,r,s):\n",
    "        super().__init__(n,a,i)\n",
    "        self._region = r\n",
    "        self._sales = s\n",
    "    def bonus(self):\n",
    "        return self._sales * 0.5"
   ]
  },
  {
   "cell_type": "code",
   "execution_count": 60,
   "id": "3f72d95b",
   "metadata": {},
   "outputs": [
    {
     "name": "stdout",
     "output_type": "stream",
     "text": [
      "Sales person object\n",
      "Happy Birthday, you were :  25\n",
      "Now you are  26 years old\n",
      "Lokesh is 26 years old  Pay for this object for 40 hours is : 400.0\n",
      "Bonus is : 24000.0\n"
     ]
    }
   ],
   "source": [
    "print(\"Sales person object\")\n",
    "s = SalesPerson('Lokesh',25,4712,'Canada',48000)\n",
    "s.birthday()\n",
    "print(s,' Pay for this object for 40 hours is :',s.calculate_pay(40))\n",
    "print('Bonus is :',s.bonus())"
   ]
  }
 ],
 "metadata": {
  "kernelspec": {
   "display_name": "Python 3 (ipykernel)",
   "language": "python",
   "name": "python3"
  },
  "language_info": {
   "codemirror_mode": {
    "name": "ipython",
    "version": 3
   },
   "file_extension": ".py",
   "mimetype": "text/x-python",
   "name": "python",
   "nbconvert_exporter": "python",
   "pygments_lexer": "ipython3",
   "version": "3.9.12"
  }
 },
 "nbformat": 4,
 "nbformat_minor": 5
}
