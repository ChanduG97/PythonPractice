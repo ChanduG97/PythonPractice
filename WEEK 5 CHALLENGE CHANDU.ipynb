{
 "cells": [
  {
   "cell_type": "markdown",
   "id": "a7e9b724",
   "metadata": {},
   "source": [
    "# WEEK 5 CHALLENGE CHANDU"
   ]
  },
  {
   "cell_type": "markdown",
   "id": "24945388",
   "metadata": {},
   "source": [
    "###  1. Write a function that takes the lengths of the two shorter sides of a right triangle as its parameters. Return the hypotenuse of the triangle, computed using Pythagorean theorem, as the function’s result."
   ]
  },
  {
   "cell_type": "code",
   "execution_count": 2,
   "id": "dba42739",
   "metadata": {},
   "outputs": [
    {
     "name": "stdout",
     "output_type": "stream",
     "text": [
      "Enter a value: 3\n",
      "Enter b value: 6\n",
      "The hypotenuse of a triangle is: 6.708203932499369\n"
     ]
    }
   ],
   "source": [
    "import math \n",
    "def hypot(a,b):\n",
    "    c= math.sqrt(a**2+b**2)\n",
    "    return c\n",
    "a = int(input('Enter a value: '))\n",
    "b = int(input('Enter b value: '))\n",
    "print('The hypotenuse of a triangle is:',hypot(a,b))"
   ]
  },
  {
   "cell_type": "markdown",
   "id": "7572a9d9",
   "metadata": {},
   "source": [
    "### 2. An online retailer provides express shipping for many of its items at a rate of $10.95 for the first item, and $2.95 for each subsequent item. Write a function that takes the number of items in the order as its only parameter. Return the shipping charge for the order as the function’s result. Include a main program that reads the number of items purchased from the user and displays the shipping charge."
   ]
  },
  {
   "cell_type": "code",
   "execution_count": 3,
   "id": "276b6ff8",
   "metadata": {},
   "outputs": [
    {
     "name": "stdout",
     "output_type": "stream",
     "text": [
      "Enter a numbers of item list : 5\n",
      "22.75\n"
     ]
    }
   ],
   "source": [
    "def Shipping_Charge(no_of_item):\n",
    "    if(no_of_item == 1): \n",
    "        return 10.95\n",
    "    else:\n",
    "        return 10.95+(no_of_item - 1)*2.95\n",
    "no_of_item = int(input('Enter a numbers of item list : '))\n",
    "print(Shipping_Charge(no_of_item))"
   ]
  },
  {
   "cell_type": "markdown",
   "id": "0de1e870",
   "metadata": {},
   "source": [
    "### 3. Write a function that takes three numbers as parameters, and returns the median value of those parameters as its result. Include a main program that reads three values from the user and displays their median.\n"
   ]
  },
  {
   "cell_type": "code",
   "execution_count": 4,
   "id": "7a368644",
   "metadata": {},
   "outputs": [
    {
     "name": "stdout",
     "output_type": "stream",
     "text": [
      "Enter a value: 5\n",
      "Enter b value: 10\n",
      "Enter c value: 3\n",
      "The Median value is :  5\n"
     ]
    }
   ],
   "source": [
    "def median(a,b,c):\n",
    "    if a > b:\n",
    "        if a < c:\n",
    "            return a\n",
    "        elif b>c:\n",
    "            return b\n",
    "        else:\n",
    "            return c\n",
    "    else:\n",
    "        if a > c:\n",
    "            return a\n",
    "        elif b < c:\n",
    "            return b       \n",
    "        else:\n",
    "            return c\n",
    "        \n",
    "a = int(input('Enter a value: '))\n",
    "b = int(input('Enter b value: '))\n",
    "c = int(input('Enter c value: '))\n",
    "res = median(a,b,c)\n",
    "print('The Median value is : ',res)"
   ]
  },
  {
   "cell_type": "markdown",
   "id": "15b69ceb",
   "metadata": {},
   "source": [
    "### 4. Write a function that determines whether or not three lengths can form a triangle. The function will take 3 parameters and return a Boolean result. In addition, write a program that reads 3 lengths from the user and demonstrates the behavior of this function. In general, if any one length is greater than or equal to the sum of the other two then the lengths cannot be used to form a triangle. Otherwise they can form a triangle."
   ]
  },
  {
   "cell_type": "code",
   "execution_count": 14,
   "id": "ac4b4699",
   "metadata": {},
   "outputs": [
    {
     "name": "stdout",
     "output_type": "stream",
     "text": [
      "Enter the side a :5\n",
      "Enter the side b :5\n",
      "Enter the side c :9\n",
      "Entered sides can form triangle :  True\n"
     ]
    }
   ],
   "source": [
    "def triangle(a,b,c):\n",
    "        if a+b > c and b+c > a and  c+a > b:\n",
    "            return True\n",
    "        else:\n",
    "            return False\n",
    "a = int(input('Enter the side a :'))\n",
    "b = int(input('Enter the side b :'))\n",
    "c = int(input('Enter the side c :'))    \n",
    "result=triangle(a,b,c)\n",
    "print('Entered sides can form triangle : ',result)"
   ]
  },
  {
   "cell_type": "markdown",
   "id": "935442e2",
   "metadata": {},
   "source": [
    "### 5. In this exercise you will write a function named isInteger that determines whether or not the characters in a string represent a valid integer. When determining if a string represents an integer you should ignore any leading or trailing white space. Once this white space is ignored, a string represents an integer if its length is at least 1 and it only contains digits, or if its first character is either + or - and the first character is followed by one or more characters, all of which are digits. Write a main program that reads a string from the user and reports whether or not it represents an integer."
   ]
  },
  {
   "cell_type": "code",
   "execution_count": 18,
   "id": "052c32b6",
   "metadata": {},
   "outputs": [
    {
     "name": "stdout",
     "output_type": "stream",
     "text": [
      "enter a string : 45\n",
      "Entered string represent an Integer\n"
     ]
    }
   ],
   "source": [
    "def isinteger(s):\n",
    "    s=s.strip()\n",
    "    if s.isdigit() or ((s[0]=='+' or s[0]=='-') and s[1:].isdigit()):\n",
    "        return True\n",
    "    else:\n",
    "        return False\n",
    "s=input('enter a string : ')\n",
    "if isinteger(s):\n",
    "    print('Entered string represent an Integer')\n",
    "else:\n",
    "    print('Entered string is not represent an Integer')"
   ]
  },
  {
   "cell_type": "markdown",
   "id": "ebbdd886",
   "metadata": {},
   "source": [
    "### 6. In this exercise you will create a function named nextPrime that finds and returns the first prime number larger than some integer, n. The value of n will be passed to the function as its only parameter. Include a main program that reads an integer from the user and displays the first prime number larger than the entered value."
   ]
  },
  {
   "cell_type": "code",
   "execution_count": 23,
   "id": "bff9e928",
   "metadata": {},
   "outputs": [
    {
     "name": "stdout",
     "output_type": "stream",
     "text": [
      "enter an integer:9\n",
      "The prime number after 9 is :  11\n"
     ]
    }
   ],
   "source": [
    "def nextprime(n):\n",
    "    while True:\n",
    "        n+=1\n",
    "        for i in range(2,n):\n",
    "            if n%i==0:\n",
    "                break\n",
    "        else:\n",
    "            return n\n",
    "n=int(input('Enter an Integer:'))\n",
    "print('The prime number after',n,'is : ',nextprime(n))\n"
   ]
  },
  {
   "cell_type": "markdown",
   "id": "a98a1c08",
   "metadata": {},
   "source": [
    "### 7. In this exercise you will write a function that determines whether or not a password is good. We will define a good password to be a one that is at least 8 characters long and contains at least one uppercase letter, at least one lowercase letter, and at least one number. Your function should return true if the password passed to it as its only parameter is good. Otherwise it should return false. Include a main program that reads a password from the user and reports whether or not it is good.\n"
   ]
  },
  {
   "cell_type": "code",
   "execution_count": 30,
   "id": "a09f5db3",
   "metadata": {},
   "outputs": [
    {
     "name": "stdout",
     "output_type": "stream",
     "text": [
      "Enter the password: Chandu@97\n",
      "Entered password is good\n"
     ]
    },
    {
     "data": {
      "text/plain": [
       "True"
      ]
     },
     "execution_count": 30,
     "metadata": {},
     "output_type": "execute_result"
    }
   ],
   "source": [
    "def password(pw):\n",
    "    \n",
    "    length = lower = upper = digit = False\n",
    "   \n",
    "    if len(pw) >= 8:\n",
    "        length = True\n",
    "        \n",
    "        for letters in pw:\n",
    "            \n",
    "            if letters.islower():\n",
    "                lower = True\n",
    "            \n",
    "            if letters.isupper():\n",
    "                upper = True\n",
    "            \n",
    "            if letters.isdigit():\n",
    "                digit = True\n",
    "            \n",
    "    if length and upper and lower and digit:\n",
    "        print('Entered password is good')\n",
    "        return True\n",
    "    \n",
    "    else:\n",
    "        print('Entered paassword is not good')\n",
    "        return False   \n",
    "\n",
    "pw = input('Enter the password: ')\n",
    "\n",
    "password(pw)"
   ]
  },
  {
   "cell_type": "markdown",
   "id": "d0af5117",
   "metadata": {},
   "source": [
    "### 8. Write a program that reads values from the user until a blank line is entered. Display the total of all of the values entered by the user (or 0.0 if the first value entered is a blank line). Complete this task using recursion. Your program may not use any loops. The body of your recursive function will need to read one value from the user, and then determine whether or not to make a recursive call. Your function does not need to take any parameters, but it will need to return a numeric result."
   ]
  },
  {
   "cell_type": "code",
   "execution_count": 31,
   "id": "54037f07",
   "metadata": {},
   "outputs": [
    {
     "name": "stdout",
     "output_type": "stream",
     "text": [
      "Enter a value: 4\n",
      "Enter a value: 5\n",
      "Enter a value: 6\n",
      "Enter a value: \n",
      "Total of all the values =  15.0\n"
     ]
    }
   ],
   "source": [
    "def fun():\n",
    "    n = input(\"Enter a value: \")\n",
    "    if n ==\"\":\n",
    "        return 0.0\n",
    "    else:\n",
    "        return (int(n) + fun())\n",
    "print(\"Total of all the values = \", fun())"
   ]
  },
  {
   "cell_type": "markdown",
   "id": "8a48bfd2",
   "metadata": {},
   "source": [
    "### 9. In this exercise you will write a recursive function that determines whether or not a string is a palindrome. The empty string is a palindrome, as is any string containing only one character. Any longer string is a palindrome if its first and last characters match, and if the string formed by removing the first and last characters is also a palindrome. Write a main program that reads a string from the user. Use your recursive function to determine whether or not the string is a palindrome. Then display an appropriate message for the user."
   ]
  },
  {
   "cell_type": "code",
   "execution_count": 41,
   "id": "732f8214",
   "metadata": {},
   "outputs": [
    {
     "name": "stdout",
     "output_type": "stream",
     "text": [
      "Enter string : amma\n",
      "String amma is a palindrome!\n"
     ]
    }
   ],
   "source": [
    "def is_palindrome(s):\n",
    "    if len(s) < 1:\n",
    "        return True\n",
    "    else:\n",
    "        if s[0] == s[-1]:\n",
    "            return is_palindrome(s[1:-1])\n",
    "        else:\n",
    "            return False\n",
    "\n",
    "str1 =str(input('Enter string : '))\n",
    "\n",
    "if(is_palindrome(str1)==True):\n",
    "    \n",
    "    print('String',str1,'is a palindrome!')\n",
    "\n",
    "else:\n",
    "    print('String',str1,'is not a palindrome!')"
   ]
  },
  {
   "cell_type": "markdown",
   "id": "77ee282b",
   "metadata": {},
   "source": [
    "### 10. Write a function that takes a list of strings as its only parameter. Your function should return a string that contains all of the items in the list formatted in the manner described previously as its only result. While the examples shown previously only include lists containing four elements or less, your function should behave correctly for lists of any length. Include a main program that reads several items from the user, formats them by calling your function, and then displays the result returned by the function. Consider the following four lists:\n",
    "\n",
    "### apples\n",
    "### apples and oranges\n",
    "### apples, oranges and bananas\n",
    "### apples, oranges, bananas and lemons"
   ]
  },
  {
   "cell_type": "code",
   "execution_count": 46,
   "id": "319aa264",
   "metadata": {},
   "outputs": [
    {
     "name": "stdout",
     "output_type": "stream",
     "text": [
      "Enter the elements seperated with space : chandu marif lokesh\n",
      "chandu, marif and lokesh\n"
     ]
    }
   ],
   "source": [
    "def formatting (lst2):\n",
    "    s = ''\n",
    "    s += lst2[0] \n",
    "    for i in (lst2[1:-1]):\n",
    "        s = s + ', '+ i\n",
    "    s = s + ' and ' + lst2[-1]\n",
    "    return s\n",
    "a = input('Enter the elements seperated with space : ')\n",
    "b= list(a.split(' '))\n",
    "print(formatting(b))"
   ]
  },
  {
   "cell_type": "code",
   "execution_count": null,
   "id": "5888c5e0",
   "metadata": {},
   "outputs": [],
   "source": []
  }
 ],
 "metadata": {
  "kernelspec": {
   "display_name": "Python 3 (ipykernel)",
   "language": "python",
   "name": "python3"
  },
  "language_info": {
   "codemirror_mode": {
    "name": "ipython",
    "version": 3
   },
   "file_extension": ".py",
   "mimetype": "text/x-python",
   "name": "python",
   "nbconvert_exporter": "python",
   "pygments_lexer": "ipython3",
   "version": "3.9.12"
  }
 },
 "nbformat": 4,
 "nbformat_minor": 5
}
