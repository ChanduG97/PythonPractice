{
 "cells": [
  {
   "cell_type": "markdown",
   "id": "a72a8cf9",
   "metadata": {},
   "source": [
    "# WEEK 7 CHALLENGE CHANDU"
   ]
  },
  {
   "cell_type": "markdown",
   "id": "cda360cb",
   "metadata": {},
   "source": [
    "### 1. Create a class called number which contains an integer. It should contain various methods to set the value of the integer, return the integer value, print the integer value, check whether the integer is negative."
   ]
  },
  {
   "cell_type": "code",
   "execution_count": 1,
   "id": "c881dcab",
   "metadata": {},
   "outputs": [],
   "source": [
    "class number:\n",
    "    def __init__(self,number):\n",
    "        self._number=number\n",
    "    def set_data(self,number):\n",
    "        self._number=number\n",
    "    def display_data(self):\n",
    "        return(self._number)\n",
    "    def show(self):\n",
    "        print('The number is',self._number)\n",
    "    def negative_number(self):\n",
    "        if self._number<0:\n",
    "            print('Negative Number')\n",
    "        else:\n",
    "            print('Positive Number')"
   ]
  },
  {
   "cell_type": "code",
   "execution_count": 2,
   "id": "474b363e",
   "metadata": {},
   "outputs": [
    {
     "name": "stdout",
     "output_type": "stream",
     "text": [
      "-9\n",
      "9\n",
      "The number is -9\n",
      "The number is 9\n",
      "Negative Number\n",
      "None\n",
      "Positive Number\n",
      "None\n"
     ]
    }
   ],
   "source": [
    "n1=number(-9)\n",
    "n2=number(9)\n",
    "print(n1.display_data())\n",
    "print(n2.display_data())\n",
    "n1.show()\n",
    "n2.show()\n",
    "print(n1.negative_number())\n",
    "print(n2.negative_number())"
   ]
  },
  {
   "cell_type": "markdown",
   "id": "9f4fd7e9",
   "metadata": {},
   "source": [
    "### 2.Create a class that can calculate the perimeter/ circumference and area of a regular shape. The class should also have a provision to accept the data relevant to the shape."
   ]
  },
  {
   "cell_type": "code",
   "execution_count": 3,
   "id": "e9de89e4",
   "metadata": {},
   "outputs": [],
   "source": [
    "class Regular:\n",
    "    def __init__(self,shape,side1,side2=None,side3=None):\n",
    "        self.shape=shape\n",
    "        self.side1=side1\n",
    "        self.side2=side2\n",
    "        self.side3=side3\n",
    "    def area(self):\n",
    "        if self.shape=='Circle':\n",
    "            a=3.14*self.side1*self.side1\n",
    "            print(\"area of circle is\",a)\n",
    "        elif self.shape=='Square':\n",
    "            a=self.side1*self.side1\n",
    "            print(\"area of square is\",a)\n",
    "        elif self.shape=='Rectangle':\n",
    "            a=self.side1*self.side2\n",
    "            print(\"area of rectangle is\",a)\n",
    "        \n",
    "    def perimeter(self):\n",
    "        if self.shape=='Circle':\n",
    "            p=2*3.14*self.side1\n",
    "            print(\"perimeter of circle is\",p)\n",
    "        elif self.shape=='Square':\n",
    "            p=4*self.side1\n",
    "            print(\"perimeter of square is\",p)\n",
    "        elif self.shape=='Rectangle':\n",
    "            p=2*(self.side1+self.side2)\n",
    "            print(\"perimeter of rectangle is\",p)"
   ]
  },
  {
   "cell_type": "code",
   "execution_count": 4,
   "id": "1aec45a8",
   "metadata": {},
   "outputs": [
    {
     "name": "stdout",
     "output_type": "stream",
     "text": [
      "area of circle is 78.5\n",
      "perimeter of circle is 31.400000000000002\n"
     ]
    }
   ],
   "source": [
    "r=Regular('Circle',5,10)\n",
    "r.area()\n",
    "r.perimeter()"
   ]
  },
  {
   "cell_type": "markdown",
   "id": "5db9ee8f",
   "metadata": {},
   "source": [
    "### 3.Create a class called student which contains the data members called rollno, sname and branch. The class should contain methods to initialize the data members and to set and display data members. Finally, the class should contain the __del__ method to release the memory at the time of object destruction. Test your class with at least two objects of the student class."
   ]
  },
  {
   "cell_type": "code",
   "execution_count": 5,
   "id": "eda29f14",
   "metadata": {},
   "outputs": [
    {
     "name": "stdout",
     "output_type": "stream",
     "text": [
      "The roll no is: 45\n",
      "The name is: Chandu\n",
      "The branch is: Software department\n",
      "The roll no is: 9\n",
      "The name is: Haritha\n",
      "The branch is: Network Department\n",
      "The roll no is: 79\n",
      "The name is: Marif\n",
      "The branch is: Hardware department\n"
     ]
    }
   ],
   "source": [
    "class Student:\n",
    "    def __init__(self,rollno,name,branch):\n",
    "        self._rollno=rollno\n",
    "        self._name=name\n",
    "        self._branch=branch\n",
    "    def set_data(self,rollno,name,branch):\n",
    "        self._rollno=int(input('Enter a number :'))\n",
    "        self._name=input('Enter a name :')\n",
    "        self._branch=input('Enter a branch name :')\n",
    "    def display_data(self):\n",
    "        print('The roll no is:',self._rollno)\n",
    "        print('The name is:',self._name)\n",
    "        print('The branch is:',self._branch)    \n",
    "    def __del__(self):\n",
    "        print('The object is deleted')\n",
    "s1=Student(45,'Chandu','Software department')\n",
    "s2=Student(9,'Haritha','Network Department')\n",
    "s3=Student(79,'Marif','Hardware department')\n",
    "s1.display_data()\n",
    "s2.display_data()\n",
    "s3.display_data()"
   ]
  },
  {
   "cell_type": "markdown",
   "id": "b961732c",
   "metadata": {},
   "source": [
    "### 4.Modify the student class defined in Q. No. 1 in so that it now includes a class variable to count the number of student objects created from this class and also add a class function in order to display the value of the class variable. The modified class should be named as student1 class."
   ]
  },
  {
   "cell_type": "code",
   "execution_count": 6,
   "id": "1721f4e0",
   "metadata": {},
   "outputs": [],
   "source": [
    "class Number1:\n",
    "    count=0\n",
    "    def __init__(self,num=0):\n",
    "        Number1.no_of_obj()\n",
    "        self.num=num\n",
    "    def set_data(self,num=0):\n",
    "        self.num=num\n",
    "    def check(self):\n",
    "        if self.num>0:\n",
    "            print(self.num,\"is a positive number\")\n",
    "        else:\n",
    "            print(self.num,\"is a negative number\")\n",
    "    @classmethod\n",
    "    def no_of_obj(cls):\n",
    "        cls.count+=1"
   ]
  },
  {
   "cell_type": "code",
   "execution_count": 7,
   "id": "c9629565",
   "metadata": {},
   "outputs": [
    {
     "name": "stdout",
     "output_type": "stream",
     "text": [
      "9 is a positive number\n",
      "5 is a positive number\n",
      "The number of objects in a Number class: 2\n"
     ]
    }
   ],
   "source": [
    "n1=Number1(9)\n",
    "n2=Number1(5)\n",
    "n1.check()\n",
    "n2.check()\n",
    "print('The number of objects in a Number class:',Number1.count)"
   ]
  },
  {
   "cell_type": "markdown",
   "id": "6a5b5e29",
   "metadata": {},
   "source": [
    "### 5.Apply the vars() and dir() global function on student and student1 classes"
   ]
  },
  {
   "cell_type": "code",
   "execution_count": 8,
   "id": "b1527929",
   "metadata": {},
   "outputs": [
    {
     "name": "stdout",
     "output_type": "stream",
     "text": [
      "{'_rollno': 45, '_name': 'Chandu', '_branch': 'Software department'}\n",
      "{'_rollno': 9, '_name': 'Haritha', '_branch': 'Network Department'}\n",
      "['__class__', '__del__', '__delattr__', '__dict__', '__dir__', '__doc__', '__eq__', '__format__', '__ge__', '__getattribute__', '__gt__', '__hash__', '__init__', '__init_subclass__', '__le__', '__lt__', '__module__', '__ne__', '__new__', '__reduce__', '__reduce_ex__', '__repr__', '__setattr__', '__sizeof__', '__str__', '__subclasshook__', '__weakref__', '_branch', '_name', '_rollno', 'display_data', 'set_data']\n",
      "['__class__', '__del__', '__delattr__', '__dict__', '__dir__', '__doc__', '__eq__', '__format__', '__ge__', '__getattribute__', '__gt__', '__hash__', '__init__', '__init_subclass__', '__le__', '__lt__', '__module__', '__ne__', '__new__', '__reduce__', '__reduce_ex__', '__repr__', '__setattr__', '__sizeof__', '__str__', '__subclasshook__', '__weakref__', '_branch', '_name', '_rollno', 'display_data', 'set_data']\n"
     ]
    }
   ],
   "source": [
    "print(vars(s1))\n",
    "\n",
    "print(vars(s2))\n",
    "\n",
    "print(dir(s1))\n",
    "\n",
    "print(dir(s2))"
   ]
  },
  {
   "cell_type": "markdown",
   "id": "b50c3042",
   "metadata": {},
   "source": [
    "### 6.Create a class called Date. It should contain data members day, month and year. It should also contain functions to set and display date, as well as function to initialize date objects. Overload the == operator to check if two dates are equal\n"
   ]
  },
  {
   "cell_type": "code",
   "execution_count": 9,
   "id": "e795cbbc",
   "metadata": {},
   "outputs": [
    {
     "name": "stdout",
     "output_type": "stream",
     "text": [
      "15 / 11 / 2022\n",
      "15 / 12 / 2022\n",
      "both dates are not equal\n"
     ]
    }
   ],
   "source": [
    "class Date:\n",
    "    def __init__(self,day=0,month=0,year=0):\n",
    "        self._day=day\n",
    "        self._month=month\n",
    "        self._year=year\n",
    "    def set_data(self,day,month,year):\n",
    "        self._day=day\n",
    "        self._month=month\n",
    "        self._year=year\n",
    "    def display_data(self):\n",
    "        print(self._day,\"/\",self._month,\"/\",self._year)\n",
    "    def __eq__(self,other):\n",
    "        if self._day==other._day and self._month==other._month and self._year==other._year:\n",
    "            return 'both dates are equal'\n",
    "        else:\n",
    "            return 'both dates are not equal'\n",
    "d1=Date(15,11,2022)\n",
    "d2=Date(15,12,2022)\n",
    "d1.display_data()\n",
    "d2.display_data()\n",
    "print(d1==d2)"
   ]
  },
  {
   "cell_type": "markdown",
   "id": "8fbda2da",
   "metadata": {},
   "source": [
    "### 7. Create a class called weather that has a list containing weather parameters. Overload the in operator that checks whether an item is present in the list or not.\n"
   ]
  },
  {
   "cell_type": "code",
   "execution_count": 10,
   "id": "0e82e208",
   "metadata": {},
   "outputs": [
    {
     "name": "stdout",
     "output_type": "stream",
     "text": [
      "Item is not present in list\n"
     ]
    }
   ],
   "source": [
    "class Weather:\n",
    "    def __init__(self,t,h,w,m):\n",
    "        self.temperature=t\n",
    "        self.humidity=h\n",
    "        self.wind_speed=w\n",
    "        self.moisture=m\n",
    "        self.list=[self.temperature,self.humidity,self.wind_speed,self.moisture]\n",
    "    def set_data(self,t,h,w,m):\n",
    "        self.temperature=t\n",
    "        self.humidity=h\n",
    "        self.wind_speed=w\n",
    "        self.moisture=m\n",
    "        \n",
    "    def display(self):\n",
    "        return self.list\n",
    "        \n",
    "    def contains(self,other):\n",
    "        if other in self.list:\n",
    "            print(\"Item is present in list\")\n",
    "        else:\n",
    "            print(\"Item is not present in list\")\n",
    "w1=Weather('Temperature','Humidity','Wind speed','moisture')\n",
    "w1.display()\n",
    "w1.contains('wind directions')"
   ]
  },
  {
   "cell_type": "markdown",
   "id": "5eb03377",
   "metadata": {},
   "source": [
    "### 8. Create a class called complex containing real and imaginary parts and then use it to check whether two objects are of the same type, whether their attributes are same and whether they are pointing to the same object\n"
   ]
  },
  {
   "cell_type": "code",
   "execution_count": 11,
   "id": "a8b58e14",
   "metadata": {},
   "outputs": [
    {
     "name": "stdout",
     "output_type": "stream",
     "text": [
      "Two objects are same \n"
     ]
    }
   ],
   "source": [
    "class complex:\n",
    "    def __init__(self,r,i):\n",
    "        self._real=r\n",
    "        self._imaginary=i\n",
    "        \n",
    "    def __eq__(self,other):\n",
    "        if self._imaginary == other._imaginary and self._real == other._real:\n",
    "            print(\"Two objects are same \")\n",
    "        else:\n",
    "            print(\"Two objects are not same\")\n",
    "num1=complex(2,'15Ma')\n",
    "num2=complex(2,'15Ma')\n",
    "num1==num2"
   ]
  },
  {
   "cell_type": "markdown",
   "id": "0950e3fd",
   "metadata": {},
   "source": [
    "### 9. Create a class called department with the attributes deptname and deptid. Modify the student class defined in Q.No. 3 such that it contains an object of department class. Name the new modified student class as student2"
   ]
  },
  {
   "cell_type": "code",
   "execution_count": 12,
   "id": "c7a2879c",
   "metadata": {},
   "outputs": [
    {
     "name": "stdout",
     "output_type": "stream",
     "text": [
      "Enter student rollno:15213\n",
      "Enter student name:12546\n",
      "Enter student branch:545623\n",
      "Enter Department name:25345865312\n",
      "Enter Department ID:54865312\n",
      "Name: 12546\n",
      "Rollno: 15213\n",
      "Branch: 545623\n",
      "Department Name: 25345865312\n",
      "Department ID: 54865312\n"
     ]
    }
   ],
   "source": [
    "class Department:\n",
    "    def set_dept(self):\n",
    "        self.deptname=input(\"Enter Department name:\")\n",
    "        self.deptid=int(input(\"Enter Department ID:\"))\n",
    "    def display_dept(self):\n",
    "        print(\"Department Name:\",self.deptname)\n",
    "        print(\"Department ID:\",self.deptid)\n",
    "        \n",
    "class Student:\n",
    "    def set_data(self):\n",
    "        self.rollno=int(input(\"Enter student rollno:\"))\n",
    "        self.sname=input(\"Enter student name:\")\n",
    "        self.branch=input(\"Enter student branch:\")\n",
    "        self.dept=Department()\n",
    "        self.dept.set_dept()\n",
    "    def display_data(self):\n",
    "        print('Name:',self.sname)\n",
    "        print('Rollno:',self.rollno)\n",
    "        print('Branch:',self.branch)\n",
    "        self.dept.display_dept()\n",
    "    def __del__(self):\n",
    "        print(\"Deleting the object\",str(self))\n",
    "s=Student()\n",
    "s.set_data()\n",
    "s.display_data()"
   ]
  },
  {
   "cell_type": "markdown",
   "id": "0f305742",
   "metadata": {},
   "source": [
    "### 10.Create a class called Person. From this class, inherit another class called student. Assume suitable data members and member functions for these two classes. In both the classes, define the __str__ function and demonstrate method overriding.  "
   ]
  },
  {
   "cell_type": "code",
   "execution_count": 13,
   "id": "d1084ca4",
   "metadata": {},
   "outputs": [],
   "source": [
    "class Person:\n",
    "    def __init__(self,n,a):\n",
    "        self.name=n\n",
    "        self.age=a\n",
    "    def display(self):\n",
    "        print('Name is:',self.name)\n",
    "        print(\"Age of\",self.name,\"is:\",self.age)\n",
    "    def __str__(self):\n",
    "        return self.name+' is '+str(self.age)+' years old'"
   ]
  },
  {
   "cell_type": "code",
   "execution_count": 14,
   "id": "4ef4d140",
   "metadata": {},
   "outputs": [],
   "source": [
    "class Student5(Person):\n",
    "    def __init__(self,n,a,r,b):\n",
    "        super().__init__(n,a)\n",
    "        self.rollno=r\n",
    "        self.branch=b\n",
    "    def display_data(self):\n",
    "        print('Rollno is:',self.rollno)\n",
    "        print('Branch is:',self.branch)\n",
    "    \n",
    "    def __str__(self): \n",
    "        return self.name+' is '+str(self.age)+\" and from branch \"+self.branch"
   ]
  },
  {
   "cell_type": "code",
   "execution_count": 15,
   "id": "2f1d9043",
   "metadata": {},
   "outputs": [
    {
     "name": "stdout",
     "output_type": "stream",
     "text": [
      "Name is: Chandu\n",
      "Age of Chandu is: 25\n",
      "Chandu is 25 years old\n",
      "----------------------------------------------------------------------------------------------------\n",
      "Deleting the object <__main__.Student object at 0x0000015768747F40>\n",
      "Name is: Haritha\n",
      "Age of Haritha is: 24\n",
      "Rollno is: 101\n",
      "Branch is: MBA\n"
     ]
    },
    {
     "data": {
      "text/plain": [
       "'Haritha is 24 and from branch MBA'"
      ]
     },
     "execution_count": 15,
     "metadata": {},
     "output_type": "execute_result"
    }
   ],
   "source": [
    "p=Person('Chandu',25)\n",
    "p.display()\n",
    "print(p)\n",
    "print('-'*100)\n",
    "s=Student5('Haritha',24,101,'MBA')\n",
    "s.display()\n",
    "s.display_data()\n",
    "s.__str__()"
   ]
  },
  {
   "cell_type": "code",
   "execution_count": null,
   "id": "220ef96a",
   "metadata": {},
   "outputs": [],
   "source": []
  }
 ],
 "metadata": {
  "kernelspec": {
   "display_name": "Python 3 (ipykernel)",
   "language": "python",
   "name": "python3"
  },
  "language_info": {
   "codemirror_mode": {
    "name": "ipython",
    "version": 3
   },
   "file_extension": ".py",
   "mimetype": "text/x-python",
   "name": "python",
   "nbconvert_exporter": "python",
   "pygments_lexer": "ipython3",
   "version": "3.9.12"
  }
 },
 "nbformat": 4,
 "nbformat_minor": 5
}
