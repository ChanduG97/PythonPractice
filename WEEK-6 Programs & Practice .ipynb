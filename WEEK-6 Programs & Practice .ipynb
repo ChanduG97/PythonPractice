{
 "cells": [
  {
   "cell_type": "markdown",
   "id": "2010631e",
   "metadata": {},
   "source": [
    "# week 6"
   ]
  },
  {
   "cell_type": "markdown",
   "id": "879e2533",
   "metadata": {},
   "source": [
    "# File Input and Output"
   ]
  },
  {
   "cell_type": "code",
   "execution_count": 2,
   "id": "f89d6542",
   "metadata": {
    "scrolled": true
   },
   "outputs": [
    {
     "name": "stdout",
     "output_type": "stream",
     "text": [
      "Hello world!\n",
      "welcome to python programming\n",
      "this is week 6 its all about files and modules\n",
      "read and write files \n"
     ]
    }
   ],
   "source": [
    "# program to read the contents of an Existing file\n",
    "file = open('messages.txt','r')\n",
    "lines = file.readlines()\n",
    "for line in lines:\n",
    "    print(line,end = '')\n",
    "file.close()"
   ]
  },
  {
   "cell_type": "code",
   "execution_count": 5,
   "id": "b72a0d7b",
   "metadata": {},
   "outputs": [
    {
     "name": "stdout",
     "output_type": "stream",
     "text": [
      "Writing to a File\n"
     ]
    }
   ],
   "source": [
    "# write some msgs into a file called messagesnew.txt\n",
    "\n",
    "print('Writing to a File')\n",
    "f= open('mynewfile.txt','w')\n",
    "f.write('Hello from Python\\n')\n",
    "f.write('Working with files is easy\\n')\n",
    "f.write('It is cool\\n')\n",
    "f.close()"
   ]
  },
  {
   "cell_type": "code",
   "execution_count": 6,
   "id": "531a225e",
   "metadata": {},
   "outputs": [
    {
     "name": "stdout",
     "output_type": "stream",
     "text": [
      "Hello from Python\n",
      "Working with files is easy\n",
      "It is cool\n"
     ]
    }
   ],
   "source": [
    "file = open('mynewfile.txt','r')\n",
    "lines = file.readlines()\n",
    "for line in lines:\n",
    "    print(line,end = '')\n",
    "file.close()"
   ]
  },
  {
   "cell_type": "code",
   "execution_count": 11,
   "id": "62042f9a",
   "metadata": {},
   "outputs": [
    {
     "name": "stdout",
     "output_type": "stream",
     "text": [
      "Hello from Python\n",
      "Working with files is easy\n",
      "It is cool\n"
     ]
    }
   ],
   "source": [
    "# using files and with statement\n",
    "with open('mynewfile.txt','r') as f:\n",
    "    lines = f.readlines()\n",
    "    for line in lines:\n",
    "        print(line,end='')"
   ]
  },
  {
   "cell_type": "code",
   "execution_count": 17,
   "id": "66b1c9ba",
   "metadata": {},
   "outputs": [
    {
     "name": "stdout",
     "output_type": "stream",
     "text": [
      "My new file is closed or not :  True\n",
      "The file mynewfile is in which mode : r\n",
      "The file associated with the object f is : mynewfile.txt\n"
     ]
    }
   ],
   "source": [
    "# file attributes\n",
    "\n",
    "#file_object.closed\n",
    "print('My new file is closed or not : ',f.closed)    #returns true if file is closed, returns false if file is not closed\n",
    "\n",
    "#file_object.mode  (returns the file in which mode)\n",
    "\n",
    "print('The file mynewfile is in which mode :',f.mode)\n",
    "\n",
    "#file_object.name  (returns the name of the file)\n",
    "\n",
    "print('The file associated with the object f is :',f.name)"
   ]
  },
  {
   "cell_type": "code",
   "execution_count": 27,
   "id": "939a6d6f",
   "metadata": {},
   "outputs": [
    {
     "name": "stdout",
     "output_type": "stream",
     "text": [
      "abcdefByejklHELLOrstuvwxyz\n",
      "Hello world!"
     ]
    }
   ],
   "source": [
    "# random file access\n",
    "f = open('text.txt','w')\n",
    "f.write('abcdefghijklmnopqrstuvwxyz\\n')\n",
    "f.write('Hello world!')\n",
    "f.seek(6,0)\n",
    "f.write('Bye')\n",
    "f.seek(12,0)\n",
    "f.write('HELLO')\n",
    "f.close()\n",
    "with open('text.txt','r') as f:\n",
    "    for line in f:\n",
    "        print(line,end='')"
   ]
  },
  {
   "cell_type": "code",
   "execution_count": 32,
   "id": "c4d590fe",
   "metadata": {},
   "outputs": [],
   "source": [
    "#serialization\n",
    "import json\n",
    "f = open('sampledata.txt','w')\n",
    "student = {'Name' :'Marif','City' : 'dubai','DOB' : 1997}\n",
    "json.dump(student,f)\n",
    "f.close()\n"
   ]
  },
  {
   "cell_type": "code",
   "execution_count": 34,
   "id": "59b7d527",
   "metadata": {},
   "outputs": [
    {
     "name": "stdout",
     "output_type": "stream",
     "text": [
      "The data read is :  {'Name': 'Marif', 'City': 'dubai', 'DOB': 1997} <class 'dict'>\n"
     ]
    }
   ],
   "source": [
    "#Deserialization\n",
    "import json\n",
    "f = open('sampledata.txt','r')\n",
    "student = json.load(f)\n",
    "print('The data read is : ',student,type(student))\n",
    "f.close()"
   ]
  },
  {
   "cell_type": "code",
   "execution_count": 44,
   "id": "cc2852f7",
   "metadata": {},
   "outputs": [
    {
     "name": "stdout",
     "output_type": "stream",
     "text": [
      "The current working directory is :\n",
      "\n",
      "C:\\Users\\navee\\Documents\\Python_Practice\n",
      "\n",
      "List contents of Directory...\n",
      "\n",
      "['.ipynb_checkpoints', 'messages.txt', 'mynewfile.txt', 'sampledata.txt', 'text.txt', 'week 1 challenges.ipynb', 'WEEK 1 Programs & Practice .ipynb', 'WEEK 2 CHALLENGES.ipynb', 'WEEK 3 CHALLENGE Chandu.ipynb', 'WEEK 4 CHALLENGE.ipynb', 'WEEK 5 CHALLENGE CHANDU.ipynb', 'WEEK-2 Programs & Practice .ipynb', 'WEEK-3 Programs & Practice .ipynb', 'WEEK-4 Programs & Practice .ipynb', 'WEEK-5 Programs & Practice .ipynb', 'WEEK-6 Programs & Practice .ipynb']\n",
      "\n",
      "Create mydir\n",
      "\n",
      "The updated list of directories...\n",
      "\n",
      "['.ipynb_checkpoints', 'messages.txt', 'mydir', 'mynewfile.txt', 'sampledata.txt', 'text.txt', 'week 1 challenges.ipynb', 'WEEK 1 Programs & Practice .ipynb', 'WEEK 2 CHALLENGES.ipynb', 'WEEK 3 CHALLENGE Chandu.ipynb', 'WEEK 4 CHALLENGE.ipynb', 'WEEK 5 CHALLENGE CHANDU.ipynb', 'WEEK-2 Programs & Practice .ipynb', 'WEEK-3 Programs & Practice .ipynb', 'WEEK-4 Programs & Practice .ipynb', 'WEEK-5 Programs & Practice .ipynb', 'WEEK-6 Programs & Practice .ipynb']\n"
     ]
    }
   ],
   "source": [
    "# Directory Operations\n",
    "import os\n",
    "print('The current working directory is :\\n')\n",
    "print(os.getcwd())\n",
    "print('\\nList contents of Directory...\\n')\n",
    "print(os.listdir())\n",
    "print('\\nCreate mydir')\n",
    "os.mkdir('mydir')\n",
    "print('\\nThe updated list of directories...\\n')\n",
    "print(os.listdir())"
   ]
  },
  {
   "cell_type": "code",
   "execution_count": 45,
   "id": "aa76d129",
   "metadata": {},
   "outputs": [
    {
     "name": "stdout",
     "output_type": "stream",
     "text": [
      "Change Directory into mydir\n",
      "\n",
      "Current working directory is :  C:\\Users\\navee\\Documents\\Python_Practice\\mydir\n"
     ]
    }
   ],
   "source": [
    "print('Change Directory into mydir\\n')\n",
    "os.chdir('mydir')\n",
    "print('Current working directory is : ',os.getcwd())\n"
   ]
  },
  {
   "cell_type": "code",
   "execution_count": 46,
   "id": "ece65dc2",
   "metadata": {},
   "outputs": [
    {
     "name": "stdout",
     "output_type": "stream",
     "text": [
      "Change back to parent directory\n",
      "Changed to parent directory \n",
      "Current working directory is : C:\\Users\\navee\\Documents\\Python_Practice\n"
     ]
    }
   ],
   "source": [
    "print('Change back to parent directory')\n",
    "os.chdir('..')\n",
    "print(\"Changed to parent directory \")\n",
    "print('Current working directory is :',os.getcwd())\n"
   ]
  },
  {
   "cell_type": "code",
   "execution_count": 53,
   "id": "aa3d033b",
   "metadata": {},
   "outputs": [
    {
     "name": "stdout",
     "output_type": "stream",
     "text": [
      "Remove mydir\n",
      "\n",
      "List of resulting content directories are:\n",
      "\n",
      "['.ipynb_checkpoints', 'messages.txt', 'mynewfile.txt', 'sampledata.txt', 'text.txt', 'week 1 challenges.ipynb', 'WEEK 1 Programs & Practice .ipynb', 'WEEK 2 CHALLENGES.ipynb', 'WEEK 3 CHALLENGE Chandu.ipynb', 'WEEK 4 CHALLENGE.ipynb', 'WEEK 5 CHALLENGE CHANDU.ipynb', 'WEEK-2 Programs & Practice .ipynb', 'WEEK-3 Programs & Practice .ipynb', 'WEEK-4 Programs & Practice .ipynb', 'WEEK-5 Programs & Practice .ipynb', 'WEEK-6 Programs & Practice .ipynb']\n"
     ]
    }
   ],
   "source": [
    "print('Remove mydir\\n')\n",
    "os.rmdir('mydir')\n",
    "print('List of resulting content directories are:\\n')\n",
    "print(os.listdir())"
   ]
  },
  {
   "cell_type": "code",
   "execution_count": 55,
   "id": "54c06774",
   "metadata": {},
   "outputs": [
    {
     "name": "stdout",
     "output_type": "stream",
     "text": [
      "Enter the name of source file: messages.txt\n",
      "Enter the name of destination file: copy messages.txt\n"
     ]
    }
   ],
   "source": [
    "# file copy application \n",
    "source_file = input('Enter the name of source file: ')\n",
    "destination_file = input('Enter the name of destination file: ')\n",
    "f1 = open(source_file,'r')\n",
    "f2=open(destination_file,'w')\n",
    "while True:\n",
    "    data = f1.read(1)\n",
    "    if data == '':\n",
    "        break\n",
    "    f2.write(data)\n",
    "f1.close()\n",
    "f2.close()"
   ]
  },
  {
   "cell_type": "code",
   "execution_count": 57,
   "id": "1895c37f",
   "metadata": {},
   "outputs": [
    {
     "name": "stdout",
     "output_type": "stream",
     "text": [
      "Hello world!\n",
      "welcome to python programming\n",
      "this is week 6 its all about files and modules\n",
      "read and write files \n"
     ]
    }
   ],
   "source": [
    "with open('copy messages.txt','r') as f:\n",
    "    for line in f:\n",
    "        print(line,end='')\n",
    "        "
   ]
  },
  {
   "cell_type": "code",
   "execution_count": 58,
   "id": "d4357ac8",
   "metadata": {},
   "outputs": [
    {
     "name": "stdout",
     "output_type": "stream",
     "text": [
      "Enter the name of source file: messages.txt\n",
      "Enter the name of the destination file: copy messages.txt\n"
     ]
    }
   ],
   "source": [
    "# file append application \n",
    "\n",
    "source_file = input('Enter the name of source file: ')\n",
    "destination_file = input('Enter the name of the destination file: ')\n",
    "f1 = open(source_file,'r')\n",
    "f2 = open(destination_file,'a')\n",
    "while True:\n",
    "    data = f1.read(1)\n",
    "    if data == '':\n",
    "        break\n",
    "    f2.write(data)\n",
    "f1.close()\n",
    "f2.close()"
   ]
  },
  {
   "cell_type": "code",
   "execution_count": 68,
   "id": "0fd3507c",
   "metadata": {},
   "outputs": [
    {
     "name": "stdout",
     "output_type": "stream",
     "text": [
      "Enter x value: 4\n",
      "Enter y value: 5\n",
      "sum of  4 and 5 is:  9\n",
      "multiplication of  4 and 5 is:  20\n",
      "subtraction of  4 and 5 is:  -1\n",
      "division of  4 and 5 is:  0.8\n",
      "modular division of  4 and 5 is:  4\n"
     ]
    }
   ],
   "source": [
    "# create a mymath module in a file called mymath.py\n",
    "\n",
    "import mymath\n",
    "\n",
    "x = int(input('Enter x value: '))\n",
    "y = int(input('Enter y value: '))\n",
    "\n",
    "print('sum of ',x,'and',y,'is: ',mymath.add(x,y))\n",
    "print('multiplication of ',x,'and',y,'is: ',mymath.mul(x,y))\n",
    "print('subtraction of ',x,'and',y,'is: ',mymath.sub(x,y))\n",
    "print('division of ',x,'and',y,'is: ',mymath.div(x,y))\n",
    "print('modular division of ',x,'and',y,'is: ',mymath.mod(x,y))"
   ]
  },
  {
   "cell_type": "code",
   "execution_count": 67,
   "id": "b61e38a4",
   "metadata": {},
   "outputs": [
    {
     "name": "stdout",
     "output_type": "stream",
     "text": [
      "The name of mymath module is:  mymath\n",
      "The docstring of mymath module is:   This module implements basic mathematical operations \n",
      "The name of the file in which mymath module is:  C:\\Users\\navee\\Documents\\Python_Practice\\mymath.py\n"
     ]
    }
   ],
   "source": [
    "# access module properties\n",
    "\n",
    "print('The name of mymath module is: ',mymath.__name__)\n",
    "print('The docstring of mymath module is: ',mymath.__doc__)\n",
    "print('The name of the file in which mymath module is: ',mymath.__file__)"
   ]
  },
  {
   "cell_type": "code",
   "execution_count": 70,
   "id": "c9c620b3",
   "metadata": {},
   "outputs": [
    {
     "name": "stdout",
     "output_type": "stream",
     "text": [
      "sys.version : 3.9.12 (main, Apr  4 2022, 05:22:27) [MSC v.1916 64 bit (AMD64)]\n",
      "sys.maxsize :  9223372036854775807\n",
      "sys.platform : win32\n",
      "sys.path :  ['C:\\\\Users\\\\navee\\\\Documents\\\\Python_Practice', 'C:\\\\ProgramData\\\\Anaconda3\\\\python39.zip', 'C:\\\\ProgramData\\\\Anaconda3\\\\DLLs', 'C:\\\\ProgramData\\\\Anaconda3\\\\lib', 'C:\\\\ProgramData\\\\Anaconda3', '', 'C:\\\\ProgramData\\\\Anaconda3\\\\lib\\\\site-packages', 'C:\\\\ProgramData\\\\Anaconda3\\\\lib\\\\site-packages\\\\win32', 'C:\\\\ProgramData\\\\Anaconda3\\\\lib\\\\site-packages\\\\win32\\\\lib', 'C:\\\\ProgramData\\\\Anaconda3\\\\lib\\\\site-packages\\\\Pythonwin']\n"
     ]
    }
   ],
   "source": [
    "#accessing the properties of sys module \n",
    "import sys\n",
    "print('sys.version :',sys.version)\n",
    "print('sys.maxsize : ',sys.maxsize)\n",
    "print('sys.platform :',sys.platform)\n",
    "print('sys.path : ',sys.path)"
   ]
  },
  {
   "cell_type": "code",
   "execution_count": 72,
   "id": "ad26f02b",
   "metadata": {},
   "outputs": [
    {
     "name": "stdout",
     "output_type": "stream",
     "text": [
      "Enter a string: Python\n",
      "Enter another string : programming\n",
      "Length of Python is 6\n",
      "Length of programming is 11\n",
      "Result of string comparision is :  False\n",
      "Result of string concatination is :  Pythonprogramming\n",
      "Enter x value: 5\n",
      "Enter y value: 6\n",
      "sum of  5 and 6 is:  11\n",
      "multiplication of  5 and 6 is:  30\n",
      "subtraction of  5 and 6 is:  -1\n",
      "division of  5 and 6 is:  0.8333333333333334\n",
      "modular division of  5 and 6 is:  5\n"
     ]
    }
   ],
   "source": [
    "# create a package called mypack with the modules mymath and mystr\n",
    "import mypack.mystr as ms\n",
    "#or \n",
    "from mypack.mymath import *\n",
    "str1 = input('Enter a string: ')\n",
    "str2 = input('Enter another string : ')\n",
    "print('Length of',str1,'is',ms.str_len(str1))\n",
    "print('Length of',str2,'is',ms.str_len(str2))\n",
    "print('Result of string comparision is : ',ms.str_cmp(str1,str2))\n",
    "print('Result of string concatination is : ',ms.str_con(str1,str2))\n",
    "\n",
    "\n",
    "x = int(input('Enter x value: '))\n",
    "y = int(input('Enter y value: '))\n",
    "\n",
    "print('sum of ',x,'and',y,'is: ',mymath.add(x,y))\n",
    "print('multiplication of ',x,'and',y,'is: ',mymath.mul(x,y))\n",
    "print('subtraction of ',x,'and',y,'is: ',mymath.sub(x,y))\n",
    "print('division of ',x,'and',y,'is: ',mymath.div(x,y))\n",
    "print('modular division of ',x,'and',y,'is: ',mymath.mod(x,y))"
   ]
  },
  {
   "cell_type": "code",
   "execution_count": 74,
   "id": "049db0d4",
   "metadata": {},
   "outputs": [
    {
     "name": "stdout",
     "output_type": "stream",
     "text": [
      "Enter a file name in this directory: copy messages.txt\n",
      "The size of the file is:  (232, 'bytes')\n"
     ]
    }
   ],
   "source": [
    "import mypack.myfile as mf\n",
    "\n",
    "filename = input('Enter a file name in this directory: ')\n",
    "print('The size of the file is: ',mf.file_size(filename))"
   ]
  },
  {
   "cell_type": "code",
   "execution_count": null,
   "id": "20940323",
   "metadata": {},
   "outputs": [],
   "source": []
  }
 ],
 "metadata": {
  "kernelspec": {
   "display_name": "Python 3 (ipykernel)",
   "language": "python",
   "name": "python3"
  },
  "language_info": {
   "codemirror_mode": {
    "name": "ipython",
    "version": 3
   },
   "file_extension": ".py",
   "mimetype": "text/x-python",
   "name": "python",
   "nbconvert_exporter": "python",
   "pygments_lexer": "ipython3",
   "version": "3.9.12"
  }
 },
 "nbformat": 4,
 "nbformat_minor": 5
}
