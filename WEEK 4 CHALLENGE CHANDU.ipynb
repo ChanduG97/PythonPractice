{
 "cells": [
  {
   "cell_type": "markdown",
   "id": "ca9a2e48",
   "metadata": {},
   "source": [
    "# WEEK 4 CHALLENGE CHANDU\n"
   ]
  },
  {
   "cell_type": "markdown",
   "id": "f2f77563",
   "metadata": {},
   "source": [
    "### 1. A set contains names which begin either with A or with B. Write a program to separate the names into two sets, one containing names beginning with A and the other containing names beginning with B"
   ]
  },
  {
   "cell_type": "code",
   "execution_count": 7,
   "id": "0bed1938",
   "metadata": {},
   "outputs": [
    {
     "name": "stdout",
     "output_type": "stream",
     "text": [
      "Name Chandu  does not starts with a or b \n",
      "Names starts with a in set1 : {'Anil', 'Akshitha', 'aneesha', 'avinash'}\n",
      "Names starts with b in set2 : {'Baby', 'Babu', 'banti', 'bala'}\n"
     ]
    }
   ],
   "source": [
    "s1 = set()\n",
    "s2 = set()\n",
    "names = {'Anil','aneesha','Babu','Baby','avinash','bala','banti','Akshitha','Chandu'}\n",
    "for i in names:\n",
    "    if i.startswith('a'):\n",
    "        s1.add(i)\n",
    "    elif i.startswith('A'):\n",
    "        s1.add(i)\n",
    "    elif i.startswith('b'):\n",
    "        s2.add(i)\n",
    "    elif i.startswith('B'):\n",
    "        s2.add(i)\n",
    "    else:\n",
    "        print('Name',i,' does not starts with a or b ')\n",
    "print('Names starts with a in set1 :',s1)\n",
    "print('Names starts with b in set2 :',s2)"
   ]
  },
  {
   "cell_type": "markdown",
   "id": "00b0fba8",
   "metadata": {},
   "source": [
    "### 2. Create a list of tuples. Each tuple should contain an item and its price in float. Write a program to print each item and its price in a proper format"
   ]
  },
  {
   "cell_type": "code",
   "execution_count": 12,
   "id": "240a3a3b",
   "metadata": {},
   "outputs": [
    {
     "name": "stdout",
     "output_type": "stream",
     "text": [
      "item : ('apple', 100.5)\n",
      "item : ('banana', 50.0)\n",
      "item : ('kiwi', 200.5)\n",
      "item : ('orange', 80.5)\n",
      "The items and its price is: [('apple', 100.5), ('banana', 50.0), ('kiwi', 200.5), ('orange', 80.5)]\n"
     ]
    }
   ],
   "source": [
    "tuple = [('apple',100.5),('banana',50.0),('kiwi',200.5),('orange',80.5)]\n",
    "for i in tuple:\n",
    "    print ('item :',i)\n",
    "print ('The items and its price is:',tuple)"
   ]
  },
  {
   "cell_type": "markdown",
   "id": "d14d6436",
   "metadata": {},
   "source": [
    "### 3. Write a program that reads integers from the user and stores them in a list. Your program should continue reading values until the user enters 0. Then it should display all of the values entered by the user (except for the 0) in order from smallest to largest, with one value appearing on each line. Use either the sort method or the sorted function to sort the list."
   ]
  },
  {
   "cell_type": "code",
   "execution_count": 9,
   "id": "87e4eebb",
   "metadata": {},
   "outputs": [
    {
     "name": "stdout",
     "output_type": "stream",
     "text": [
      "Enter the integer :10\n",
      "Enter the integer :32\n",
      "Enter the integer :45\n",
      "Enter the integer :9\n",
      "Enter the integer :12\n",
      "Enter the integer :8\n",
      "Enter the integer :0\n",
      "The sorted values are:  [0, 8, 9, 10, 12, 32, 45]\n"
     ]
    }
   ],
   "source": [
    "list1 = list()\n",
    "count= 0\n",
    "n = 1\n",
    "while n != 0:\n",
    "    num = int(input(\"Enter the integer :\"))\n",
    "    list1.insert(count,num)\n",
    "    count += 1\n",
    "    n =  num\n",
    "list1.sort()\n",
    "print('The sorted values are: ',list1)"
   ]
  },
  {
   "cell_type": "markdown",
   "id": "9539ebf3",
   "metadata": {},
   "source": [
    "### 4. Write a program to read a list of numbers from the user and remove the two largest and two smallest values from it. Display the list with the values removed, followed by the original list. Your program should generate an appropriate error message if the user enters less than 5 values.\n",
    "\n"
   ]
  },
  {
   "cell_type": "code",
   "execution_count": 13,
   "id": "4011eb37",
   "metadata": {},
   "outputs": [
    {
     "name": "stdout",
     "output_type": "stream",
     "text": [
      "Enter the list of numbers5\n",
      "Enter the numbers:1\n",
      "Enter the numbers:2\n",
      "Enter the numbers:14\n",
      "Enter the numbers:15\n",
      "Enter the numbers:12\n",
      "Remove the two largest values are : [14, 15]\n",
      "Remove the two smallest values are : [1, 2]\n",
      "Remove values are: [14, 15] [1, 2]\n",
      "Original List : [1, 2, 12, 14, 15]\n"
     ]
    }
   ],
   "source": [
    "num = int(input(\"Enter the list of numbers\"))\n",
    "l1 = list()\n",
    "count = 0\n",
    "if num >= 5:\n",
    "        for i in range(num):\n",
    "            n = int(input(\"Enter the numbers:\"))\n",
    "            l1.append(n)\n",
    "            count += 1\n",
    "        l1.sort()\n",
    "        l2=l1.copy()\n",
    "        print(\"Remove the two largest values are :\",l1[-2:])\n",
    "        print(\"Remove the two smallest values are :\",l1[:2])\n",
    "        print(\"Remove values are:\",l1[-2:],l1[:2])\n",
    "        print(\"Original List :\",l2)\n",
    "else:\n",
    "        print(\"Error , You enter less than 5 values\")"
   ]
  },
  {
   "cell_type": "markdown",
   "id": "1bc8de87",
   "metadata": {},
   "source": [
    "### 5. In this exercise, you will create a program that reads words from the user until the user enters a blank line. After the user enters a blank line your program should display each word entered by the user exactly once.\n"
   ]
  },
  {
   "cell_type": "code",
   "execution_count": 16,
   "id": "b624f3c4",
   "metadata": {},
   "outputs": [
    {
     "name": "stdout",
     "output_type": "stream",
     "text": [
      "Enter a word:chandu\n",
      "Enter a word until enters a black line:india\n",
      "Enter a word until enters a black line:lokesh\n",
      "Enter a word until enters a black line:canada\n",
      "Enter a word until enters a black line:marif\n",
      "Enter a word until enters a black line:dubai\n",
      "Enter a word until enters a black line:chandu\n",
      "Enter a word until enters a black line:india\n",
      "Enter a word until enters a black line:marif\n",
      "Enter a word until enters a black line:dubai\n",
      "Enter a word until enters a black line:\n",
      "your all letters are : ['chandu', 'india', 'lokesh', 'canada', 'marif', 'dubai']\n"
     ]
    }
   ],
   "source": [
    "words  = []\n",
    "word = input(\"Enter a word:\")\n",
    "while word !='':\n",
    "    if word not in words:\n",
    "            words.append(word)\n",
    "    word = input ('Enter a word until enters a black line:')\n",
    "print ('your all letters are :',words)"
   ]
  },
  {
   "cell_type": "markdown",
   "id": "4d6bdb57",
   "metadata": {},
   "source": [
    "### 6. Write a program that reads numbers from the user until a 0 is entered. Your program should display the average of all of the values entered by the user. Then the program should display all of the below average values, followed by all of the average values (if any), followed by all of the above average values. An appropriate label should be displayed before each list of values."
   ]
  },
  {
   "cell_type": "code",
   "execution_count": 22,
   "id": "8caa355c",
   "metadata": {},
   "outputs": [
    {
     "name": "stdout",
     "output_type": "stream",
     "text": [
      "Enter the numbers : 9\n",
      "Enter the numbers : 45\n",
      "Enter the numbers : 85\n",
      "Enter the numbers : 75\n",
      "Enter the numbers : 65\n",
      "Enter the numbers : 31\n",
      "Enter the numbers : 2\n",
      "Enter the numbers : 6\n",
      "Enter the numbers : 5\n",
      "Enter the numbers : 0\n",
      "Average of the numbers is:  32.3\n",
      "The below average number is :  [9, 31, 2, 6, 5]\n",
      "The above average number is :  [45, 85, 75, 65]\n"
     ]
    }
   ],
   "source": [
    "list1 = list()\n",
    "below1 = list()\n",
    "above1 = list()\n",
    "sum = 0 \n",
    "count = 1\n",
    "while True:\n",
    "    num = int(input('Enter the numbers : '))\n",
    "    if num == 0:\n",
    "        break\n",
    "    else:\n",
    "        list1.append(num)\n",
    "        sum += num\n",
    "        count += 1\n",
    "avg = sum /count\n",
    "print('Average of the numbers is: ',avg)\n",
    "for i in list1:\n",
    "    if avg>i:\n",
    "        below1.append(i)\n",
    "    else:\n",
    "        above1.append(i)\n",
    "print('The below average number is : ',below1)\n",
    "print('The above average number is : ',above1)"
   ]
  },
  {
   "cell_type": "markdown",
   "id": "3977c3fe",
   "metadata": {},
   "source": [
    "### 7. Create a program that determines and displays the number of unique characters in a string entered by the user. For example, Hello World! has 9 unique characters while zzz has only one unique character. Use a dictionary to solve this problem."
   ]
  },
  {
   "cell_type": "code",
   "execution_count": 28,
   "id": "7aa40bf9",
   "metadata": {},
   "outputs": [
    {
     "name": "stdout",
     "output_type": "stream",
     "text": [
      "Enter a sentance: python tuples sets dictionary and lists\n",
      "Number of unique characters are:  16\n"
     ]
    }
   ],
   "source": [
    "sentance = input('Enter a sentance: ')\n",
    "d = dict()\n",
    "for i in sentance:\n",
    "    if i not in d:\n",
    "        d[i]=1\n",
    "    else:\n",
    "        d[i]+=1\n",
    "print('Number of unique characters are: ',len(d))"
   ]
  },
  {
   "cell_type": "markdown",
   "id": "727e9d7a",
   "metadata": {},
   "source": [
    "### 8. Two words are anagrams if they contain all of the same letters, but in a different order. For example, “evil” and “live” are anagrams because each contains one e, one i, one l, and one v. Create a program that reads two strings from the user, determines whether or not they are anagrams, and reports the result."
   ]
  },
  {
   "cell_type": "code",
   "execution_count": 36,
   "id": "723cbdd3",
   "metadata": {},
   "outputs": [
    {
     "name": "stdout",
     "output_type": "stream",
     "text": [
      "Enter the first sentance: lane\n",
      "Enter the second sentance: nale\n",
      "The word lane and nale is an Anagram\n"
     ]
    }
   ],
   "source": [
    "str1 = input('Enter the first sentance: ')\n",
    "str2 = input('Enter the second sentance: ')\n",
    "len1 = len(str1)\n",
    "len2 = len(str2)\n",
    "count = 0\n",
    "for i in str1.lower():\n",
    "    for j in str2.lower():\n",
    "        if i in j:\n",
    "            count+=1\n",
    "        continue\n",
    "if count == len1 and count == len2 and len1 == len2:\n",
    "    print('The word',str1,\"and\",str2,'is an Anagram')\n",
    "else:\n",
    "    print('The word',str1,\"and\",str2,'is not an Anagram')"
   ]
  },
  {
   "cell_type": "markdown",
   "id": "e667ee0d",
   "metadata": {},
   "source": [
    "### 9. An integer, n, is said to be perfect when the sum of all of the proper divisors of n is equal to n. For example, 28 is a perfect number because its proper divisors are 1, 2, 4, 7 and 14, and 1 + 2 + 4 + 7 + 14 = 28. Write a program that determines whether or not a positive integer is perfect. Your program will accept a number from the user. If that number is a perfect number then your program will display true. Otherwise it will display false."
   ]
  },
  {
   "cell_type": "code",
   "execution_count": 38,
   "id": "98be1cb4",
   "metadata": {},
   "outputs": [
    {
     "name": "stdout",
     "output_type": "stream",
     "text": [
      "Enter an integer :28\n",
      "The number 28 is a perfect number TRUE\n"
     ]
    }
   ],
   "source": [
    "n = int(input(\"Enter an integer :\"))\n",
    "sum = 0\n",
    "for i in range(1,n):\n",
    "      if n % i == 0:\n",
    "        sum += i\n",
    "if sum == n:\n",
    "        print(\"The number\",n,\"is a perfect number TRUE\")\n",
    "else:\n",
    "        print(\"The number\",n,\"is not a perfect number  FALSE\")"
   ]
  },
  {
   "cell_type": "markdown",
   "id": "5be18039",
   "metadata": {},
   "source": [
    "### 10. Write a program that finds all of the keys in a dictionary that map to a specific value. The program will take the value to search for as its input. It will display a (possibly empty) list of keys from the dictionary that map to the provided value."
   ]
  },
  {
   "cell_type": "code",
   "execution_count": 42,
   "id": "7c22858a",
   "metadata": {},
   "outputs": [
    {
     "name": "stdout",
     "output_type": "stream",
     "text": [
      "Enter the value to search :Mumbai\n",
      "The values will map the keys:  ['Maharastra']\n"
     ]
    }
   ],
   "source": [
    "str1 = input(\"Enter the value to search :\")\n",
    "capitals = {'Telangana':'Hyderabad', 'Tamil Nadu':'Chennai', 'Andhra Pradesh':'Hyderabad',\n",
    "               'Karnataka':'Bengaluru','Maharastra':'Mumbai'}\n",
    "print(\"The values will map the keys: \",list(key for key, value in capitals.items() if value == str1))"
   ]
  }
 ],
 "metadata": {
  "kernelspec": {
   "display_name": "Python 3 (ipykernel)",
   "language": "python",
   "name": "python3"
  },
  "language_info": {
   "codemirror_mode": {
    "name": "ipython",
    "version": 3
   },
   "file_extension": ".py",
   "mimetype": "text/x-python",
   "name": "python",
   "nbconvert_exporter": "python",
   "pygments_lexer": "ipython3",
   "version": "3.9.12"
  }
 },
 "nbformat": 4,
 "nbformat_minor": 5
}
