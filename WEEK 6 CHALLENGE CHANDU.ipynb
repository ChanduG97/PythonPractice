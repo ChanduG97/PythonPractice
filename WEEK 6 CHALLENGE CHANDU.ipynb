{
 "cells": [
  {
   "cell_type": "markdown",
   "id": "c05cb47f",
   "metadata": {},
   "source": [
    "# WEEK 6 CHALLENGE CHANDU"
   ]
  },
  {
   "cell_type": "markdown",
   "id": "b19494e7",
   "metadata": {},
   "source": [
    "### 1.Write a program that read contents of the file ‘messages’ one character at a time and prints each character that is read."
   ]
  },
  {
   "cell_type": "code",
   "execution_count": 1,
   "id": "6f2e311a",
   "metadata": {},
   "outputs": [
    {
     "name": "stdout",
     "output_type": "stream",
     "text": [
      "Hello world!\n",
      "welcome to python programming\n",
      "this is week 6 its all about files and modules\n",
      "read and write files \n"
     ]
    }
   ],
   "source": [
    "f1 = open('messages.txt','r') # opening file in read mode\n",
    "\n",
    "lines = f1.read() # reading all the lines of the file in a list called lines\n",
    "\n",
    "for line in lines: # iterate through the list one item ata time\n",
    "    print(line,end='')\n",
    "    \n",
    "f1.close()"
   ]
  },
  {
   "cell_type": "markdown",
   "id": "4f1e6029",
   "metadata": {},
   "source": [
    "### 2.Write a Python program that searches for a file, obtains its size and reports the size in bytes/ KB/ MB as appropriate"
   ]
  },
  {
   "cell_type": "code",
   "execution_count": 3,
   "id": "7039b2b4",
   "metadata": {},
   "outputs": [
    {
     "name": "stdout",
     "output_type": "stream",
     "text": [
      "Enter the file name :copy messages.txt\n",
      "The size of file is  (232, 'bytes')\n"
     ]
    }
   ],
   "source": [
    "import mypack.myfile as mf\n",
    "\n",
    "filename = input('Enter the file name :')\n",
    "\n",
    "print('The size of file is ',mf.file_size(filename))"
   ]
  },
  {
   "cell_type": "markdown",
   "id": "d5a6670f",
   "metadata": {},
   "source": [
    "### 3.Write a program to accept a filename from the user, create a file with that name(if it does not exist) and write some content into the file"
   ]
  },
  {
   "cell_type": "code",
   "execution_count": 4,
   "id": "9813c942",
   "metadata": {},
   "outputs": [
    {
     "name": "stdout",
     "output_type": "stream",
     "text": [
      "Enter a file name :challenge\n",
      "My name is Chandu\n",
      "\n",
      "I am on Week 6 currently on Python programming\n",
      "\n",
      "Completing the challenge \n",
      "\n"
     ]
    }
   ],
   "source": [
    "import json\n",
    "\n",
    "file_name = input('Enter a file name :')\n",
    "\n",
    "file = open(file_name,'w')\n",
    "\n",
    "file.write('My name is Chandu\\n')\n",
    "\n",
    "file.write('I am on Week 6 currently on Python programming\\n')\n",
    "file.write('Completing the challenge \\n')\n",
    "\n",
    "file = open(file_name,'r')\n",
    "\n",
    "lines = file.readlines()\n",
    "for line in lines:\n",
    "    print(line)"
   ]
  },
  {
   "cell_type": "markdown",
   "id": "fc9afa2f",
   "metadata": {},
   "source": [
    "### 4.Write a program to read a file and display its contents along with line numbers before each line"
   ]
  },
  {
   "cell_type": "code",
   "execution_count": 5,
   "id": "2731e23a",
   "metadata": {},
   "outputs": [
    {
     "name": "stdout",
     "output_type": "stream",
     "text": [
      "Line1: My name is Chandu\n",
      "Line2: I like to play shuttle badminton\n",
      "Line3: I love to travel\n"
     ]
    }
   ],
   "source": [
    "my_hob = [\"My name is Chandu \\n\", \"I like to play shuttle badminton \\n\", \"I love to travel \\n\"]\n",
    "  \n",
    "with open(\"myhob.txt\", \"w\") as mh:\n",
    "    mh.writelines(my_hob)\n",
    "\n",
    "count = 0\n",
    "  \n",
    "with open(\"myhob.txt\") as mh:\n",
    "    Lines = mh.readlines()\n",
    "    for line in Lines:\n",
    "        count += 1\n",
    "        print(\"Line{}: {}\".format(count, line.strip()))"
   ]
  },
  {
   "cell_type": "markdown",
   "id": "6bb06102",
   "metadata": {},
   "source": [
    "### 5.Write a program to copy the contents of one file into another"
   ]
  },
  {
   "cell_type": "code",
   "execution_count": 8,
   "id": "82138553",
   "metadata": {},
   "outputs": [
    {
     "name": "stdout",
     "output_type": "stream",
     "text": [
      "Enter the name of source file :messages.txt\n",
      "Enter the name of the destination :new messages.txt\n"
     ]
    }
   ],
   "source": [
    "source_file = input(\"Enter the name of source file :\")\n",
    "\n",
    "destination_file = input(\"Enter the name of the destination :\")\n",
    "\n",
    "f1 = open(source_file,'r')\n",
    "\n",
    "f2 = open(destination_file,'w') # opening the file in write mode\n",
    "\n",
    "while True:\n",
    "    data = f1.read(1)\n",
    "    if data == '':\n",
    "        break\n",
    "    f2.write(data)\n",
    "\n",
    "f1.close()\n",
    "f2.close()"
   ]
  },
  {
   "cell_type": "markdown",
   "id": "d6a5a961",
   "metadata": {},
   "source": [
    "### 6. Write a program to append the contents of one file into another"
   ]
  },
  {
   "cell_type": "code",
   "execution_count": 10,
   "id": "62cebe4c",
   "metadata": {},
   "outputs": [
    {
     "name": "stdout",
     "output_type": "stream",
     "text": [
      "Enter the name of source file :messages.txt\n",
      "Enter the name of the destination :new messages.txt\n"
     ]
    }
   ],
   "source": [
    "source_file = input(\"Enter the name of source file :\")\n",
    "\n",
    "destination_file = input(\"Enter the name of the destination :\")\n",
    "\n",
    "f1 = open(source_file,'r')\n",
    "\n",
    "f2 = open(destination_file,'a') # opening the file in append mode\n",
    "\n",
    "while True:\n",
    "    data = f1.read(1)\n",
    "    if data == '':\n",
    "        break\n",
    "    f2.write(data)\n",
    "\n",
    "f1.close()\n",
    "f2.close()\n"
   ]
  },
  {
   "cell_type": "code",
   "execution_count": 11,
   "id": "994f8106",
   "metadata": {},
   "outputs": [
    {
     "name": "stdout",
     "output_type": "stream",
     "text": [
      "Hello world!\n",
      "welcome to python programming\n",
      "this is week 6 its all about files and modules\n",
      "read and write files \n",
      "Hello world!\n",
      "welcome to python programming\n",
      "this is week 6 its all about files and modules\n",
      "read and write files \n",
      "Hello world!\n",
      "welcome to python programming\n",
      "this is week 6 its all about files and modules\n",
      "read and write files \n"
     ]
    }
   ],
   "source": [
    "with open('new messages.txt','r') as f:\n",
    "    for line in f:\n",
    "        print(line,end='')\n",
    "        "
   ]
  },
  {
   "cell_type": "markdown",
   "id": "af68704e",
   "metadata": {},
   "source": [
    "### 7.Suppose a file contains student records, with each record containing name and age of student. Write a program to read these records and display them in sorted order by name"
   ]
  },
  {
   "cell_type": "code",
   "execution_count": 16,
   "id": "30d27e08",
   "metadata": {},
   "outputs": [],
   "source": [
    "import json\n",
    "\n",
    "f = open('student_record','w')\n",
    "\n",
    "student = {'Loki':24,'Chandu':25,'Marif':26}\n",
    "\n",
    "json.dump(student,f)\n",
    "\n",
    "f.close()\n"
   ]
  },
  {
   "cell_type": "code",
   "execution_count": 17,
   "id": "b228107d",
   "metadata": {},
   "outputs": [
    {
     "name": "stdout",
     "output_type": "stream",
     "text": [
      "{'Loki': 24, 'Chandu': 25, 'Marif': 26}\n",
      "Chandu : 25\n",
      "Loki : 24\n",
      "Marif : 26\n"
     ]
    }
   ],
   "source": [
    "import json \n",
    "\n",
    "f = open('student_record','r')\n",
    "\n",
    "student = json.load(f)\n",
    "\n",
    "print(student)\n",
    "\n",
    "for line in sorted(student):\n",
    "    print(line ,':' , student[line])"
   ]
  },
  {
   "cell_type": "markdown",
   "id": "983699e0",
   "metadata": {},
   "source": [
    "### 8.Suppose there are three modules m1.py, m2.py and m3.py containing functions f1(), f2() and f3() respectively. Write a program to use these functions"
   ]
  },
  {
   "cell_type": "code",
   "execution_count": 26,
   "id": "f760ba67",
   "metadata": {},
   "outputs": [
    {
     "name": "stdout",
     "output_type": "stream",
     "text": [
      "Enter the first number :4\n",
      "Enter the second number :5\n",
      "The addition of 4 and 5 is 9\n",
      "Enter the first number :4\n",
      "Enter the second number :5\n",
      "The substraction of 4 and 5 is -1\n",
      "Enter the first number :4\n",
      "Enter the second number :5\n",
      "The multiplcation of 4 and 5 is 20\n"
     ]
    }
   ],
   "source": [
    "import mypack.m1 as f1\n",
    "num1 = int(input('Enter the first number :'))\n",
    "num2 = int(input('Enter the second number :'))\n",
    "print('The addition of',num1,'and',num2,'is',f1.add(num1,num2))\n",
    "\n",
    "import mypack.m2 as f2\n",
    "num1 = int(input('Enter the first number :'))\n",
    "num2 = int(input('Enter the second number :'))\n",
    "print('The substraction of',num1,'and',num2,'is',f2.sub(num1,num2))\n",
    "\n",
    "\n",
    "import mypack.m3 as f3\n",
    "num1 = int(input('Enter the first number :'))\n",
    "num2 = int(input('Enter the second number :'))\n",
    "print('The multiplcation of',num1,'and',num2,'is',f3.mul(num1,num2))"
   ]
  },
  {
   "cell_type": "markdown",
   "id": "6540b9fc",
   "metadata": {},
   "source": [
    "### 9.Write a program containing functions fun1(), fun2() and fun3() and some statements. Add suitable code to the program such that you can use it as a module or a normal program"
   ]
  },
  {
   "cell_type": "code",
   "execution_count": 32,
   "id": "e0c5b987",
   "metadata": {},
   "outputs": [
    {
     "name": "stdout",
     "output_type": "stream",
     "text": [
      "Enter a string :chandu\n",
      "The length of chandu is 6\n",
      "Enter a string :chandu\n",
      "Enter another string :chandu\n",
      "Result of comparision str1 == str2 : True\n",
      "Enter a string :naveen \n",
      "Enter another string :chand gadde\n",
      "Result of concatenation str1 + str2 : naveen chand gadde\n"
     ]
    }
   ],
   "source": [
    "import mypack.str_op as sop\n",
    "\n",
    "str1 = input('Enter a string :')\n",
    "print('The length of',str1,'is',sop.fun1(str1))\n",
    "\n",
    "str1 = input('Enter a string :')\n",
    "str2 = input('Enter another string :')\n",
    "print('Result of comparision str1 == str2 :',sop.fun2(str1,str2))\n",
    "\n",
    "\n",
    "str1 = input('Enter a string :')\n",
    "str2 = input('Enter another string :')\n",
    "print('Result of concatenation str1 + str2 :',sop.fun3(str1,str2))"
   ]
  },
  {
   "cell_type": "markdown",
   "id": "f97ca972",
   "metadata": {},
   "source": [
    "### 10.Suppose a module called mod.py contains functions f1(), f2() and f3(). Write three forms of import statements to use these functions in your program"
   ]
  },
  {
   "cell_type": "code",
   "execution_count": 34,
   "id": "abf8a371",
   "metadata": {},
   "outputs": [
    {
     "name": "stdout",
     "output_type": "stream",
     "text": [
      "\n",
      " ::: Welcome to mod module :::\n",
      "\n",
      "Enter the first number :5\n",
      "Enter the second number :6\n",
      "The modulus of 5 and 6 is 11\n",
      "Enter the first number :9\n",
      "Enter the second number :8\n",
      "The division of 9 and 8 is 1.125\n",
      "Enter the first number :7\n",
      "Enter the second number :9\n",
      "The multiplication of 7 and 9 is 63\n"
     ]
    }
   ],
   "source": [
    "import mypack.mod as mod\n",
    "num1 = int(input('Enter the first number :'))\n",
    "num2 = int(input('Enter the second number :'))\n",
    "print('The modulus of',num1,'and',num2,'is',mod.f1(num1,num2))\n",
    "\n",
    "num1 = int(input('Enter the first number :'))\n",
    "num2 = int(input('Enter the second number :'))\n",
    "print('The division of',num1,'and',num2,'is',mod.f2(num1,num2))\n",
    "\n",
    "num1 = int(input('Enter the first number :'))\n",
    "num2 = int(input('Enter the second number :'))\n",
    "print('The multiplication of',num1,'and',num2,'is',mod.f3(num1,num2))"
   ]
  },
  {
   "cell_type": "code",
   "execution_count": null,
   "id": "c541135e",
   "metadata": {},
   "outputs": [],
   "source": []
  }
 ],
 "metadata": {
  "kernelspec": {
   "display_name": "Python 3 (ipykernel)",
   "language": "python",
   "name": "python3"
  },
  "language_info": {
   "codemirror_mode": {
    "name": "ipython",
    "version": 3
   },
   "file_extension": ".py",
   "mimetype": "text/x-python",
   "name": "python",
   "nbconvert_exporter": "python",
   "pygments_lexer": "ipython3",
   "version": "3.9.12"
  }
 },
 "nbformat": 4,
 "nbformat_minor": 5
}
