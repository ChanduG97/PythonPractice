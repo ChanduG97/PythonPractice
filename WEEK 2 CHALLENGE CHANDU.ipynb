{
 "cells": [
  {
   "cell_type": "markdown",
   "id": "501724c8",
   "metadata": {},
   "source": [
    "# WEEK 2 CHALLENGE CHANDU"
   ]
  },
  {
   "cell_type": "markdown",
   "id": "fc619bce",
   "metadata": {},
   "source": [
    "## 1. Demonstrate how to create simple and multi-line strings, and check whether a string can change after its creation.\n"
   ]
  },
  {
   "cell_type": "code",
   "execution_count": 10,
   "id": "b41cffff",
   "metadata": {},
   "outputs": [
    {
     "name": "stdout",
     "output_type": "stream",
     "text": [
      "Enter a string : Chandu\n",
      "Once strings are created, can not be changed.\n",
      "we have to replace it. \n",
      "we can modify by using functions like upper()\n",
      "SINGLE LINE STRING CREATED\n"
     ]
    }
   ],
   "source": [
    "str1 = 'Single line String created'\n",
    "str2 = input(\"Enter a string : \") # Accepting string from user\n",
    "str3 = '''\n",
    "it is a multi line string \n",
    "we can create string in both single line and multi line'''\n",
    "str4 = '''Once strings are created, can not be changed.\n",
    "we have to replace it. \n",
    "we can modify by using functions like upper()'''\n",
    "print(str4)\n",
    "print(str1.upper())"
   ]
  },
  {
   "cell_type": "markdown",
   "id": "c9126cd3",
   "metadata": {},
   "source": [
    "## 2 . For a given string ‘Hello World!’, extract the following:\n",
    "#### H W\n",
    "#### o o\n",
    "#### llorld\n",
    "#### !dlroW olleH\n",
    "#### World!\n",
    "#### Hello"
   ]
  },
  {
   "cell_type": "code",
   "execution_count": 11,
   "id": "5f888117",
   "metadata": {},
   "outputs": [
    {
     "name": "stdout",
     "output_type": "stream",
     "text": [
      "Given string is :  Hello World!\n",
      "H W\n",
      "o o\n",
      "llorld\n",
      "!dlroW olleH\n",
      "World!\n",
      "Hello\n"
     ]
    }
   ],
   "source": [
    "#Given string \n",
    "str5 = 'Hello World!'\n",
    "print('Given string is : ',str5)\n",
    "\n",
    "# print H W\n",
    "print(str5[str5.find('H')]+' '+str5[str5.find('W')])\n",
    "\n",
    "# print o o\n",
    "print(str5[str5.find('o')]+' '+str5[str5.find('o')])\n",
    "\n",
    "#print llorld\n",
    "print(str5[2:5]+str5[8:11])\n",
    "\n",
    "#print !dlroW olleH\n",
    "print(str5[::-1])\n",
    "\n",
    "#print World!\n",
    "print(str5[6:])\n",
    "\n",
    "#print Hello\n",
    "print(str5[:5])"
   ]
  },
  {
   "cell_type": "markdown",
   "id": "b39e3c89",
   "metadata": {},
   "source": [
    "## 3. For the following strings, determine which contain only alphabets, only digits, alphanumeric, which are in lowercase, and which are in uppercase. Also check whether str3 begins or ends with the word “Now”.\n",
    "\n",
    "### Str1 = ‘Welcome’\n",
    "\n",
    "### Str2 = ‘Hello World!’\n",
    "\n",
    "### Str3 = ‘Now is the best time ever! ‘\n",
    "\n",
    "### Str4 = ‘500017’\n",
    "\n",
    "### Str5 = ‘IPhone 6’"
   ]
  },
  {
   "cell_type": "code",
   "execution_count": 29,
   "id": "bd1697b2",
   "metadata": {},
   "outputs": [
    {
     "name": "stdout",
     "output_type": "stream",
     "text": [
      "Welcome Str1 contains Alphabets with lower cases.\n",
      "------------------------------------------------------------\n",
      "Hello Wrold! Str2 contains Special characters.\n",
      "------------------------------------------------------------\n",
      "Now is the best time ever! Str3 contains Special Characters.\n",
      "------------------------------------------------------------\n",
      "500017 Str4 contains digits only.\n",
      "------------------------------------------------------------\n",
      "IPhone6 Str5 contains Alpha Numeric.\n",
      "------------------------------------------------------------\n",
      "Now is the best time ever! Beign with word Now True\n"
     ]
    }
   ],
   "source": [
    "Str1 = 'Welcome'\n",
    "Str2 = 'Hello Wrold!'\n",
    "Str3 = 'Now is the best time ever!'\n",
    "Str4 = '500017'\n",
    "Str5 = 'IPhone6'\n",
    "\n",
    "\n",
    "if Str1.isalnum():\n",
    "    if Str1.isalpha():\n",
    "        if Str1.isupper():\n",
    "            print(Str1,\" Str1 contains Alphabets with upper cases.\")      \n",
    "        else:\n",
    "            print(Str1,\"Str1 contains Alphabets with lower cases.\")\n",
    "    elif Str1.isdigit():\n",
    "        print(Str1,\"Str1 contains Digits Only.\")\n",
    "    else:\n",
    "        print(Str1,\"Str1 Contains Alpha Numeric\")\n",
    "else:\n",
    "    print(Str1,\"contains Special characters.\")\n",
    "    \n",
    "print('------------------------------------------------------------')        \n",
    "if Str2.isalnum():\n",
    "    if Str2.isalpha():\n",
    "        if Str2.isupper():\n",
    "            print(Str2,\"Str2 contains Alphabets with upper cases.\")\n",
    "        else:\n",
    "            print(Str2,\"Str2 contains Alphabets with lower cases.\")\n",
    "    elif Str2.isdigit():\n",
    "        print(Str2,\"Str2 contains digits only.\")\n",
    "    else:\n",
    "        print(Str2,\"Str2 contains Alpha Numeric.\")\n",
    "else:\n",
    "    print(Str2,\"Str2 contains Special characters.\")\n",
    "    \n",
    "    \n",
    "print('------------------------------------------------------------')    \n",
    "\n",
    "\n",
    "if Str3.isalnum():\n",
    "    if Str3.isalpha():\n",
    "        if Str3.isupper():\n",
    "            print(Str3,\"Str3 contains Alphabets with upper cases.\")\n",
    "        else:\n",
    "            print(Str3,\"str3 contains Alphabets with lower cases.\")\n",
    "    elif Str3.isdigit():\n",
    "        print(Str3,\"Str3 Contains digits only.\")\n",
    "    else: \n",
    "        print(Str3,\"Str3 contains Alpha Numeric.\")\n",
    "else:\n",
    "    print(Str3,\"Str3 contains Special Characters.\")\n",
    "\n",
    "print('------------------------------------------------------------')  \n",
    "    \n",
    "if Str4.isalnum():\n",
    "    if Str4.isalpha():\n",
    "        if Str4.isupper():\n",
    "            print(Str4,\"Str4 contains Alphabets with upper cases.\")\n",
    "        else:\n",
    "            print(Str4,\"Str4 contains Alphabets with lower cases.\")\n",
    "    elif Str4.isdigit():\n",
    "        print(Str4,\"Str4 contains digits only.\")\n",
    "    else:\n",
    "        print(Str4,\"Str4 contains Alpha Numeric.\")\n",
    "else:\n",
    "    print(Str4,\"Str4 contains special characters.\")\n",
    "\n",
    "    \n",
    "print('------------------------------------------------------------')  \n",
    "\n",
    "\n",
    "if Str5.isalnum():\n",
    "    if Str5.isalpha():\n",
    "        if Str5.isupper():\n",
    "            print(Str5,\"Str5 contains Alphabets with upper cases.\")\n",
    "        else:\n",
    "            print(Str5,\"Str5 contains Alphabets with lower cases.\")\n",
    "    elif Str5.isdigit():\n",
    "        print(Str5,\"Str5 contains digits only.\") \n",
    "    else:\n",
    "        print(Str5,\"Str5 contains Alpha Numeric.\")\n",
    "else:\n",
    "    print(Str5,\"Str5 contains Special Characters.\")\n",
    "\n",
    "print('------------------------------------------------------------')  \n",
    "\n",
    "if Str3.startswith(\"Now\"):\n",
    "    print(Str3,\"Beign with word Now\", Str3.startswith(\"Now\"))\n",
    "if Str3.endswith(\"Now\"):\n",
    "    print(Str3,\"Ends with Word Now\", Str3.endswith('Now'))\n"
   ]
  },
  {
   "cell_type": "markdown",
   "id": "3e477ad1",
   "metadata": {},
   "source": [
    "## 4. Accept a sentence from the user. Convert the case of the input into title case."
   ]
  },
  {
   "cell_type": "code",
   "execution_count": 13,
   "id": "fe4b0aee",
   "metadata": {},
   "outputs": [
    {
     "name": "stdout",
     "output_type": "stream",
     "text": [
      "Enter a String : jfvh\n",
      "Converting String into Title case :  Jfvh\n"
     ]
    }
   ],
   "source": [
    "str1 = input('Enter a String : ')\n",
    "print('Converting String into Title case : ',str1.title())"
   ]
  },
  {
   "cell_type": "markdown",
   "id": "ac26f8a3",
   "metadata": {},
   "source": [
    "## 5. Write a program that reads an integer from the user. Then your program should display a message indicating whether the integer is even or odd."
   ]
  },
  {
   "cell_type": "code",
   "execution_count": 14,
   "id": "6a2904f3",
   "metadata": {},
   "outputs": [
    {
     "name": "stdout",
     "output_type": "stream",
     "text": [
      "Enter an Integer : 65\n",
      "Given integer 65  is odd number\n"
     ]
    }
   ],
   "source": [
    "x = int(input('Enter an Integer : '))\n",
    "# accepts an integer from the user \n",
    "# Now given integer is even or odd\n",
    "if x%2==0:\n",
    "    print('Given integer',x,' is even number')\n",
    "else:\n",
    "    print('Given integer',x,' is odd number')"
   ]
  },
  {
   "cell_type": "markdown",
   "id": "ae52fd55",
   "metadata": {},
   "source": [
    "## 6. Create a program that reads a letter of the alphabet from the user. If the user enters a, e, i, o or u then your program should display a message indicating that the entered letter is a vowel. Otherwise, the program should display a message that the entered letter is a consonant"
   ]
  },
  {
   "cell_type": "code",
   "execution_count": 15,
   "id": "56573640",
   "metadata": {},
   "outputs": [
    {
     "name": "stdout",
     "output_type": "stream",
     "text": [
      "Enter an Alphabet : o\n",
      "Entered letter is a vowel\n"
     ]
    }
   ],
   "source": [
    "# Accepting an Alphabet from the user\n",
    "str9 = input('Enter an Alphabet : ').lower()  #lower() function converts the input alphabet as lowercase letters\n",
    "if str9=='a' or str9 == 'e' or str9 == 'i'or str9 == 'o'or str9 == 'u' :\n",
    "    print('Entered letter is a vowel')\n",
    "else : \n",
    "    print('Entered letter is a consonant')"
   ]
  },
  {
   "cell_type": "markdown",
   "id": "9c24b828",
   "metadata": {},
   "source": [
    "## 7. The length of a month varies from 28 to 31 days. Create a program that reads the name of a month from the user as a string. Then your program should display the number of days in that month. Display “28 or 29 days” for February so that leap years is addressed."
   ]
  },
  {
   "cell_type": "code",
   "execution_count": 16,
   "id": "c8ea7fff",
   "metadata": {},
   "outputs": [
    {
     "name": "stdout",
     "output_type": "stream",
     "text": [
      "Enter name of a Month : january\n",
      "January  has 31 days\n"
     ]
    }
   ],
   "source": [
    "# Accept name of a month and print number of days in that month \n",
    "month = input('Enter name of a Month : ').title()\n",
    "\n",
    "# Months with 31 days are : January March May July August October December\n",
    "# Months with 30 days are : April, June, September, November \n",
    "# Months with 28 or 29 days are : February\n",
    "\n",
    "if month=='January'or month=='March'or month=='May'or month=='July'or month=='August'or month=='October' or month=='December' :\n",
    "    print(month,' has 31 days')\n",
    "elif month == 'April' or month == 'June' or month == 'September' or month == 'November' :\n",
    "    print(month,' has 30 days')\n",
    "elif month == 'February' :\n",
    "    print(month, ' has 28 or 29 days')\n",
    "else :\n",
    "    print(month,' is invalid Month')"
   ]
  },
  {
   "cell_type": "markdown",
   "id": "2ef854f8",
   "metadata": {},
   "source": [
    "## 8. A triangle can be classified based on the lengths of its sides as equilateral, isosceles or scalene. All 3 sides of an equilateral triangle have the same length. An isosceles triangle has two sides that are the same length, and a third side that is a different length. If all of the sides have different lengths then the triangle is scalene. Write a program that reads the lengths of 3 sides of a triangle from the user. Display a message indicating the type of the triangle."
   ]
  },
  {
   "cell_type": "code",
   "execution_count": 17,
   "id": "9285e066",
   "metadata": {},
   "outputs": [
    {
     "name": "stdout",
     "output_type": "stream",
     "text": [
      "Enter 1st side of a Triangle: 5\n",
      "Enter 2nd side of a Triangle: 5\n",
      "Enter 3rd side of a Triangle: 5\n",
      "It is an Equilateral Triangle.\n"
     ]
    }
   ],
   "source": [
    "side1 = int(input('Enter 1st side of a Triangle: '))\n",
    "side2 = int(input('Enter 2nd side of a Triangle: '))\n",
    "side3 = int(input('Enter 3rd side of a Triangle: '))\n",
    "\n",
    "if side1 == side2 and side1 == side3 and side2 == side3 :\n",
    "    print('It is an Equilateral Triangle.')\n",
    "elif side1 != side2 and side1!= side3 and side2 != side3 :\n",
    "    print('It is an Scalene Triangle')\n",
    "else :\n",
    "    print('''Two side are equal and one side is different\n",
    "            it is Isosceles Trianngle''')"
   ]
  },
  {
   "cell_type": "markdown",
   "id": "1439ccf7",
   "metadata": {},
   "source": [
    "# Write a program that reads a year from the user and displays a message indicating whether or not it is a leap year.\n",
    "## 9. The rules for determining whether or not a year is a leap year follow:\n",
    "### Any year that is divisible by 400 is a leap year.\n",
    "### Of the remaining years, any year that is divisible by 100 is not a leap year.\n",
    "### Of the remaining years, any year that is divisible by 4 is a leap year.\n",
    "### All other years are not leap years.\n"
   ]
  },
  {
   "cell_type": "code",
   "execution_count": 20,
   "id": "39fef37d",
   "metadata": {},
   "outputs": [
    {
     "name": "stdout",
     "output_type": "stream",
     "text": [
      "Enter a year : 2024\n",
      "2024 is a leap year\n"
     ]
    }
   ],
   "source": [
    "year = int(input('Enter a year : '))\n",
    "if year % 400 == 0 or year % 100 != 0 and year % 4 == 0:\n",
    "    print(year,'is a leap year')\n",
    "else :\n",
    "    print(year,'is not leap year')"
   ]
  },
  {
   "cell_type": "markdown",
   "id": "e513171c",
   "metadata": {},
   "source": [
    "## 10. Write a program that computes the real roots of a quadratic function. Your program should begin by prompting the user for the values of a, b and c. Then it should display a message indicating the number of real roots, along with the values of the real roots (if any)."
   ]
  },
  {
   "cell_type": "code",
   "execution_count": 31,
   "id": "403a965a",
   "metadata": {},
   "outputs": [
    {
     "name": "stdout",
     "output_type": "stream",
     "text": [
      "Enter value of a: 5\n",
      "Enter value of b: 6\n",
      "Enter value of c: 5\n",
      "The real roots values are  (-0.6-0.8j)  and  (-0.6+0.8j)\n"
     ]
    }
   ],
   "source": [
    "# Accepting values of a,b,c from user\n",
    "\n",
    "import cmath\n",
    "\n",
    "a = int(input('Enter value of a: '))\n",
    "b = int(input('Enter value of b: '))\n",
    "c = int(input('Enter value of c: '))\n",
    "\n",
    "# Number of real roots and values of the real roots\n",
    "# Quadratic equation discriminant d = b**b - 4 * a * C. \n",
    "# If b2 – 4ac > 0 then the quadratic function has two distinct real roots.\n",
    "# If b2 – 4ac = 0 then the quadratic function has one repeated real root.\n",
    "\n",
    "dis = (b**2)-(4*a*c)\n",
    "\n",
    "# TO find real values, ans1 = (-b+(sqrt(dis)))/2*a , ans2 = (-b+(sqrt(dis)))/2*a\n",
    "\n",
    "ans1 = (-b-(cmath.sqrt(dis)))/(2*a) \n",
    "ans2 = (-b+(cmath.sqrt(dis)))/(2*a)\n",
    "\n",
    "print('The real roots values are ',ans1,' and ',ans2)"
   ]
  },
  {
   "cell_type": "code",
   "execution_count": null,
   "id": "fb75ff8e",
   "metadata": {},
   "outputs": [],
   "source": []
  }
 ],
 "metadata": {
  "kernelspec": {
   "display_name": "Python 3 (ipykernel)",
   "language": "python",
   "name": "python3"
  },
  "language_info": {
   "codemirror_mode": {
    "name": "ipython",
    "version": 3
   },
   "file_extension": ".py",
   "mimetype": "text/x-python",
   "name": "python",
   "nbconvert_exporter": "python",
   "pygments_lexer": "ipython3",
   "version": "3.9.12"
  }
 },
 "nbformat": 4,
 "nbformat_minor": 5
}
