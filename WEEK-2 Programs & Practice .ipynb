{
 "cells": [
  {
   "cell_type": "markdown",
   "id": "918808de",
   "metadata": {
    "id": "918808de"
   },
   "source": [
    "## Week - 2 Strings  "
   ]
  },
  {
   "cell_type": "code",
   "execution_count": 1,
   "id": "54c9a678",
   "metadata": {
    "id": "54c9a678",
    "outputId": "e06bda89-126e-404b-e04b-84b76b79f465"
   },
   "outputs": [
    {
     "name": "stdout",
     "output_type": "stream",
     "text": [
      "The first string is :  Hello World\n",
      "The Second string is :  Strings concept single line and multi line\n",
      "The Third string is :  \n",
      "        Multi line string \n",
      "        this is the 3rd string\n",
      "        \n",
      "The Data type of string 1 is:  <class 'str'>\n",
      "The Data type of string 2 is:  <class 'str'>\n",
      "The Data type of string 3 is:  <class 'str'>\n"
     ]
    }
   ],
   "source": [
    "str1 = 'Hello World'\n",
    "str2 = 'Strings concept single line and multi line'\n",
    "str3 = '''\n",
    "        Multi line string \n",
    "        this is the 3rd string\n",
    "        '''\n",
    "print('The first string is : ', str1)\n",
    "print('The Second string is : ', str2)\n",
    "print('The Third string is : ', str3)\n",
    "\n",
    "print('The Data type of string 1 is: ',type(str1))\n",
    "print('The Data type of string 2 is: ',type(str2))\n",
    "print('The Data type of string 3 is: ',type(str3))"
   ]
  },
  {
   "cell_type": "markdown",
   "id": "862b8db8",
   "metadata": {
    "id": "862b8db8"
   },
   "source": [
    " ## Concatenation of Strings"
   ]
  },
  {
   "cell_type": "code",
   "execution_count": 2,
   "id": "e7436315",
   "metadata": {
    "id": "e7436315",
    "outputId": "a50f0375-3ac8-4ff1-b33a-c259394a8909"
   },
   "outputs": [
    {
     "name": "stdout",
     "output_type": "stream",
     "text": [
      "The result of concatenation of strings 4 and 5 is :  Have a good day\n",
      "hello World\n"
     ]
    }
   ],
   "source": [
    "str4 = 'Have a '\n",
    "str5 = 'good day'\n",
    "str6 = str4 + str5\n",
    "print(\"The result of concatenation of strings 4 and 5 is : \",str6)\n",
    "\n",
    "#or we can write like this\n",
    "\n",
    "print('hello' + ' World')"
   ]
  },
  {
   "cell_type": "code",
   "execution_count": 3,
   "id": "c8437a2e",
   "metadata": {
    "id": "c8437a2e",
    "outputId": "42b75eda-858d-406b-e6f9-df8367470321",
    "scrolled": false
   },
   "outputs": [
    {
     "name": "stdout",
     "output_type": "stream",
     "text": [
      "15\n",
      "The length of string 6 is :  15\n",
      "The length of hello world is :  11\n"
     ]
    }
   ],
   "source": [
    "# len() performs the find the length of a given data structure\n",
    "\n",
    "print(len(str6))\n",
    " \n",
    "#or \n",
    "\n",
    "print(\"The length of string 6 is : \",len(str6))\n",
    "\n",
    "# or we can write like this\n",
    "\n",
    "print(\"The length of hello world is : \",len('Hello World'))\n"
   ]
  },
  {
   "cell_type": "code",
   "execution_count": null,
   "id": "4c9847b7",
   "metadata": {
    "id": "4c9847b7",
    "outputId": "4c01f678-a78f-428c-c6a8-c117f80bb414"
   },
   "outputs": [
    {
     "name": "stdout",
     "output_type": "stream",
     "text": [
      "Have a good day\n",
      "The third character of str6 is :  v\n",
      "The sixth character of str6 is :  a\n",
      "o\n",
      "ello\n",
      "Hello\n",
      "llo world!\n",
      "Hello world!\n"
     ]
    }
   ],
   "source": [
    "# Accessing a string character\n",
    "\n",
    "print(str6)\n",
    "print('The third character of str6 is : ',str6[2])\n",
    "print('The sixth character of str6 is : ',str6[5])\n",
    "\n",
    "# slicing operations : accessing a group of characters\n",
    "my_str =\"Hello world!\"\n",
    "print(my_str[4])\n",
    "print(my_str[1:5])\n",
    "print(my_str[:5])\n",
    "print(my_str[2:])\n",
    "print(my_str[:])"
   ]
  },
  {
   "cell_type": "code",
   "execution_count": null,
   "id": "78b92058",
   "metadata": {
    "id": "78b92058",
    "outputId": "e71ad6d4-ed4a-44d3-99ba-5074399c59cf"
   },
   "outputs": [
    {
     "name": "stdout",
     "output_type": "stream",
     "text": [
      "**********\n",
      "Hello Hello Hello Hello Hello \n"
     ]
    }
   ],
   "source": [
    "# Repeating strings\n",
    "str7 = '*' * 10\n",
    "print(str7)\n",
    "print(\"Hello \" * 5)"
   ]
  },
  {
   "cell_type": "code",
   "execution_count": null,
   "id": "4d588bf2",
   "metadata": {
    "id": "4d588bf2",
    "outputId": "473eb327-3063-4171-836f-ab146c5c75b6"
   },
   "outputs": [
    {
     "name": "stdout",
     "output_type": "stream",
     "text": [
      "The original string is :  Welcome, to the exciting world, of python programming\n",
      "The split using comma :  ['Welcome', ' to the exciting world', ' of python programming']\n",
      "The original string is :  Welcome: to the exciting world: of python programming\n",
      "The split using comma :  ['Welcome', ' to the exciting world', ' of python programming']\n",
      "The split using SPACE :  ['Welcome:', 'to', 'the', 'exciting', 'world:', 'of', 'python', 'programming']\n"
     ]
    }
   ],
   "source": [
    "#Split() on strings\n",
    "\n",
    "string_1 = \"Welcome, to the exciting world, of python programming\"\n",
    "print('The original string is : ',string_1)\n",
    "print('The split using comma : ',string_1.split(','))\n",
    "\n",
    "string_2 = \"Welcome: to the exciting world: of python programming\"\n",
    "print('The original string is : ',string_2)\n",
    "print('The split using comma : ',string_2.split(':'))\n",
    "print('The split using SPACE : ',string_2.split(' '))"
   ]
  },
  {
   "cell_type": "code",
   "execution_count": null,
   "id": "aee612db",
   "metadata": {
    "id": "aee612db",
    "outputId": "338e299b-1bc5-4e29-c118-eecf44f80b30"
   },
   "outputs": [
    {
     "name": "stdout",
     "output_type": "stream",
     "text": [
      "No of spaces in my_string :  5\n",
      "No of a's in my_string :  1\n"
     ]
    }
   ],
   "source": [
    "#count\n",
    "my_string = \"Count,, the number of spaces \"\n",
    "print(\"No of spaces in my_string : \",my_string.count(' '))\n",
    "print(\"No of a's in my_string : \",my_string.count('a'))\n"
   ]
  },
  {
   "cell_type": "code",
   "execution_count": null,
   "id": "c60b8b19",
   "metadata": {
    "id": "c60b8b19",
    "outputId": "22785639-0390-42d6-f6df-583f44214116"
   },
   "outputs": [
    {
     "name": "stdout",
     "output_type": "stream",
     "text": [
      "str1 after replacing :  bye world!\n"
     ]
    }
   ],
   "source": [
    "# Replace \n",
    "welcome_message = \"Hello world!\"\n",
    "str1 = welcome_message.replace('Hello',\"bye\")\n",
    "print('str1 after replacing : ',str1)"
   ]
  },
  {
   "cell_type": "code",
   "execution_count": null,
   "id": "dd2ee6c6",
   "metadata": {
    "id": "dd2ee6c6",
    "outputId": "56d762ec-c55d-402c-b0b4-555f88efcde2"
   },
   "outputs": [
    {
     "name": "stdout",
     "output_type": "stream",
     "text": [
      "9\n",
      "35\n",
      "-1\n",
      "-1\n"
     ]
    }
   ],
   "source": [
    "#Find operation\n",
    "string_1 = \"Welcome, to the exciting world, to python programming\"\n",
    "print(string_1.find('to'))\n",
    "print(string_1.find('python'))\n",
    "print(string_1.find('java'))\n",
    "print(string_1.find('bye'))"
   ]
  },
  {
   "cell_type": "code",
   "execution_count": null,
   "id": "e2ec4323",
   "metadata": {
    "id": "e2ec4323",
    "outputId": "81005911-9652-47ab-c8ba-55738537ceac"
   },
   "outputs": [
    {
     "name": "stdout",
     "output_type": "stream",
     "text": [
      "False\n",
      "True\n"
     ]
    }
   ],
   "source": [
    "#String comparision\n",
    "str1 = \"James\"\n",
    "str2 = \"jones\"\n",
    "print(str1 == str2)\n",
    "print(str1 != str2)"
   ]
  },
  {
   "cell_type": "code",
   "execution_count": null,
   "id": "aae015be",
   "metadata": {
    "id": "aae015be",
    "outputId": "9f6ee451-9d41-4781-e2ee-17a944b9b895"
   },
   "outputs": [
    {
     "name": "stdout",
     "output_type": "stream",
     "text": [
      "The strng str1 is :  Hello World!\n",
      "str1.startswith('H') True\n",
      "str1.startswith('h') False\n"
     ]
    }
   ],
   "source": [
    "#Stratswith()\n",
    "str1 = \"Hello World!\"\n",
    "print(\"The string str1 is : \",str1)\n",
    "print(\"str1.startswith('H')\",str1.startswith('H'))\n",
    "print(\"str1.startswith('h')\",str1.startswith('h'))"
   ]
  },
  {
   "cell_type": "code",
   "execution_count": null,
   "id": "44109068",
   "metadata": {
    "id": "44109068",
    "outputId": "5bc60c27-706b-43f8-b012-33dca0769c63"
   },
   "outputs": [
    {
     "name": "stdout",
     "output_type": "stream",
     "text": [
      "str1.endswith('d') False\n",
      "str1.endswith('!') True\n"
     ]
    }
   ],
   "source": [
    "#endswith\n",
    "print(\"str1.endswith('d')\",str1.endswith('d'))\n",
    "print(\"str1.endswith('!')\",str1.endswith('!'))"
   ]
  },
  {
   "cell_type": "code",
   "execution_count": null,
   "id": "70da99f8",
   "metadata": {
    "id": "70da99f8",
    "outputId": "32aec845-ca88-4926-9981-240808b139e5"
   },
   "outputs": [
    {
     "name": "stdout",
     "output_type": "stream",
     "text": [
      "Hello World!\n",
      "str1.istitile() True\n",
      "str2.istitile() False\n"
     ]
    }
   ],
   "source": [
    "#is title\n",
    "print(str1)\n",
    "print(\"str1.istitile()\",str1.istitle())\n",
    "str2 = \"Hello world!\"\n",
    "print(\"str2.istitile()\",str2.istitle())"
   ]
  },
  {
   "cell_type": "code",
   "execution_count": null,
   "id": "343c3f61",
   "metadata": {
    "id": "343c3f61",
    "outputId": "fc09904b-05ae-4290-a10c-341fd98054f9"
   },
   "outputs": [
    {
     "name": "stdout",
     "output_type": "stream",
     "text": [
      "Str1.islower() :  False\n",
      "Str2.islower() :  False\n",
      "Str3.isUPPER() :  True\n"
     ]
    }
   ],
   "source": [
    "#is lower()  #is upper()\n",
    "str3 = \"HELLO WORLD\"\n",
    "print(\"Str1.islower() : \",str1.islower())\n",
    "print(\"Str2.islower() : \",str2.islower())\n",
    "print(\"Str3.isUPPER() : \",str3.isupper())"
   ]
  },
  {
   "cell_type": "code",
   "execution_count": null,
   "id": "b7ae2d51",
   "metadata": {
    "id": "b7ae2d51",
    "outputId": "1a4a6cf6-18a5-497a-8bed-07522f93599a"
   },
   "outputs": [
    {
     "name": "stdout",
     "output_type": "stream",
     "text": [
      "Hello World! \n",
      " Hello world! \n",
      " HELLO WORLD \n",
      " HELLOWORLD\n",
      "Str1.isalpha() :  False\n",
      "Str2.isalpha() :  False\n",
      "Str3.isalpha() :  False\n",
      "Str4.isalpha() :  True\n"
     ]
    }
   ],
   "source": [
    "#is alpha\n",
    "str4 = \"HELLOWORLD\"\n",
    "print(str1,'\\n',str2,'\\n',str3,\"\\n\",str4)\n",
    "print(\"Str1.isalpha() : \",str1.isalpha())\n",
    "print(\"Str2.isalpha() : \",str2.isalpha())\n",
    "print(\"Str3.isalpha() : \",str3.isalpha())\n",
    "print(\"Str4.isalpha() : \",str4.isalpha())"
   ]
  },
  {
   "cell_type": "code",
   "execution_count": null,
   "id": "ded951f6",
   "metadata": {
    "id": "ded951f6",
    "outputId": "e66d8aa0-ebe5-4220-b255-c74314d55364"
   },
   "outputs": [
    {
     "name": "stdout",
     "output_type": "stream",
     "text": [
      "Str2 : Hello world!\n",
      "str2.upper() : HELLO WORLD!\n",
      "str2.lower() : hello world!\n"
     ]
    }
   ],
   "source": [
    "#Upper #lower\n",
    "print('Str2 :',str2)\n",
    "print(\"str2.upper() :\",str2.upper())\n",
    "print(\"str2.lower() :\",str2.lower())"
   ]
  },
  {
   "cell_type": "code",
   "execution_count": null,
   "id": "f1af53ad",
   "metadata": {
    "id": "f1af53ad",
    "outputId": "808b63e5-197a-4a05-a1c5-bdc6e48d60c2"
   },
   "outputs": [
    {
     "name": "stdout",
     "output_type": "stream",
     "text": [
      "hello world\n",
      "str2.title() : Hello World\n"
     ]
    }
   ],
   "source": [
    "#title => first letter of the each word is in upper case\n",
    "str2 = \"hello world\"\n",
    "print(str2)\n",
    "print('str2.title() :',str2.title())"
   ]
  },
  {
   "cell_type": "code",
   "execution_count": null,
   "id": "06c8cb58",
   "metadata": {
    "id": "06c8cb58",
    "outputId": "211c7e74-de22-4af3-dab5-54a453ca74e3"
   },
   "outputs": [
    {
     "name": "stdout",
     "output_type": "stream",
     "text": [
      "Good Day\n",
      "str3.swapcase(): gOOD dAY\n"
     ]
    }
   ],
   "source": [
    "#Swapcase => swaps every letter in string from upper to lower and lower to upper\n",
    "str3 = \"Good Day\"\n",
    "print(str3)\n",
    "print(\"str3.swapcase():\",str3.swapcase())"
   ]
  },
  {
   "cell_type": "code",
   "execution_count": null,
   "id": "67e05921",
   "metadata": {
    "id": "67e05921",
    "outputId": "a2fa65f9-e8ed-4b59-f1cc-f6f4b6823784"
   },
   "outputs": [
    {
     "name": "stdout",
     "output_type": "stream",
     "text": [
      "         Hello world!       \n",
      "Str2.strip(): Hello world!\n"
     ]
    }
   ],
   "source": [
    "#Strip => to remove extra spaces i  starting and ending of a string\n",
    "str2 = \"         Hello world!       \"\n",
    "print(str2)\n",
    "print(\"Str2.strip():\",str2.strip())"
   ]
  },
  {
   "cell_type": "markdown",
   "id": "7ef654ee",
   "metadata": {
    "id": "7ef654ee"
   },
   "source": [
    "# Relational operators ( < , > , <= , >= , == , != )"
   ]
  },
  {
   "cell_type": "code",
   "execution_count": null,
   "id": "f809d90d",
   "metadata": {
    "id": "f809d90d",
    "outputId": "31593ad8-bd3c-46f1-c9b1-a755622af09d"
   },
   "outputs": [
    {
     "name": "stdout",
     "output_type": "stream",
     "text": [
      "a>b :  False\n",
      "a<b :  True\n",
      "c<=b :  False\n",
      "a<=b :  True\n",
      "b==c :  False\n",
      "a!=b :  True\n"
     ]
    }
   ],
   "source": [
    "a = 10\n",
    "b = 20\n",
    "c = 30\n",
    "print('a>b : ', a>b)\n",
    "print('a<b : ', a<b)\n",
    "print('c<=b : ', c<=b)\n",
    "print('a<=b : ', a<=b)\n",
    "print('b==c : ', b==c)\n",
    "print('a!=b : ', a!=b)\n"
   ]
  },
  {
   "cell_type": "markdown",
   "id": "fdd9790b",
   "metadata": {
    "id": "fdd9790b"
   },
   "source": [
    "# Logical operators ( and, or , not )"
   ]
  },
  {
   "cell_type": "code",
   "execution_count": null,
   "id": "cdf8a183",
   "metadata": {
    "id": "cdf8a183",
    "outputId": "8034e3c9-96da-43a5-ad30-0b3f8b2740b8"
   },
   "outputs": [
    {
     "name": "stdout",
     "output_type": "stream",
     "text": [
      "True\n",
      "False\n",
      "True\n",
      "True\n",
      "False\n"
     ]
    }
   ],
   "source": [
    "#and  => returns true, if both the operands are true , remaining cases false\n",
    "#or   => returns false, if both the operands are false, remaining cases true\n",
    "#not  => If value is true, \" not \" changes to false (vice versa)\n",
    "\n",
    "a = 10\n",
    "b = 20\n",
    "c = 30\n",
    "print(a<b or a>c)\n",
    "print(a>b and a>c)\n",
    "print(a<b and a<c)\n",
    "print(a<b)\n",
    "print(not a<b)"
   ]
  },
  {
   "cell_type": "markdown",
   "id": "56c14d46",
   "metadata": {
    "id": "56c14d46"
   },
   "source": [
    "### check whether the given number is positive or not\n",
    "### if condition"
   ]
  },
  {
   "cell_type": "code",
   "execution_count": null,
   "id": "8d674d6e",
   "metadata": {
    "id": "8d674d6e",
    "outputId": "97aeab60-e669-4fca-fcde-a2180a6a4c0f"
   },
   "outputs": [
    {
     "name": "stdout",
     "output_type": "stream",
     "text": [
      "Enter an Integer : 12\n",
      "Entered value  12  is positive\n",
      "Program completed\n"
     ]
    }
   ],
   "source": [
    "x = int(input(\"Enter an Integer : \"))\n",
    "if x>0:\n",
    "    print('Entered value ',x,' is positive')\n",
    "print(\"Program completed\")"
   ]
  },
  {
   "cell_type": "markdown",
   "id": "5d1f51f9",
   "metadata": {
    "id": "5d1f51f9"
   },
   "source": [
    "### check whether a given number is positive or not \n",
    "### if,else"
   ]
  },
  {
   "cell_type": "code",
   "execution_count": null,
   "id": "bc741fe5",
   "metadata": {
    "id": "bc741fe5",
    "outputId": "29179e00-e1ec-4f75-aba3-1fc10d58b760"
   },
   "outputs": [
    {
     "name": "stdout",
     "output_type": "stream",
     "text": [
      "Enter an Integer : -589\n",
      "Entered integer  -589  is negative\n",
      "Program complted.\n"
     ]
    }
   ],
   "source": [
    "x = int(input('Enter an Integer : '))\n",
    "if x>0:\n",
    "    print('Entered integer ',x,' is positive')\n",
    "else:\n",
    "    print('Entered integer ',x,' is negative')\n",
    "print(\"Program complted.\")"
   ]
  },
  {
   "cell_type": "markdown",
   "id": "3f7509f2",
   "metadata": {
    "id": "3f7509f2"
   },
   "source": [
    "### check whether the given number is even or odd\n",
    "### if , else"
   ]
  },
  {
   "cell_type": "code",
   "execution_count": null,
   "id": "e32eaef7",
   "metadata": {
    "id": "e32eaef7",
    "outputId": "dda9df4b-336f-4963-999d-ab3447550ab3"
   },
   "outputs": [
    {
     "name": "stdout",
     "output_type": "stream",
     "text": [
      "Enter a positive number24\n",
      "24  is even number\n"
     ]
    }
   ],
   "source": [
    "x = int(input('Enter a positive number : '))\n",
    "if x % 2 == 0 :\n",
    "    print(x,' is even number')\n",
    "else:\n",
    "    print(x,' is odd number')"
   ]
  },
  {
   "cell_type": "markdown",
   "id": "5d5815c1",
   "metadata": {
    "id": "5d5815c1"
   },
   "source": [
    "### check the relationship between two numbers x,y\n",
    "### if, elif(else if), else"
   ]
  },
  {
   "cell_type": "code",
   "execution_count": null,
   "id": "94f4231c",
   "metadata": {
    "id": "94f4231c",
    "outputId": "94768ff3-56cb-4a25-aac5-e5d39957b6e3"
   },
   "outputs": [
    {
     "name": "stdout",
     "output_type": "stream",
     "text": [
      "Enter value of X : 12\n",
      "Enter value of Y : 2\n",
      "12  is greaterthan  2\n",
      "Program completed.\n"
     ]
    }
   ],
   "source": [
    "x = int(input('Enter value of X : '))\n",
    "y = int(input('Enter value of Y : '))\n",
    "if x<y:\n",
    "    print(x,' is lessthan ',y)\n",
    "elif x>y:\n",
    "    print(x,' is greaterthan ',y)\n",
    "else:\n",
    "    print(x,' is equals to ',y)\n",
    "print('Program completed.')"
   ]
  },
  {
   "cell_type": "markdown",
   "id": "4vzPl5rHDEj7",
   "metadata": {
    "id": "4vzPl5rHDEj7"
   },
   "source": [
    "# Nested if statements"
   ]
  },
  {
   "cell_type": "code",
   "execution_count": null,
   "id": "Fp5Z78vVDIQX",
   "metadata": {
    "colab": {
     "base_uri": "https://localhost:8080/"
    },
    "id": "Fp5Z78vVDIQX",
    "outputId": "e3183a0a-cbf9-4a00-a9ac-ad95dfb95134"
   },
   "outputs": [
    {
     "name": "stdout",
     "output_type": "stream",
     "text": [
      "Enter value of X : 3\n",
      "Enter value of Y : 0\n",
      "x is greaterthan y\n",
      "Program completed.\n"
     ]
    }
   ],
   "source": [
    "# comparision of the given numbers x,y \n",
    "x = int(input('Enter value of X : '))\n",
    "y = int(input('Enter value of Y : '))\n",
    "if x == y:\n",
    "  print('x is equals to y')\n",
    "else:\n",
    "  if x>y:\n",
    "    print('x is greaterthan y')\n",
    "  else :\n",
    "    print('x is lessthan y')\n",
    "print('Program completed.')"
   ]
  },
  {
   "cell_type": "code",
   "execution_count": null,
   "id": "H9N7luJMDyvc",
   "metadata": {
    "colab": {
     "base_uri": "https://localhost:8080/"
    },
    "id": "H9N7luJMDyvc",
    "outputId": "9b603976-870a-4727-8603-3366ff115a46"
   },
   "outputs": [
    {
     "name": "stdout",
     "output_type": "stream",
     "text": [
      "Enter an Integer : 12\n",
      "X is not single digit positive integer\n"
     ]
    }
   ],
   "source": [
    "# nested if vs logical operators\n",
    "# check whether given number is single digit positive integer or not\n",
    "\n",
    "x = int(input('Enter an Integer : '))\n",
    "if x > 0 and x < 10 :\n",
    "  print('X is single digit positive integer.')\n",
    "else : \n",
    "  print('X is not single digit positive integer') "
   ]
  },
  {
   "cell_type": "code",
   "execution_count": null,
   "id": "pemyjD6JbJG_",
   "metadata": {
    "colab": {
     "base_uri": "https://localhost:8080/"
    },
    "id": "pemyjD6JbJG_",
    "outputId": "ac95ac58-46d2-485f-c6e0-5459790ee781"
   },
   "outputs": [
    {
     "name": "stdout",
     "output_type": "stream",
     "text": [
      "Enter a charachter :  \n",
      "Entered character is Space.\n",
      "Program completed\n"
     ]
    }
   ],
   "source": [
    "#Find the type of character that the user entered \n",
    "ch = input('Enter a charachter : ')\n",
    "if ch.isalpha():\n",
    "  print('Entered character is a letter.')\n",
    "  if ch.islower():\n",
    "    print('Entered character is in lower case.')\n",
    "  if ch.isupper():\n",
    "    print('Entered character is in Upper case.')\n",
    "elif ch.isdigit():\n",
    "  print('Entered character is digit.')\n",
    "elif ch.isspace():\n",
    "  print(\"Entered character is Space.\")\n",
    "else: \n",
    "  print(\"Entered character is not a letter, space or digit.\")\n",
    "print(\"Program completed\")"
   ]
  },
  {
   "cell_type": "code",
   "execution_count": null,
   "id": "AjRItwtBe6p4",
   "metadata": {
    "colab": {
     "base_uri": "https://localhost:8080/"
    },
    "id": "AjRItwtBe6p4",
    "outputId": "a4793b11-7e51-4844-ced1-eed198cfeff5"
   },
   "outputs": [
    {
     "name": "stdout",
     "output_type": "stream",
     "text": [
      "Enter name of a Month : November\n",
      "November  has 30 days\n"
     ]
    }
   ],
   "source": [
    "# Accept name of a month and print number of days in that month \n",
    "month = input('Enter name of a Month : ')\n",
    "# Months with 31 days are : January March May July August October December\n",
    "# Months with 30 days are : April, June, September, November \n",
    "# Months with 28 or 29 days are : February\n",
    "if month == 'January' or month == 'March' or month == 'May' or month == 'July' or month == 'August' or month == 'October' or month == 'December' :\n",
    "  print(month,' has 31 days')\n",
    "elif month == 'April' or month == 'June' or month == 'September' or month == 'November' :\n",
    "  print(month,' has 30 days')\n",
    "elif month == 'February' :\n",
    "  print(month, ' has 28 or 29 days')\n",
    "else :\n",
    "  print(month,' is invalid Month')"
   ]
  },
  {
   "cell_type": "code",
   "execution_count": null,
   "id": "o9Qoxkq7mjru",
   "metadata": {
    "colab": {
     "base_uri": "https://localhost:8080/"
    },
    "id": "o9Qoxkq7mjru",
    "outputId": "171e222d-511c-447a-9d3b-c110fd833b70"
   },
   "outputs": [
    {
     "name": "stdout",
     "output_type": "stream",
     "text": [
      "Enter a month name : August\n",
      "August  is in Mansoon season\n"
     ]
    }
   ],
   "source": [
    "# Accept the name of a month and display the season\n",
    "# Summer : march april may june\n",
    "# Mansoon : July August September October\n",
    "# Winter : November December January February\n",
    "\n",
    "month = input(\"Enter a month name : \")\n",
    "if month == 'March' or month == 'April' or month == 'May' or month == \"June\" :\n",
    "  print(month,' is in summer season')\n",
    "elif month == 'July' or month == 'August' or month == 'September' or month == \"October\" :\n",
    "  print(month,' is in Mansoon season')\n",
    "elif month == \"November\" or month == 'December' or month == 'January' or month == 'February':\n",
    "  print(month,' is in winter season')\n",
    "else :\n",
    "  print(month,' is invalid month.')\n",
    "  "
   ]
  },
  {
   "cell_type": "code",
   "execution_count": 4,
   "id": "6C9ZQ3Ohoe-z",
   "metadata": {
    "colab": {
     "base_uri": "https://localhost:8080/"
    },
    "id": "6C9ZQ3Ohoe-z",
    "outputId": "6b4465e5-b87a-4ab4-f83b-9a6a7668c56f"
   },
   "outputs": [
    {
     "name": "stdout",
     "output_type": "stream",
     "text": [
      "Enter X value: 2\n",
      "Enter Y value: 2\n",
      "Enter Z value: 2\n",
      "All are equal\n"
     ]
    }
   ],
   "source": [
    "# Find the greates of three numbers\n",
    "x = int(input('Enter X value: '))\n",
    "y = int(input('Enter Y value: '))\n",
    "z = int(input('Enter Z value: '))\n",
    "if x > y and x > z :\n",
    "  print('X is the greatest number')\n",
    "elif y > x and y > z :\n",
    "  print('Y is the greatest number')\n",
    "elif z>x and z>y:\n",
    "  print('Z is the greatest number')\n",
    "elif x == y and x == z :\n",
    "  print('All are equal')"
   ]
  },
  {
   "cell_type": "markdown",
   "id": "3gwBAgi7rVo_",
   "metadata": {
    "id": "3gwBAgi7rVo_"
   },
   "source": [
    "# End of Week 2"
   ]
  }
 ],
 "metadata": {
  "colab": {
   "collapsed_sections": [
    "7ef654ee"
   ],
   "provenance": []
  },
  "kernelspec": {
   "display_name": "Python 3 (ipykernel)",
   "language": "python",
   "name": "python3"
  },
  "language_info": {
   "codemirror_mode": {
    "name": "ipython",
    "version": 3
   },
   "file_extension": ".py",
   "mimetype": "text/x-python",
   "name": "python",
   "nbconvert_exporter": "python",
   "pygments_lexer": "ipython3",
   "version": "3.9.12"
  }
 },
 "nbformat": 4,
 "nbformat_minor": 5
}
