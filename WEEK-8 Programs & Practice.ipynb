{
 "cells": [
  {
   "cell_type": "markdown",
   "id": "7344d9f2",
   "metadata": {},
   "source": [
    "## WEEK-8 Programs & Practice"
   ]
  },
  {
   "cell_type": "markdown",
   "id": "b60e80e5",
   "metadata": {},
   "source": [
    "## ITERATORS"
   ]
  },
  {
   "cell_type": "code",
   "execution_count": 3,
   "id": "babf206a",
   "metadata": {},
   "outputs": [],
   "source": [
    "# program to implement an iterator called Evens that returns the even nummbers upto a limit\n",
    "class Evens:\n",
    "    def __init__(self,l):\n",
    "        self._limit = l\n",
    "        self._value = 0\n",
    "        # the __iter__ makes this class iterable\n",
    "        \n",
    "    def __iter__(self):\n",
    "        return self\n",
    "    # the __next__ method makes this class an iterator\n",
    "    def __next__(self):\n",
    "        if self._value >  self._limit:\n",
    "            raise StopIteration\n",
    "        else:\n",
    "            return_value = self._value\n",
    "            self._value +=2\n",
    "        return return_value"
   ]
  },
  {
   "cell_type": "code",
   "execution_count": 7,
   "id": "d7df5d80",
   "metadata": {},
   "outputs": [
    {
     "name": "stdout",
     "output_type": "stream",
     "text": [
      "Start Iterator\n",
      "Enter the limit (n) :5\n",
      "Even numbers from 0 to 5\n",
      "i = 0\n",
      "i = 2\n",
      "i = 4\n",
      "End of the Iterator\n"
     ]
    }
   ],
   "source": [
    "print('Start Iterator')\n",
    "n = int(input('Enter the limit (n) :'))\n",
    "print('Even numbers from 0 to',n)\n",
    "for i in Evens(n):\n",
    "    print('i =',i)\n",
    "print('End of the Iterator')"
   ]
  },
  {
   "cell_type": "code",
   "execution_count": null,
   "id": "643eb2e0",
   "metadata": {},
   "outputs": [],
   "source": [
    "# program to accept the value of n. Implements the iterator which returns factorial upto n\n",
    "class Fact:\n",
    "    def __init__(self,l):\n",
    "        self._limit = l\n",
    "        self._val = 0\n",
    "        \n",
    "    def __iter__(self):\n",
    "        return self\n",
    "    \n",
    "    # to find the factorial of the number\n",
    "   \n",
    "    def fact(self,num):\n",
    "        prod  = 1\n",
    "        for i in range(1,num+1):\n",
    "            prod *=i\n",
    "        return prod\n",
    "    \n",
    "    def __next__(self):\n",
    "        if self._val > self._limit:\n",
    "            raise StopIteration\n",
    "        else:\n",
    "            return_val = self.fact(self._val)\n",
    "            self._val += 1\n",
    "            return return_val"
   ]
  },
  {
   "cell_type": "code",
   "execution_count": 17,
   "id": "cc42b583",
   "metadata": {},
   "outputs": [
    {
     "name": "stdout",
     "output_type": "stream",
     "text": [
      "Start Iterator\n",
      "Enter the limit (n>1) :12\n",
      "Factorial from 0 to 12\n",
      "Factorial = 1\n",
      "Factorial = 1\n",
      "Factorial = 2\n",
      "Factorial = 6\n",
      "Factorial = 24\n",
      "Factorial = 120\n",
      "Factorial = 720\n",
      "Factorial = 5040\n",
      "Factorial = 40320\n",
      "Factorial = 362880\n",
      "Factorial = 3628800\n",
      "Factorial = 39916800\n",
      "Factorial = 479001600\n",
      "End of the Iterator\n"
     ]
    }
   ],
   "source": [
    "print('Start Iterator')\n",
    "n = int(input('Enter the limit (n>1) :'))\n",
    "print('Factorial from 0 to',n)\n",
    "for i in Fact(n):\n",
    "    print('Factorial =',i)\n",
    "print('End of the Iterator')"
   ]
  },
  {
   "cell_type": "markdown",
   "id": "06a6951a",
   "metadata": {},
   "source": [
    "## EXCEPTION HANDLING"
   ]
  },
  {
   "cell_type": "code",
   "execution_count": 20,
   "id": "35c02de3",
   "metadata": {},
   "outputs": [
    {
     "name": "stdout",
     "output_type": "stream",
     "text": [
      "Zero division error in runcalc function\n"
     ]
    }
   ],
   "source": [
    "def runcalc(x):\n",
    "    x/0\n",
    "try:\n",
    "    runcalc(6)\n",
    "except ZeroDivisionError:\n",
    "    print('Zero division error in runcalc function')"
   ]
  },
  {
   "cell_type": "code",
   "execution_count": 25,
   "id": "2e06f7f6",
   "metadata": {},
   "outputs": [
    {
     "name": "stdout",
     "output_type": "stream",
     "text": [
      "division by zero exception has occured\n"
     ]
    }
   ],
   "source": [
    "def runcalc(x):\n",
    "    x/0\n",
    "try:\n",
    "    runcalc(6)\n",
    "except IndexError as i:\n",
    "    print(i,'exception has occured')\n",
    "except FileNotFoundError as f:\n",
    "    print(f,'exception has occured')\n",
    "except ZeroDivisionError as z:\n",
    "    print(z,'exception has occured')\n",
    "except Exception:\n",
    "    print('An unknown exception has occured')"
   ]
  },
  {
   "cell_type": "code",
   "execution_count": 34,
   "id": "6f71f666",
   "metadata": {},
   "outputs": [
    {
     "name": "stdout",
     "output_type": "stream",
     "text": [
      "Starting...\n",
      "before functin call..\n",
      "start my_function\n",
      "division by zero error raised\n",
      "end\n"
     ]
    }
   ],
   "source": [
    "def my_function(x,y):\n",
    "    print('start my_function')\n",
    "    result = x/y\n",
    "    print('Exiting my_function')\n",
    "    return result\n",
    "print('Starting...')\n",
    "try:\n",
    "    print('before functin call..')\n",
    "    res = my_function(5,0)\n",
    "    print('The returned result is',res)\n",
    "    print('after function call...')\n",
    "except ZeroDivisionError as exc:\n",
    "    print(exc,'error raised')\n",
    "print('end')"
   ]
  },
  {
   "cell_type": "code",
   "execution_count": 35,
   "id": "31d8b90b",
   "metadata": {},
   "outputs": [
    {
     "name": "stdout",
     "output_type": "stream",
     "text": [
      "start my_function\n",
      "Something went wrong\n"
     ]
    }
   ],
   "source": [
    "try:\n",
    "    my_function(5,0)\n",
    "except IndexError as i:\n",
    "    print(i)\n",
    "except:\n",
    "    print('Something went wrong')"
   ]
  },
  {
   "cell_type": "code",
   "execution_count": 44,
   "id": "dae6a09a",
   "metadata": {},
   "outputs": [
    {
     "name": "stdout",
     "output_type": "stream",
     "text": [
      "start my_function\n",
      "Exiting my_function\n",
      "The result of my-function is: 1.2\n",
      "Everything is working fine\n"
     ]
    }
   ],
   "source": [
    "# else clause\n",
    "\n",
    "try:\n",
    "    print('The result of my-function is:',my_function(6,5))\n",
    "except ZeroDivisionError as z:\n",
    "    print(z,'Exception raised')\n",
    "else:\n",
    "    print('Everything is working fine')"
   ]
  },
  {
   "cell_type": "code",
   "execution_count": 46,
   "id": "8f0b1936",
   "metadata": {},
   "outputs": [
    {
     "name": "stdout",
     "output_type": "stream",
     "text": [
      "start my_function\n",
      "division by zero Exception raised\n",
      "This code always runs\n"
     ]
    }
   ],
   "source": [
    "#finally clause \n",
    "\n",
    "try:\n",
    "    print('The result of my-function is:',my_function(6,0))\n",
    "except ZeroDivisionError as z:\n",
    "    print(z,'Exception raised')\n",
    "else:\n",
    "    print('Everything is working fine')\n",
    "finally :\n",
    "    print('This code always runs')"
   ]
  },
  {
   "cell_type": "markdown",
   "id": "f4fc8001",
   "metadata": {},
   "source": [
    "### Raising an Exception\n"
   ]
  },
  {
   "cell_type": "code",
   "execution_count": 57,
   "id": "4c3ee60b",
   "metadata": {},
   "outputs": [
    {
     "name": "stdout",
     "output_type": "stream",
     "text": [
      "Enter x value:5\n",
      "Enter y value:8\n",
      "start my_function\n",
      "Exiting my_function\n",
      "The result of diviaon is :  0.625\n",
      "Everything worked fine\n"
     ]
    }
   ],
   "source": [
    "x = int(input('Enter x value:'))\n",
    "y = int(input('Enter y value:'))\n",
    "try:\n",
    "    if y==0:\n",
    "        raise ValueError('Division is not possible with 0')\n",
    "    print('The result of diviaon is : ',my_function(x,y))\n",
    "except ValueError as v:\n",
    "        print(v)\n",
    "else:\n",
    "    print('Everything worked fine')"
   ]
  },
  {
   "cell_type": "markdown",
   "id": "6171977c",
   "metadata": {},
   "source": [
    "### ASSERTIONS\n",
    "\n"
   ]
  },
  {
   "cell_type": "code",
   "execution_count": 61,
   "id": "35b70d7f",
   "metadata": {},
   "outputs": [
    {
     "name": "stdout",
     "output_type": "stream",
     "text": [
      "Enter x value:5\n",
      "Enter y value:6\n",
      "After assertion\n",
      "start my_function\n",
      "Exiting my_function\n",
      "0.8333333333333334\n"
     ]
    }
   ],
   "source": [
    "x=int(input('Enter x value:'))\n",
    "y = int(input('Enter y value:'))\n",
    "assert y!=0,'denominator should not be 0'\n",
    "print('After assertion')\n",
    "print(my_function(x,y))"
   ]
  },
  {
   "cell_type": "code",
   "execution_count": 68,
   "id": "ded88a2e",
   "metadata": {},
   "outputs": [],
   "source": [
    "# program to accept n value as positive integer, print the squares of numbers from 1 to n \n",
    "#if a negative number is entered, then raise value error and display a relavent error message and exit\n",
    "\n",
    "class Squares(object):\n",
    "    def __init__(self,l):\n",
    "        self._limit = l\n",
    "        self._val=1\n",
    "    def __iter__(self):\n",
    "        return self\n",
    "    def __next__(self):\n",
    "        if self._val>self._limit:\n",
    "            raise StopIteration\n",
    "        else:\n",
    "            return_val = self._val * self._val\n",
    "            self._val +=1\n",
    "            return return_val\n",
    "        "
   ]
  },
  {
   "cell_type": "code",
   "execution_count": 82,
   "id": "a2cbc52a",
   "metadata": {},
   "outputs": [
    {
     "name": "stdout",
     "output_type": "stream",
     "text": [
      "Enter n value: 6\n",
      "1\n",
      "4\n",
      "9\n",
      "16\n",
      "25\n",
      "36\n"
     ]
    }
   ],
   "source": [
    "n = int(input('Enter n value: '))\n",
    "try :\n",
    "    if n<0:\n",
    "        raise ValueError('Entered value is negative number \\n')\n",
    "except ValueError as v:\n",
    "    print(v,'Enter a positive Integer')\n",
    "for i in Squares(n):\n",
    "    print(i,end='\\n')"
   ]
  },
  {
   "cell_type": "markdown",
   "id": "a4476f60",
   "metadata": {},
   "source": [
    "### Decorators"
   ]
  },
  {
   "cell_type": "code",
   "execution_count": 90,
   "id": "482e7ecc",
   "metadata": {},
   "outputs": [],
   "source": [
    "# a simple decorator\n",
    "def my_decorator(func):\n",
    "    def wrapper():\n",
    "        print('-'*50)\n",
    "        func()\n",
    "        print('-'*50)\n",
    "    return wrapper\n",
    "    "
   ]
  },
  {
   "cell_type": "code",
   "execution_count": 92,
   "id": "414a73fa",
   "metadata": {},
   "outputs": [
    {
     "name": "stdout",
     "output_type": "stream",
     "text": [
      "--------------------------------------------------\n",
      "Welcome to Decorators...\n",
      "--------------------------------------------------\n"
     ]
    }
   ],
   "source": [
    "@my_decorator\n",
    "def display():\n",
    "    print('Welcome to Decorators...')\n",
    "display()"
   ]
  },
  {
   "cell_type": "code",
   "execution_count": 166,
   "id": "00a895a6",
   "metadata": {},
   "outputs": [],
   "source": [
    "# demonstrate multiple decorators\n",
    "def star(func):\n",
    "    def inner(*args,**kwargs):\n",
    "        print('*'*75)\n",
    "        func(*args,**kwargs)\n",
    "        print('*'*75)\n",
    "    return inner\n",
    "def percentage(func):\n",
    "    def inner (*args,**kwargs):\n",
    "        print('%'*75)\n",
    "        func(*args,**kwargs)\n",
    "        print('%'*75)\n",
    "    return inner\n"
   ]
  },
  {
   "cell_type": "code",
   "execution_count": 167,
   "id": "40b1be0c",
   "metadata": {},
   "outputs": [],
   "source": [
    "@star\n",
    "@percentage\n",
    "def printer(msg):\n",
    "    print(msg)"
   ]
  },
  {
   "cell_type": "code",
   "execution_count": 169,
   "id": "d09517ae",
   "metadata": {},
   "outputs": [
    {
     "name": "stdout",
     "output_type": "stream",
     "text": [
      "***************************************************************************\n",
      "%%%%%%%%%%%%%%%%%%%%%%%%%%%%%%%%%%%%%%%%%%%%%%%%%%%%%%%%%%%%%%%%%%%%%%%%%%%\n",
      "program to illustrate the concept of multiple decorators\n",
      "%%%%%%%%%%%%%%%%%%%%%%%%%%%%%%%%%%%%%%%%%%%%%%%%%%%%%%%%%%%%%%%%%%%%%%%%%%%\n",
      "***************************************************************************\n"
     ]
    }
   ],
   "source": [
    "printer('program to illustrate the concept of multiple decorators')"
   ]
  },
  {
   "cell_type": "code",
   "execution_count": 130,
   "id": "d249b38d",
   "metadata": {},
   "outputs": [],
   "source": [
    "# implement the Timer decerator (returns calculation or execution time)\n",
    "\n",
    "import time\n",
    "def timer(func):\n",
    "    def calculate(*args,**kwargs):\n",
    "        start_time = time.perf_counter()\n",
    "        value = func(*args,**kwargs)\n",
    "        end_time = time.perf_counter()\n",
    "        run_time = end_time - start_time\n",
    "        print('Execution time is ::{0:10.10f}secs'.format(run_time))\n",
    "        return value\n",
    "    return calculate"
   ]
  },
  {
   "cell_type": "code",
   "execution_count": 139,
   "id": "319afc96",
   "metadata": {},
   "outputs": [],
   "source": [
    "@timer\n",
    "def factorial(n):\n",
    "    fact  = 1\n",
    "    for i in range(n):\n",
    "        fact = fact * (i+1)\n",
    "    return fact\n",
    "    "
   ]
  },
  {
   "cell_type": "code",
   "execution_count": 141,
   "id": "ed1bb80e",
   "metadata": {},
   "outputs": [
    {
     "name": "stdout",
     "output_type": "stream",
     "text": [
      "Execution time is ::0.0000037000secs\n"
     ]
    },
    {
     "data": {
      "text/plain": [
       "362880"
      ]
     },
     "execution_count": 141,
     "metadata": {},
     "output_type": "execute_result"
    }
   ],
   "source": [
    "factorial(9)"
   ]
  },
  {
   "cell_type": "code",
   "execution_count": 157,
   "id": "334437f9",
   "metadata": {},
   "outputs": [
    {
     "name": "stdout",
     "output_type": "stream",
     "text": [
      "Enter a number :e\n",
      "ValueError raised could not convert string to float: 'e'\n"
     ]
    }
   ],
   "source": [
    "# MY OWN PRACTICE\n",
    "\n",
    "\n",
    "try:\n",
    "    num = float(input('Enter a number :'))\n",
    "    val = 50/num\n",
    "except ZeroDivisionError as z:\n",
    "    print(z,'Error raised')\n",
    "except ValueError as v:\n",
    "    print('ValueError raised',v)\n",
    "else:\n",
    "    print(val)"
   ]
  },
  {
   "cell_type": "code",
   "execution_count": null,
   "id": "71532526",
   "metadata": {},
   "outputs": [],
   "source": []
  }
 ],
 "metadata": {
  "kernelspec": {
   "display_name": "Python 3 (ipykernel)",
   "language": "python",
   "name": "python3"
  },
  "language_info": {
   "codemirror_mode": {
    "name": "ipython",
    "version": 3
   },
   "file_extension": ".py",
   "mimetype": "text/x-python",
   "name": "python",
   "nbconvert_exporter": "python",
   "pygments_lexer": "ipython3",
   "version": "3.9.12"
  }
 },
 "nbformat": 4,
 "nbformat_minor": 5
}
