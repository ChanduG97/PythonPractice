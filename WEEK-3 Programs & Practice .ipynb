{
 "cells": [
  {
   "cell_type": "markdown",
   "id": "cd2e4861",
   "metadata": {},
   "source": [
    "# WEEK 3"
   ]
  },
  {
   "cell_type": "markdown",
   "id": "813b55a9",
   "metadata": {},
   "source": [
    "### WHILE LOOP\n"
   ]
  },
  {
   "cell_type": "code",
   "execution_count": 1,
   "id": "39845c4f",
   "metadata": {},
   "outputs": [
    {
     "name": "stdout",
     "output_type": "stream",
     "text": [
      "Welcome to the Iterative statements, count =  0\n",
      "Welcome to the Iterative statements, count =  1\n",
      "Welcome to the Iterative statements, count =  2\n",
      "Welcome to the Iterative statements, count =  3\n",
      "Welcome to the Iterative statements, count =  4\n",
      "Outside the While loop\n"
     ]
    }
   ],
   "source": [
    "# print a message 5 times using while loop\n",
    "count = 0    #count is variable\n",
    "\n",
    "while count < 5:\n",
    "    print('Welcome to the Iterative statements, count = ',count)\n",
    "    count += 1\n",
    "print(\"Outside the While loop\")"
   ]
  },
  {
   "cell_type": "code",
   "execution_count": 2,
   "id": "c8470b8c",
   "metadata": {},
   "outputs": [
    {
     "name": "stdout",
     "output_type": "stream",
     "text": [
      "Enter vlaue of N : 1\n",
      "Count =  0\n"
     ]
    }
   ],
   "source": [
    "#Print the values from 0 to n-1 , where N value accepts from the user\n",
    "n = int(input(\"Enter vlaue of N : \"))\n",
    "count = 0\n",
    "while count < n :\n",
    "    print('Count = ',count)\n",
    "    count += 1\n",
    "    "
   ]
  },
  {
   "cell_type": "code",
   "execution_count": 3,
   "id": "67902487",
   "metadata": {},
   "outputs": [
    {
     "name": "stdout",
     "output_type": "stream",
     "text": [
      "Enter value of N : 1\n",
      "Count =  1\n"
     ]
    }
   ],
   "source": [
    "#Print the values from 1 to n, where N value accepts from the user\n",
    "n = int(input(\"Enter value of N : \"))\n",
    "count = 1 \n",
    "while count <= n :\n",
    "    print('Count = ',count)\n",
    "    count += 1"
   ]
  },
  {
   "cell_type": "code",
   "execution_count": 4,
   "id": "55a5a94c",
   "metadata": {},
   "outputs": [
    {
     "name": "stdout",
     "output_type": "stream",
     "text": [
      "0\n",
      "2\n",
      "4\n",
      "6\n",
      "8\n",
      "10\n"
     ]
    }
   ],
   "source": [
    "#print numbers from 0 to 10 with increment of 2\n",
    "count = 0\n",
    "while count <= 10:\n",
    "    print(count)\n",
    "    count +=2"
   ]
  },
  {
   "cell_type": "code",
   "execution_count": 5,
   "id": "83658eb1",
   "metadata": {},
   "outputs": [
    {
     "name": "stdout",
     "output_type": "stream",
     "text": [
      "Enter Starting value : 1\n",
      "Enter ending value: 1\n",
      "1\n"
     ]
    }
   ],
   "source": [
    "#print the values starts from m and ends with n, both m,n values are user inputs and with increment of 2\n",
    "m = int(input(\"Enter Starting value : \"))\n",
    "n = int(input(\"Enter ending value: \"))\n",
    "while m <= n:\n",
    "    print(m)\n",
    "    m +=2\n",
    "    \n",
    "    '''\n",
    "#IN VIDEO CODE\n",
    "m = int(input(\"Enter Starting value : \"))\n",
    "n = int(input(\"Enter ending value: \"))\n",
    "count = m\n",
    "while count <= n:\n",
    "    print(count)\n",
    "    count +=2\n",
    "'''"
   ]
  },
  {
   "cell_type": "code",
   "execution_count": 6,
   "id": "30915adf",
   "metadata": {},
   "outputs": [
    {
     "name": "stdout",
     "output_type": "stream",
     "text": [
      "9\n",
      "8\n",
      "7\n",
      "6\n",
      "5\n",
      "4\n",
      "3\n",
      "2\n",
      "1\n",
      "0\n"
     ]
    }
   ],
   "source": [
    "#print numbers from 9 to 0\n",
    "\n",
    "count = 9\n",
    "while count >= 0:\n",
    "    print(count)\n",
    "    count -= 1"
   ]
  },
  {
   "cell_type": "code",
   "execution_count": 7,
   "id": "5a38b6ed",
   "metadata": {},
   "outputs": [
    {
     "name": "stdout",
     "output_type": "stream",
     "text": [
      "Enter value of m :1\n",
      "Enter value of N :1\n",
      "1\n"
     ]
    }
   ],
   "source": [
    "#EXERCISE\n",
    "#print numbers from N to M, m,n values are accepted from user\n",
    "\n",
    "m = int(input('Enter value of m :'))\n",
    "n = int(input('Enter value of N :'))\n",
    "\n",
    "while m >= n :\n",
    "    print(m)\n",
    "    m -= 1 "
   ]
  },
  {
   "cell_type": "code",
   "execution_count": 8,
   "id": "45a2e8de",
   "metadata": {},
   "outputs": [
    {
     "name": "stdout",
     "output_type": "stream",
     "text": [
      "10\n",
      "8\n",
      "6\n",
      "4\n",
      "2\n",
      "0\n"
     ]
    }
   ],
   "source": [
    "#print numbers from 10 to 0 with decrement of 2\n",
    "count = 10\n",
    "while count >=0 :\n",
    "    print(count)\n",
    "    count -= 2"
   ]
  },
  {
   "cell_type": "code",
   "execution_count": 9,
   "id": "7c9ae20e",
   "metadata": {},
   "outputs": [
    {
     "name": "stdout",
     "output_type": "stream",
     "text": [
      "Enter N value : 1\n",
      "Enter a value : 1\n",
      "The average of given numbers are :  1.0\n"
     ]
    }
   ],
   "source": [
    "#Calculate average of N numbers\n",
    "n = int(input('Enter N value : '))\n",
    "sum = 0\n",
    "count = 0\n",
    "while count< n:\n",
    "    num = int(input(\"Enter a value : \"))\n",
    "    sum += num\n",
    "    count +=1\n",
    "avg = sum/n\n",
    "print(\"The average of given numbers are : \",avg)"
   ]
  },
  {
   "cell_type": "markdown",
   "id": "4b8d5f1b",
   "metadata": {},
   "source": [
    "## FOR LOOP"
   ]
  },
  {
   "cell_type": "code",
   "execution_count": 11,
   "id": "ca9156c2",
   "metadata": {},
   "outputs": [
    {
     "name": "stdout",
     "output_type": "stream",
     "text": [
      "Welcome to FOR LOOP , 0\n",
      "Welcome to FOR LOOP , 1\n",
      "Welcome to FOR LOOP , 2\n",
      "Welcome to FOR LOOP , 3\n",
      "Welcome to FOR LOOP , 4\n"
     ]
    }
   ],
   "source": [
    "# Print a statement  5 times using for loop\n",
    "for i in range(0,5) : \n",
    "    print(\"Welcome to FOR LOOP ,\",i)"
   ]
  },
  {
   "cell_type": "code",
   "execution_count": 16,
   "id": "d7a48658",
   "metadata": {},
   "outputs": [
    {
     "name": "stdout",
     "output_type": "stream",
     "text": [
      "I = 0\n",
      "I = 1\n",
      "I = 2\n",
      "I = 3\n",
      "I = 4\n",
      "I = 5\n",
      "I = 6\n",
      "I = 7\n",
      "I = 8\n",
      "I = 9\n",
      "Outside the For loop\n"
     ]
    }
   ],
   "source": [
    "#Write a for loop to Print numbers from 0 to 9\n",
    "for i in range (0,10) :    # 0 is the starting value, 10 is ending value (10-1), till 9 it will be printed, 3rd value not mentions it default value is 1 that is increment value\n",
    "    print('I =',i)\n",
    "print('Outside the For loop')"
   ]
  },
  {
   "cell_type": "code",
   "execution_count": 15,
   "id": "3d01fe3a",
   "metadata": {},
   "outputs": [
    {
     "name": "stdout",
     "output_type": "stream",
     "text": [
      "i = 0\n",
      "i = 2\n",
      "i = 4\n",
      "i = 6\n",
      "i = 8\n",
      "i = 10\n"
     ]
    }
   ],
   "source": [
    "# print numbers from 0 to 10 with an increment of 2\n",
    "for i in range(0,11,2): # 0 is the strating  value, 11 is the ending value.(11-1) till 10 it will be printed, 2 is the increment value\n",
    "    print('i =',i)"
   ]
  },
  {
   "cell_type": "code",
   "execution_count": 19,
   "id": "c4a8e1c3",
   "metadata": {},
   "outputs": [
    {
     "name": "stdout",
     "output_type": "stream",
     "text": [
      "i = 10\n",
      "i = 9\n",
      "i = 8\n",
      "i = 7\n",
      "i = 6\n",
      "i = 5\n",
      "i = 4\n",
      "i = 3\n",
      "i = 2\n",
      "i = 1\n"
     ]
    }
   ],
   "source": [
    "#print numbers from 10 to 1 using for loop\n",
    "for i in range(10,0,-1):   # -1 is the decrement value \n",
    "    print('i =',i)"
   ]
  },
  {
   "cell_type": "code",
   "execution_count": 20,
   "id": "07e6e299",
   "metadata": {},
   "outputs": [
    {
     "name": "stdout",
     "output_type": "stream",
     "text": [
      "enter the value of n : 5\n",
      "Enter a number :5\n",
      "Enter a number :4\n",
      "Enter a number :3\n",
      "Enter a number :2\n",
      "Enter a number :1\n",
      "Average of given numbers are :  3.0\n"
     ]
    }
   ],
   "source": [
    "# Find the average of n numbers\n",
    "n = int(input(\"enter the value of n : \"))\n",
    "sum = 0\n",
    "for i in range (0,n,1):\n",
    "    num = int(input('Enter a number :'))\n",
    "    sum += num\n",
    "avg = sum/n\n",
    "print('Average of given numbers are : ',avg)"
   ]
  },
  {
   "cell_type": "markdown",
   "id": "86c104d7",
   "metadata": {},
   "source": [
    "## BREAK STATEMENT"
   ]
  },
  {
   "cell_type": "code",
   "execution_count": 26,
   "id": "1894e236",
   "metadata": {},
   "outputs": [
    {
     "name": "stdout",
     "output_type": "stream",
     "text": [
      "Before the While loop\n",
      "i= 0\n",
      "i= 1\n",
      "i= 2\n",
      "i= 3\n",
      "i= 4\n",
      "i= 5\n",
      "i= 6\n",
      "Outside while loop...\n"
     ]
    }
   ],
   "source": [
    "# example of break statement using while loop\n",
    "#Print values from 0 to 9\n",
    "i = 0 \n",
    "print('Before the While loop')\n",
    "while i <= 9:\n",
    "    print('i=',i)\n",
    "    i += 1\n",
    "    if i == 7:\n",
    "        break\n",
    "print('Outside while loop...')"
   ]
  },
  {
   "cell_type": "code",
   "execution_count": 27,
   "id": "72ebbf9e",
   "metadata": {},
   "outputs": [
    {
     "name": "stdout",
     "output_type": "stream",
     "text": [
      "i= 0\n",
      "i= 1\n",
      "i= 2\n",
      "i= 3\n",
      "i= 4\n",
      "i= 5\n",
      "i= 6\n",
      "i= 7\n",
      "Outside FOR LOOP\n"
     ]
    }
   ],
   "source": [
    "#example of break statement using for loop\n",
    "for i in range(0,12):\n",
    "    print('i=',i)\n",
    "    if i == 7:\n",
    "        break\n",
    "print('Outside FOR LOOP')"
   ]
  },
  {
   "cell_type": "markdown",
   "id": "422cbfe4",
   "metadata": {},
   "source": [
    "## CONTINUE STATEMENT"
   ]
  },
  {
   "cell_type": "code",
   "execution_count": 28,
   "id": "be236853",
   "metadata": {},
   "outputs": [
    {
     "name": "stdout",
     "output_type": "stream",
     "text": [
      "i = 0\n",
      "i = 1\n",
      "i = 2\n",
      "i = 3\n",
      "i = 4\n",
      "i = 5\n",
      "i = 6\n",
      "i = 8\n",
      "i = 9\n"
     ]
    }
   ],
   "source": [
    "# Example to demonstrate Continue statement\n",
    "for i in range (0,10):\n",
    "    if i == 7:\n",
    "        continue\n",
    "    print('i =',i)\n"
   ]
  },
  {
   "cell_type": "code",
   "execution_count": 31,
   "id": "51abbd50",
   "metadata": {},
   "outputs": [
    {
     "name": "stdout",
     "output_type": "stream",
     "text": [
      "i= 0\n",
      "i= 1\n",
      "i= 2\n",
      "i= 3\n",
      "i= 4\n",
      "i= 5\n",
      "i= 6\n",
      "i= 7\n",
      "i= 8\n",
      "i= 9\n",
      "Outside for loop\n"
     ]
    }
   ],
   "source": [
    "# Example using while statement in continue statement\n",
    "i = 0\n",
    "while i < 10:\n",
    "    print('i=',i)\n",
    "    i +=1\n",
    "    if i == 7:\n",
    "        continue\n",
    "    \n",
    "print('Outside for loop')"
   ]
  },
  {
   "cell_type": "markdown",
   "id": "446c1035",
   "metadata": {},
   "source": [
    "## PASS STATEMENT\n"
   ]
  },
  {
   "cell_type": "code",
   "execution_count": 5,
   "id": "5ce03525",
   "metadata": {},
   "outputs": [
    {
     "name": "stdout",
     "output_type": "stream",
     "text": [
      "Enter N value: 10\n",
      "Entered value is 10\n"
     ]
    }
   ],
   "source": [
    "#Example of PASS Stataement\n",
    "\n",
    "n = int(input('Enter N value: '))\n",
    "if n == 10:\n",
    "    print('Entered value is 10')\n",
    "    pass\n",
    "else :\n",
    "    print('Entered value is not 10.')"
   ]
  },
  {
   "cell_type": "markdown",
   "id": "de15ab62",
   "metadata": {},
   "source": [
    "### ELSE statement with FOR LOOP"
   ]
  },
  {
   "cell_type": "code",
   "execution_count": 9,
   "id": "293b9957",
   "metadata": {},
   "outputs": [
    {
     "name": "stdout",
     "output_type": "stream",
     "text": [
      "i = 0\n",
      "i = 1\n",
      "i = 2\n",
      "i = 3\n",
      "i = 4\n",
      "i = 5\n",
      "i = 6\n",
      "Outside for loop...\n"
     ]
    }
   ],
   "source": [
    "for i in range(0,10):\n",
    "    print('i =',i)\n",
    "    if i == 6:\n",
    "        break\n",
    "else:\n",
    "    print('All iterations Completed')\n",
    "print('Outside for loop...')"
   ]
  },
  {
   "cell_type": "markdown",
   "id": "291eac55",
   "metadata": {},
   "source": [
    "### Example programs"
   ]
  },
  {
   "cell_type": "code",
   "execution_count": 48,
   "id": "b5f8795d",
   "metadata": {},
   "outputs": [
    {
     "name": "stdout",
     "output_type": "stream",
     "text": [
      "Enter N value greater than 10 :12\n",
      "0\n",
      "2\n",
      "4\n",
      "6\n",
      "8\n",
      "10\n",
      "12\n"
     ]
    }
   ],
   "source": [
    "# Write a program to accept an integer n is greaterthan 10.then print all even numbers from 1 to n\n",
    "\n",
    "n =  int(input('Enter N value greater than 10 :'))\n",
    "if n>10:\n",
    "    for i in range(0,n+1):\n",
    "        if i % 2==0:\n",
    "            print(i)\n",
    "else:\n",
    "    print('Entered value',n,'is less than 10')"
   ]
  },
  {
   "cell_type": "code",
   "execution_count": 49,
   "id": "aad9b4e5",
   "metadata": {},
   "outputs": [
    {
     "name": "stdout",
     "output_type": "stream",
     "text": [
      "Enter a number: 12\n",
      "12 is not a prime number\n"
     ]
    }
   ],
   "source": [
    "# Write a program to accept a number n.Determine whether the given number is Prime or NOT\n",
    "\n",
    "n = int(input('Enter a number: '))\n",
    "for i in range(2,n):\n",
    "    if n % i == 0:\n",
    "        print(n,'is not a prime number')\n",
    "        break\n",
    "else :\n",
    "    print(n,'is a prime number')"
   ]
  },
  {
   "cell_type": "code",
   "execution_count": 53,
   "id": "1ea00b88",
   "metadata": {},
   "outputs": [
    {
     "name": "stdout",
     "output_type": "stream",
     "text": [
      "Enter a String: level\n",
      "level is palindrome\n"
     ]
    }
   ],
   "source": [
    "#write a program to accept a string and determine whether the given string is a palindrome or not\n",
    "#examples of palindrome are, civic,nitin,level,madam\n",
    "\n",
    "str1 = input('Enter a String: ')\n",
    "rev = str1[::-1]\n",
    "for i in range(len(str1)):\n",
    "    if str1[i] != rev[i]:\n",
    "        print(str1,'is not a palindrome')\n",
    "        break\n",
    "else:\n",
    "    print(str1,'is palindrome')"
   ]
  },
  {
   "cell_type": "code",
   "execution_count": 52,
   "id": "b1214704",
   "metadata": {},
   "outputs": [
    {
     "name": "stdout",
     "output_type": "stream",
     "text": [
      "Enter a sentence:well, Welcome to Python programming\n",
      "The number of spaces in String is : 4\n"
     ]
    }
   ],
   "source": [
    "#write a program to accept a string from user and count the no of spaces\n",
    "str1 = input('Enter a sentence:')\n",
    "count = 0\n",
    "for i in str1:\n",
    "    if i.isspace():\n",
    "        count +=1\n",
    "print('The number of spaces in String is :',count)"
   ]
  },
  {
   "cell_type": "code",
   "execution_count": 47,
   "id": "6e2e3414",
   "metadata": {},
   "outputs": [
    {
     "name": "stdout",
     "output_type": "stream",
     "text": [
      "Enter a sentence:1. well, Welcome to Python programming.\n",
      "The number of space in sentence is: 5\n",
      "The number of digits in sentence is: 1\n",
      "The number of lower case letters in sentence is: 28\n",
      "The number of upper case letters in sentence is: 2\n",
      "The number of special characters in sentence is: 3\n"
     ]
    }
   ],
   "source": [
    "#write a program to accept a string from user and count and display no of spaces, lowercase letters, upper case letters, digits \n",
    "#and special characters\n",
    "\n",
    "str1 = input('Enter a sentence:')\n",
    "others = 0\n",
    "nospace = 0\n",
    "nolower = 0\n",
    "noupper = 0\n",
    "nodigit = 0\n",
    "for i in str1:\n",
    "    if i.isspace():\n",
    "        nospace += 1\n",
    "    elif i.isupper():\n",
    "        noupper += 1\n",
    "    elif i.islower():\n",
    "        nolower += 1\n",
    "    elif i.isdigit():\n",
    "        nodigit +=1\n",
    "    else:\n",
    "        others += 1\n",
    "    \n",
    "print('The number of space in sentence is:',nospace)\n",
    "print('The number of digits in sentence is:',nodigit)\n",
    "print('The number of lower case letters in sentence is:',nolower)\n",
    "print('The number of upper case letters in sentence is:',noupper)\n",
    "print('The number of special characters in sentence is:',others)"
   ]
  },
  {
   "cell_type": "code",
   "execution_count": 63,
   "id": "bd2eeb5f",
   "metadata": {},
   "outputs": [
    {
     "name": "stdout",
     "output_type": "stream",
     "text": [
      "Enter a sentence: do god\n",
      "do god is palindrome\n"
     ]
    }
   ],
   "source": [
    "#write a program to find out whether a multi word sentence is a palindrome or not\n",
    "\n",
    "str1 = input('Enter a sentence: ')\n",
    "str2 = str1.replace(' ','')\n",
    "rev = str2[::-1]\n",
    "for i in range(len(str2)):\n",
    "    if str2[i] != rev[i]:\n",
    "        print(str1,'is not palindrome')\n",
    "        break\n",
    "else: \n",
    "    print(str1,'is palindrome')\n",
    "    "
   ]
  },
  {
   "cell_type": "code",
   "execution_count": 72,
   "id": "c7bb0ee4",
   "metadata": {},
   "outputs": [
    {
     "data": {
      "text/plain": [
       "\"str1 = input('Enter a sentence: ')\\nstr2 = str1.replace(' ','')\\nstr2 = str1.replace('?','')\\nstr2 = str1.replace('.','')\\nstr2 = str1.replace(',','')\\nstr2 = str1.replace('!','')\\nstr2 = str1.replace('@','')\\nstr2 = str1.replace('#','')\\nstr2 = str1.replace('$','')\\nstr2 = str1.replace('%','')\\nstr2 = str1.replace('&','')\\nstr2 = str1.replace('*','')\\nstr2 = str1.replace('-','')\\nstr2 = str1.replace('_','')\\nrev = str2[::-1]\\nfor i in range(len(str2)):\\n    if str2[i] != rev[i]:\\n        print(str1,'is not a palindrome.')\\n        break\\nelse :\\n    print(str1,'is a palindrome.')\""
      ]
     },
     "execution_count": 72,
     "metadata": {},
     "output_type": "execute_result"
    }
   ],
   "source": [
    "#write a program to find out whether a multi word sentence is a palindrome or not by removing special characters\n",
    "'''str1 = input('Enter a sentence: ')\n",
    "str2 = str1.replace(' ','')\n",
    "str2 = str1.replace('?','')\n",
    "str2 = str1.replace('.','')\n",
    "str2 = str1.replace(',','')\n",
    "str2 = str1.replace('!','')\n",
    "str2 = str1.replace('@','')\n",
    "str2 = str1.replace('#','')\n",
    "str2 = str1.replace('$','')\n",
    "str2 = str1.replace('%','')\n",
    "str2 = str1.replace('&','')\n",
    "str2 = str1.replace('*','')\n",
    "str2 = str1.replace('-','')\n",
    "str2 = str1.replace('_','')\n",
    "rev = str2[::-1]\n",
    "for i in range(len(str2)):\n",
    "    if str2[i] != rev[i]:\n",
    "        print(str1,'is not a palindrome.')\n",
    "        break\n",
    "else :\n",
    "    print(str1,'is a palindrome.')'''"
   ]
  },
  {
   "cell_type": "code",
   "execution_count": 79,
   "id": "aae7fba2",
   "metadata": {},
   "outputs": [
    {
     "name": "stdout",
     "output_type": "stream",
     "text": [
      "Enter the number to convert(Greaterthan 0): 121\n",
      "The binary equivalent is: 1111001\n"
     ]
    }
   ],
   "source": [
    "#write a program to accept a decimal integer and print its binary equilant\n",
    "q = int(input('Enter the number to convert(Greaterthan 0): '))\n",
    "result = ''\n",
    "while q!=0:\n",
    "    r = q % 2\n",
    "    result += str(r)\n",
    "    q //= 2\n",
    "result = result[::-1]\n",
    "print('The binary equivalent is:',result)"
   ]
  },
  {
   "cell_type": "markdown",
   "id": "d948781f",
   "metadata": {},
   "source": [
    "## Console Input\n"
   ]
  },
  {
   "cell_type": "code",
   "execution_count": 3,
   "id": "283e9117",
   "metadata": {},
   "outputs": [
    {
     "name": "stdout",
     "output_type": "stream",
     "text": [
      "Enter a,b and c values : 10 12 14\n",
      "a= 10\n",
      "b= 12\n",
      "c= 14\n"
     ]
    }
   ],
   "source": [
    "#Split() is used to split the input values based on the spaces\n",
    "\n",
    "a,b,c = input('Enter a,b and c values : ').split()\n",
    "print('a=',a)\n",
    "print('b=',b)\n",
    "print('c=',c)"
   ]
  },
  {
   "cell_type": "markdown",
   "id": "cadc8c3d",
   "metadata": {},
   "source": [
    "## Console Output\n"
   ]
  },
  {
   "cell_type": "code",
   "execution_count": 4,
   "id": "6a1a482f",
   "metadata": {},
   "outputs": [
    {
     "name": "stdout",
     "output_type": "stream",
     "text": [
      "Enter a,b,c values: 10 25 45\n",
      "10,25,45\n"
     ]
    }
   ],
   "source": [
    "a,b,c = input('Enter a,b,c values: ').split()\n",
    "print(a,b,c,sep=',')    #sep = seperator,  the symbol we gave in the seperatore takes as input and seperates using that symbol"
   ]
  },
  {
   "cell_type": "code",
   "execution_count": 8,
   "id": "90230670",
   "metadata": {},
   "outputs": [
    {
     "name": "stdout",
     "output_type": "stream",
     "text": [
      "Enter values of a,b,c 10 25 85\n",
      "10:25:85            New line\n"
     ]
    }
   ],
   "source": [
    "a,b,c = input('Enter values of a,b,c ').split()\n",
    "print(a,b,c,sep=':',end='            ') \n",
    "#end = end of line, if we not mention it takes as new line, if we mention, it takes based on input,\\t tab space,\\n new line etc\n",
    "print('New line')"
   ]
  },
  {
   "cell_type": "markdown",
   "id": "5c3a6026",
   "metadata": {},
   "source": [
    "## Formatted output\n"
   ]
  },
  {
   "cell_type": "code",
   "execution_count": 25,
   "id": "fdd24fe2",
   "metadata": {},
   "outputs": [
    {
     "name": "stdout",
     "output_type": "stream",
     "text": [
      "radius = 1.5\n",
      "length=4.5, breadth = 9, name = Gadde Naveen Chand\n",
      "Gadde     \n",
      "Naveen    \n",
      "Chand     \n"
     ]
    }
   ],
   "source": [
    "r,l,b,name = 1.5,4.5,9,'Gadde Naveen Chand'\n",
    "print(f'radius = {r}')\n",
    "print(f'length={l}, breadth = {b}, name = {name}')\n",
    "# for split the name into parts it uses spaces in the string\n",
    "for i in name.split():\n",
    "    #print(i)\n",
    "    print(f'{i:10}') #prints 10 spaces after stirng"
   ]
  },
  {
   "cell_type": "code",
   "execution_count": 38,
   "id": "23603bc4",
   "metadata": {},
   "outputs": [
    {
     "name": "stdout",
     "output_type": "stream",
     "text": [
      "name=Naveen chand Gadde,age=25,salary=30000\n",
      "length = 4.5,breadth=9,radius=1.5\n"
     ]
    }
   ],
   "source": [
    "name,age,salary='Naveen chand Gadde',25,30000\n",
    "print('name={},age={},salary={}'.format(name,age,salary))\n",
    "print('length = {},breadth={},radius={}'.format(l,b,r))"
   ]
  },
  {
   "cell_type": "code",
   "execution_count": 39,
   "id": "8eb6eb81",
   "metadata": {
    "scrolled": true
   },
   "outputs": [
    {
     "name": "stdout",
     "output_type": "stream",
     "text": [
      "Name=Naveen chand Gadde,age=25,salary=30000\n",
      "length=4.5,breadth=9,radius=1.5\n"
     ]
    }
   ],
   "source": [
    "print('Name={2},age={1},salary={0}'.format(salary,age,name))\n",
    "print('length={1},breadth={2},radius={0}'.format(r,l,b))"
   ]
  },
  {
   "cell_type": "code",
   "execution_count": 42,
   "id": "d3ee47c7",
   "metadata": {},
   "outputs": [
    {
     "name": "stdout",
     "output_type": "stream",
     "text": [
      "name=Naveen chand Gadde        , salary=     30000\n"
     ]
    }
   ],
   "source": [
    "#print name with 15 columns and salary with 10 columns\n",
    "\n",
    "print('name={0:25} , salary={1:10}'.format(name,salary))"
   ]
  },
  {
   "cell_type": "code",
   "execution_count": 44,
   "id": "93c96aa2",
   "metadata": {},
   "outputs": [
    {
     "name": "stdout",
     "output_type": "stream",
     "text": [
      "radius=      1.50\n"
     ]
    }
   ],
   "source": [
    "#print radius with 10 columns and only 2 decimal spaces\n",
    "print('radius={0:10.2f}'.format(r))"
   ]
  },
  {
   "cell_type": "markdown",
   "id": "19fc0d08",
   "metadata": {},
   "source": [
    "### End of week 3\n"
   ]
  }
 ],
 "metadata": {
  "kernelspec": {
   "display_name": "Python 3 (ipykernel)",
   "language": "python",
   "name": "python3"
  },
  "language_info": {
   "codemirror_mode": {
    "name": "ipython",
    "version": 3
   },
   "file_extension": ".py",
   "mimetype": "text/x-python",
   "name": "python",
   "nbconvert_exporter": "python",
   "pygments_lexer": "ipython3",
   "version": "3.9.12"
  }
 },
 "nbformat": 4,
 "nbformat_minor": 5
}
