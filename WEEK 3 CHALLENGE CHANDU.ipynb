{
 "cells": [
  {
   "cell_type": "markdown",
   "id": "442d1ee8",
   "metadata": {},
   "source": [
    "## WEEK 3 CHALLENGE Chandu"
   ]
  },
  {
   "cell_type": "markdown",
   "id": "b1042c5a",
   "metadata": {},
   "source": [
    "### 1.Write a program to accept an integer n greater than 10. Then print all the odd numbers from 1 to n."
   ]
  },
  {
   "cell_type": "code",
   "execution_count": 55,
   "id": "aec8a865",
   "metadata": {},
   "outputs": [
    {
     "name": "stdout",
     "output_type": "stream",
     "text": [
      "Enter a number greaterthan 10 :12\n",
      "1 3 5 7 9 11 "
     ]
    }
   ],
   "source": [
    "n = int(input('Enter a number greaterthan 10 :'))\n",
    "while n<=10:  #if we enter a number <= 10 it askes for another input value\n",
    "    print('Entered number is lessthan  or equal to 10')\n",
    "    n= int(input('Enter another number greaterthan 10:'))\n",
    "for i in range(1,n+1,2):   #starts from 1, n+1 increment , 2 is increment\n",
    "    print(i,end=' ')     #end = ' '(space) mentioned to print all odd numbers in single line and seperate with space"
   ]
  },
  {
   "cell_type": "markdown",
   "id": "987f6240",
   "metadata": {},
   "source": [
    "### 2. Write a program to accept an integer n greater than 10. Then print all the prime numbers from 1 to n."
   ]
  },
  {
   "cell_type": "code",
   "execution_count": 56,
   "id": "a3f1d7cd",
   "metadata": {},
   "outputs": [
    {
     "name": "stdout",
     "output_type": "stream",
     "text": [
      "Enter a number greaterthan 10: 12\n",
      "2 3 5 7 11 "
     ]
    }
   ],
   "source": [
    "m = int(input('Enter a number greaterthan 10: '))\n",
    "while m<=10:\n",
    "    print('Entered number is less than or equals to 10')\n",
    "    m=int(input('Enter another number greaterthan 10: '))\n",
    "for n in range(2,m):\n",
    "    count=0\n",
    "    for k in range(2,((n//2)+1)):\n",
    "        if(n%k==0):\n",
    "            count+=1\n",
    "            break\n",
    "    else:\n",
    "        print(n,end=' ')"
   ]
  },
  {
   "cell_type": "markdown",
   "id": "6f736c51",
   "metadata": {},
   "source": [
    "### 3. In this exercise you will create a program that computes the average of a collection of values entered by the user. The user will enter 0 as a sentinel value to indicate that no further values will be provided. Your program should display an appropriate error message if the first value entered by the user is 0."
   ]
  },
  {
   "cell_type": "code",
   "execution_count": 54,
   "id": "2f42be7b",
   "metadata": {},
   "outputs": [
    {
     "name": "stdout",
     "output_type": "stream",
     "text": [
      "Input some integers to calculate their sum & Average, input 0 to exit\n",
      "number: 1\n",
      "number: 2\n",
      "number: 3\n",
      "number: 0\n",
      "Average and sum of entered numbers :  2.0 6.0\n"
     ]
    }
   ],
   "source": [
    "print('Input some integers to calculate their sum & Average, input 0 to exit')\n",
    "count = 0\n",
    "sums = 0.0  #Float value\n",
    "num = 1.0   #Float value\n",
    "while num!=0:\n",
    "    num=int(input('number: '))\n",
    "    sums +=num\n",
    "    count+=1\n",
    "if count==0:\n",
    "    print('Input some numbers')\n",
    "\n",
    "else:\n",
    "    print('Average and sum of entered numbers : ',sums/(count-1),sums)"
   ]
  },
  {
   "cell_type": "markdown",
   "id": "741b6237",
   "metadata": {},
   "source": [
    "### 4. Write a program that takes a number as input and prints its multiplication table.\n"
   ]
  },
  {
   "cell_type": "code",
   "execution_count": 59,
   "id": "93b65843",
   "metadata": {},
   "outputs": [
    {
     "name": "stdout",
     "output_type": "stream",
     "text": [
      "Enter a number: 12\n",
      "12 x 0 = 0\n",
      "12 x 1 = 12\n",
      "12 x 2 = 24\n",
      "12 x 3 = 36\n",
      "12 x 4 = 48\n",
      "12 x 5 = 60\n",
      "12 x 6 = 72\n",
      "12 x 7 = 84\n",
      "12 x 8 = 96\n",
      "12 x 9 = 108\n",
      "12 x 10 = 120\n",
      "12 x 11 = 132\n",
      "12 x 12 = 144\n",
      "12 x 13 = 156\n",
      "12 x 14 = 168\n",
      "12 x 15 = 180\n",
      "12 x 16 = 192\n",
      "12 x 17 = 204\n",
      "12 x 18 = 216\n",
      "12 x 19 = 228\n",
      "12 x 20 = 240\n"
     ]
    }
   ],
   "source": [
    "#printing multiplication till 20 multiplication values\n",
    "num = int(input('Enter a number: '))\n",
    "for i in range (0,21):\n",
    "    print(num,'x',i,'=',num * i)"
   ]
  },
  {
   "cell_type": "markdown",
   "id": "79bdf25b",
   "metadata": {},
   "source": [
    "### 5. Write a program that displays a temperature conversion table for degrees Celsius and degrees Fahrenheit. The table should include rows for all temperatures between 0 and 100 degrees Celsius that are multiples of 10 degrees Celsius. Include appropriate headings on your columns.\n"
   ]
  },
  {
   "cell_type": "code",
   "execution_count": 60,
   "id": "40d822c9",
   "metadata": {},
   "outputs": [
    {
     "name": "stdout",
     "output_type": "stream",
     "text": [
      "   F   C\n",
      "  32    0\n",
      "  50   10\n",
      "  68   20\n",
      "  86   30\n",
      " 104   40\n",
      " 122   50\n",
      " 140   60\n",
      " 158   70\n",
      " 176   80\n",
      " 194   90\n",
      " 212  100\n"
     ]
    }
   ],
   "source": [
    "print('   F   C')\n",
    "C = 0\n",
    "while C <= 100:\n",
    "    F = 9 * C / 5 + 32\n",
    "    print('%4.0f %4.0f' % (F, C))\n",
    "    C += 10"
   ]
  },
  {
   "cell_type": "markdown",
   "id": "7784a67a",
   "metadata": {},
   "source": [
    "### 6. A string is a palindrome if it is identical forward and backward. For example “anna”, “civic”, “level” and “madam” are all examples of palindrome words. Write a program that reads a string from the user and uses a loop to determine whether or not it is a palindrome. Display the result, including a meaningful output message."
   ]
  },
  {
   "cell_type": "code",
   "execution_count": 69,
   "id": "befd6f82",
   "metadata": {},
   "outputs": [
    {
     "name": "stdout",
     "output_type": "stream",
     "text": [
      "Enter a string: amma\n",
      "amma is a palindrome\n"
     ]
    }
   ],
   "source": [
    "str1 = input('Enter a string: ')\n",
    "str2 = str1.replace(' ','')\n",
    "rev=str2[::-1]\n",
    "for i in range(len(str2)):\n",
    "    if str2[i]!=rev[i]:\n",
    "        print(str1,'is not a palindrome')\n",
    "        break\n",
    "else:\n",
    "    print(str1,'is a palindrome')"
   ]
  },
  {
   "cell_type": "markdown",
   "id": "24832895",
   "metadata": {},
   "source": [
    "### 7. The greatest common divisor (GCD) of two positive integers, n and m, is the largest number, d, which divides evenly into both n and m. The following algorithm is used to find GCD of n and m :\n",
    "### Initialize d to the smaller of m and n.\n",
    "### While d does not evenly divide m or d does not evenly divide n do\n",
    "### Decrease the value of d by 1\n",
    "### Report d as the greatest common divisor of n and m\n",
    "### Write a program that reads two positive integers from the user and uses this algorithm to determine and report their greatest common divisor.\n"
   ]
  },
  {
   "cell_type": "code",
   "execution_count": 73,
   "id": "e3392cd9",
   "metadata": {},
   "outputs": [
    {
     "name": "stdout",
     "output_type": "stream",
     "text": [
      "Enter a number :9\n",
      "Enter a number :3\n",
      "3\n"
     ]
    }
   ],
   "source": [
    "m=int(input('Enter a number :'))\n",
    "n=int(input('Enter a number :'))\n",
    "d=min(m,n)\n",
    "while m%d!=0 or n%d!=0:\n",
    "    d=d-1\n",
    "print(d)"
   ]
  },
  {
   "cell_type": "markdown",
   "id": "12352b7d",
   "metadata": {},
   "source": [
    "### 8. The prime factorization of an integer, n, can be determined using the following steps:\n",
    "\n",
    "Initialize factor to two,\n",
    "While factor is less than or equal to n do,.\n",
    "If n is evenly divisible by factor then,\n",
    "           Conclude that factor is a factor of n\n",
    "           Divide n by factor using integer division\n",
    "Else\n",
    "\n",
    "Increase factor by one\n",
    "\n",
    "### Write a program that reads an integer from the user. If the value entered by the user is less than 2 then your program should display an appropriate error message. Otherwise your program should display the prime numbers that can be multiplied together to compute n, with one factor appearing on each line.\n"
   ]
  },
  {
   "cell_type": "code",
   "execution_count": 85,
   "id": "3bb3bbcd",
   "metadata": {},
   "outputs": [
    {
     "name": "stdout",
     "output_type": "stream",
     "text": [
      "Enter an Integer greater than 2: 24\n",
      "2\n",
      "2\n",
      "2\n",
      "3\n"
     ]
    }
   ],
   "source": [
    "n =  int(input('Enter an Integer greater than 2: '))\n",
    "factor = 2\n",
    "if n<2:\n",
    "    print('Entered value is lessthan 2.no prime numbers below 2')\n",
    "    n=int(input('Enter an integer greaterthan 2: '))\n",
    "while factor <= n:\n",
    "    if n% factor == 0 :\n",
    "        print(factor)\n",
    "        n=int(n/factor)\n",
    "    else:\n",
    "        factor +=1"
   ]
  },
  {
   "cell_type": "markdown",
   "id": "14dc14c2",
   "metadata": {},
   "source": [
    "### 9. Write a program that converts a binary (base 2) number to decimal (base 10). Your program should begin by reading the binary number from the user as a string. Then it should compute the equivalent decimal number by processing each digit in the binary number. Finally, your program should display the equivalent decimal number with an appropriate message.\n"
   ]
  },
  {
   "cell_type": "code",
   "execution_count": 5,
   "id": "68c29f84",
   "metadata": {},
   "outputs": [
    {
     "name": "stdout",
     "output_type": "stream",
     "text": [
      "Enter The binary number: 10101010\n",
      "Equivalent Decimal value =  170\n"
     ]
    }
   ],
   "source": [
    "binary=int(input('Enter The binary number: '))\n",
    "decimal=0\n",
    "m=1\n",
    "length = len(str(binary))\n",
    "for k in range(length):\n",
    "    rem = binary % 10\n",
    "    decimal = decimal + (rem*m)\n",
    "    m = m *2\n",
    "    binary = int(binary/10)\n",
    "print('Equivalent Decimal value = ',decimal)"
   ]
  },
  {
   "cell_type": "markdown",
   "id": "d41a235b",
   "metadata": {},
   "source": [
    "### 10. Demonstrate the formatting capabilities of format function on integers, floats and strings."
   ]
  },
  {
   "cell_type": "code",
   "execution_count": 94,
   "id": "1890a33a",
   "metadata": {},
   "outputs": [
    {
     "name": "stdout",
     "output_type": "stream",
     "text": [
      "radius = 1.5\n",
      "length=4.5, breadth = 9, name = Gadde Naveen Chand\n",
      "Gadde     \n",
      "Naveen    \n",
      "Chand     \n",
      "Name=Gadde Naveen Chand,age=25,salary=30000\n",
      "length=4.5,breadth=9,radius=1.5\n",
      "radius=      1.50\n"
     ]
    }
   ],
   "source": [
    "r,l,b,name = 1.5,4.5,9,'Gadde Naveen Chand'\n",
    "salary,age=30000,25\n",
    "\n",
    "print(f'radius = {r}')\n",
    "print(f'length={l}, breadth = {b}, name = {name}')\n",
    "\n",
    "# for split the name into parts it uses spaces in the string\n",
    "\n",
    "for i in name.split():\n",
    "    print(f'{i:10}') #prints 10 spaces after stirng\n",
    "    \n",
    "    \n",
    "print('Name={2},age={1},salary={0}'.format(salary,age,name))\n",
    "print('length={1},breadth={2},radius={0}'.format(r,l,b))\n",
    "\n",
    "#print radius with 10 columns and only 2 decimal spaces\n",
    "print('radius={0:10.2f}'.format(r))"
   ]
  },
  {
   "cell_type": "code",
   "execution_count": null,
   "id": "369e742d",
   "metadata": {},
   "outputs": [],
   "source": []
  }
 ],
 "metadata": {
  "kernelspec": {
   "display_name": "Python 3 (ipykernel)",
   "language": "python",
   "name": "python3"
  },
  "language_info": {
   "codemirror_mode": {
    "name": "ipython",
    "version": 3
   },
   "file_extension": ".py",
   "mimetype": "text/x-python",
   "name": "python",
   "nbconvert_exporter": "python",
   "pygments_lexer": "ipython3",
   "version": "3.9.12"
  }
 },
 "nbformat": 4,
 "nbformat_minor": 5
}
