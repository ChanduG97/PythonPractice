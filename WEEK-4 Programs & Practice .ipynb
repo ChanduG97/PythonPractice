{
 "cells": [
  {
   "cell_type": "markdown",
   "id": "6b848e52",
   "metadata": {},
   "source": [
    "# WEEK-4 Programs & Practice "
   ]
  },
  {
   "cell_type": "markdown",
   "id": "7dc4a064",
   "metadata": {},
   "source": [
    "### Collection DATA TYPES"
   ]
  },
  {
   "cell_type": "markdown",
   "id": "fcecde16",
   "metadata": {},
   "source": [
    "### 1.Introduction to colletion types"
   ]
  },
  {
   "cell_type": "markdown",
   "id": "dcd77c56",
   "metadata": {},
   "source": [
    "### 2.Lists\n"
   ]
  },
  {
   "cell_type": "code",
   "execution_count": 59,
   "id": "ead6e04a",
   "metadata": {},
   "outputs": [
    {
     "name": "stdout",
     "output_type": "stream",
     "text": [
      "The list l1 is:  [10, 20, 30, 40]\n",
      "The length of list is:  4\n",
      "The data type of l1 is:  <class 'list'>\n",
      "The list l2 is:  ['Chandu', 10, 0, 20, [45, 9]]\n",
      "The length of l2 is:  5\n",
      "the data type of l2 is:  <class 'list'>\n",
      "The student list = []\n",
      "The student list = ['Chandu', 45, 15.545]\n"
     ]
    }
   ],
   "source": [
    "# creating a list\n",
    "l1 =[10,20,30,40]\n",
    "\n",
    "print('The list l1 is: ',l1)\n",
    "print('The length of list is: ',len(l1))\n",
    "print(\"The data type of l1 is: \",type(l1))\n",
    "\n",
    "l2 =['Chandu',10,0,20,[45,9]]   #Nested list\n",
    "\n",
    "print('The list l2 is: ',l2)\n",
    "print('The length of l2 is: ',len(l2))\n",
    "print('the data type of l2 is: ',type(l2))\n",
    "#creating an empty list\n",
    "student=[]\n",
    "print('The student list =',student)\n",
    "#assigning the values in student list\n",
    "student=['Chandu',45,15.545]\n",
    "print('The student list =',student)"
   ]
  },
  {
   "cell_type": "code",
   "execution_count": 60,
   "id": "bfe8e34d",
   "metadata": {},
   "outputs": [
    {
     "name": "stdout",
     "output_type": "stream",
     "text": [
      "List Created from s is: ['H', 'e', 'l', 'l', 'o', ' ', 'w', 'o', 'r', 'l', 'd', '!']\n"
     ]
    }
   ],
   "source": [
    "s = 'Hello world!'\n",
    "# converting an existing datatype into list\n",
    "l3=list(s)\n",
    "print('List Created from s is:',l3)"
   ]
  },
  {
   "cell_type": "code",
   "execution_count": 61,
   "id": "13c26e27",
   "metadata": {},
   "outputs": [
    {
     "name": "stdout",
     "output_type": "stream",
     "text": [
      "The length of L1,L2,L3,L4,S is:  4 5 12 0 12\n"
     ]
    }
   ],
   "source": [
    "#to find length of the list\n",
    "l4=[]\n",
    "print('The length of L1,L2,L3,L4,S is: ',len(l1),len(l2),len(l3),len(l4),len(s))"
   ]
  },
  {
   "cell_type": "code",
   "execution_count": 62,
   "id": "f8cda62f",
   "metadata": {},
   "outputs": [
    {
     "name": "stdout",
     "output_type": "stream",
     "text": [
      "The student list is :  ['Chandu', 45, 15.545]\n",
      "The Second element of ths list is:  45\n",
      "The third element of the list is:  15.545\n",
      "The last element of the list is:  15.545\n",
      "The second last element of the list is:  45\n",
      "The reverse of the list is:  [15.545, 45, 'Chandu']\n"
     ]
    }
   ],
   "source": [
    "#accessing elements from the list\n",
    "print('The student list is : ',student)\n",
    "print('The Second element of ths list is: ',student[1])\n",
    "print('The third element of the list is: ',student[2])\n",
    "print('The last element of the list is: ',student[-1])\n",
    "print('The second last element of the list is: ',student[-2])\n",
    "print('The reverse of the list is: ',student[::-1])\n"
   ]
  },
  {
   "cell_type": "code",
   "execution_count": 63,
   "id": "5d7a7822",
   "metadata": {},
   "outputs": [
    {
     "name": "stdout",
     "output_type": "stream",
     "text": [
      "List t= ['a', 'b', 'c', 'd', 'e', 'f']\n",
      "Elements of 2 to 4 ['b', 'c']\n",
      "Elements upto 3 ['a', 'b', 'c', 'd']\n",
      "Elements from 2 to end ['c', 'd', 'e', 'f']\n",
      "t[:] ['a', 'b', 'c', 'd', 'e', 'f']\n",
      "Reverse of list, ['f', 'e', 'd', 'c', 'b', 'a']\n"
     ]
    }
   ],
   "source": [
    "#Slicing operations LIST SLICE\n",
    "s='abcdef'\n",
    "t=list(s)\n",
    "print('List t=',t)\n",
    "print('Elements of 2 to 4',t[1:3])\n",
    "print('Elements upto 3',t[:4])\n",
    "print('Elements from 2 to end',t[2:])\n",
    "print('t[:]',t[:])   #Prints full list of t\n",
    "print('Reverse of list,',t[::-1]) #Reverse of list"
   ]
  },
  {
   "cell_type": "code",
   "execution_count": 64,
   "id": "b9bccbbc",
   "metadata": {},
   "outputs": [
    {
     "name": "stdout",
     "output_type": "stream",
     "text": [
      "list t= ['a', 'b', 'c', 'd', 'e', 'f']\n",
      "list t= ['a', 'b', 'c', 'd', 'e', 'z']\n",
      "list t= ['a', 'x', 'y', 'd', 'e', 'z']\n",
      "\n",
      "The list t3 is: ['a', 'b', 12, 10.5, 'abc', 'x', 'y', 9, 45, 545]\n"
     ]
    }
   ],
   "source": [
    "#modifying list elements\n",
    "print('list t=',t)\n",
    "t[5]='z'   #modified 5th value with z\n",
    "print('list t=',t)  #in list f is replaced with z\n",
    "t[1:3]=['x','y']\n",
    "print('list t=',t)  #in list, 1st,2nd index value elements b,c is replaced with x,y\n",
    "\n",
    "#Concatination of 2 lists\n",
    "\n",
    "t1=['a','b',12,10.5,'abc']\n",
    "t2=['x','y',9,45,545]\n",
    "t3=t1+t2\n",
    "print('\\nThe list t3 is:',t3)"
   ]
  },
  {
   "cell_type": "markdown",
   "id": "9eb539c4",
   "metadata": {},
   "source": [
    "### Adding Elements into List"
   ]
  },
  {
   "cell_type": "code",
   "execution_count": 65,
   "id": "af9cefd3",
   "metadata": {},
   "outputs": [
    {
     "name": "stdout",
     "output_type": "stream",
     "text": [
      "['a', 'b', 12, 10.5, 'abc']\n",
      "The list t1 after appending element into list: ['a', 'b', 12, 10.5, 'abc', 'gnc']\n"
     ]
    }
   ],
   "source": [
    "#append() function\n",
    "print(t1)\n",
    "t1.append('gnc') #gnc will be added in the end of the string\n",
    "print('The list t1 after appending element into list:',t1)\n"
   ]
  },
  {
   "cell_type": "code",
   "execution_count": 66,
   "id": "39a2c9d3",
   "metadata": {},
   "outputs": [
    {
     "name": "stdout",
     "output_type": "stream",
     "text": [
      "['a', 'b', 12, 10.5, 'abc', 'gnc']\n",
      "The list t1 after inserting an element in index value 2: ['a', 'b', 'y', 12, 10.5, 'abc', 'gnc']\n"
     ]
    }
   ],
   "source": [
    "#insert() method\n",
    "print(t1)\n",
    "t1.insert(2,'y')\n",
    "print('The list t1 after inserting an element in index value 2:',t1)\n"
   ]
  },
  {
   "cell_type": "markdown",
   "id": "aa7d7e99",
   "metadata": {},
   "source": [
    "### Removing Elements from List"
   ]
  },
  {
   "cell_type": "code",
   "execution_count": 67,
   "id": "8423c879",
   "metadata": {},
   "outputs": [
    {
     "name": "stdout",
     "output_type": "stream",
     "text": [
      "['a', 'b', 'y', 12, 10.5, 'abc', 'gnc']\n",
      "After removing element y from list t1: ['a', 'b', 'y', 12, 10.5, 'abc']\n"
     ]
    }
   ],
   "source": [
    "#remove()\n",
    "print(t1)\n",
    "t1.remove('gnc')\n",
    "print('After removing element y from list t1:',t1)"
   ]
  },
  {
   "cell_type": "code",
   "execution_count": 68,
   "id": "6e765c89",
   "metadata": {},
   "outputs": [
    {
     "name": "stdout",
     "output_type": "stream",
     "text": [
      "after poping the index value 4 from t1 is: ['a', 'b', 'y', 12, 'abc']\n"
     ]
    }
   ],
   "source": [
    "#pop() Pop is also used to remove or delete an element from list using index value\n",
    "t1.pop(4)\n",
    "print('after poping the index value 4 from t1 is:',t1)"
   ]
  },
  {
   "cell_type": "code",
   "execution_count": 69,
   "id": "30f19c4c",
   "metadata": {},
   "outputs": [
    {
     "name": "stdout",
     "output_type": "stream",
     "text": [
      "After deleting 0 to 1 index Values deleted from t1 list: ['y', 12, 'abc']\n"
     ]
    }
   ],
   "source": [
    "#del() is used to delete elements from a range( 0 to 3 ) like that\n",
    "del t1[0:2]\n",
    "print('After deleting 0 to 1 index Values deleted from t1 list:',t1)"
   ]
  },
  {
   "cell_type": "markdown",
   "id": "602f07b7",
   "metadata": {},
   "source": [
    "### Other list methods"
   ]
  },
  {
   "cell_type": "code",
   "execution_count": 70,
   "id": "f25f6fac",
   "metadata": {},
   "outputs": [
    {
     "name": "stdout",
     "output_type": "stream",
     "text": [
      "['y', 12, 'abc']\n",
      "AFTER CLEARING t1 LIST using clear(): []\n"
     ]
    }
   ],
   "source": [
    "#clear() method is used to clear total list elements\n",
    "print(t1)\n",
    "t1.clear()\n",
    "print('AFTER CLEARING t1 LIST using clear():',t1)"
   ]
  },
  {
   "cell_type": "code",
   "execution_count": 71,
   "id": "6b0c0ac5",
   "metadata": {},
   "outputs": [
    {
     "name": "stdout",
     "output_type": "stream",
     "text": [
      "[]\n",
      "After Copying t2 list to t1: ['x', 'y', 'y', 9, 45, 545]\n"
     ]
    }
   ],
   "source": [
    "#copy() methos is used to copy elements from one list to another list\n",
    "print(t1)\n",
    "t2.insert(2,'y')\n",
    "t1=t2.copy()\n",
    "print('After Copying t2 list to t1:',t1)"
   ]
  },
  {
   "cell_type": "code",
   "execution_count": 72,
   "id": "56aa974e",
   "metadata": {},
   "outputs": [
    {
     "name": "stdout",
     "output_type": "stream",
     "text": [
      "['x', 'y', 'y', 9, 45, 545]\n",
      "count of y in list t1: 2\n"
     ]
    }
   ],
   "source": [
    "#Count() method is used to count the element how many times repeated\n",
    "print(t1)\n",
    "print('count of y in list t1:',t1.count('y'))\n"
   ]
  },
  {
   "cell_type": "code",
   "execution_count": 73,
   "id": "a752ee47",
   "metadata": {},
   "outputs": [
    {
     "name": "stdout",
     "output_type": "stream",
     "text": [
      "['x', 'y', 'y', 9, 45, 545]\n",
      "['a', 'b', 12, 10.5, 'abc', 'x', 'y', 9, 45, 545]\n",
      "After adding list t3 to t1 ['x', 'y', 'y', 9, 45, 545, 'a', 'b', 12, 10.5, 'abc', 'x', 'y', 9, 45, 545]\n"
     ]
    }
   ],
   "source": [
    "#extend () is used to extend the list , adding another list elements into different list\n",
    "print(t1)\n",
    "print(t3)\n",
    "t1.extend(t3)\n",
    "print('After adding list t3 to t1',t1)"
   ]
  },
  {
   "cell_type": "code",
   "execution_count": 74,
   "id": "bc463a0f",
   "metadata": {},
   "outputs": [
    {
     "name": "stdout",
     "output_type": "stream",
     "text": [
      "['x', 'y', 'y', 9, 45, 545, 'a', 'b', 12, 10.5, 'abc', 'x', 'y', 9, 45, 545]\n",
      "The index value of y is: 10\n"
     ]
    }
   ],
   "source": [
    "#index() methos is used to return the index value of particular element\n",
    "print(t1)\n",
    "print('The index value of y is:',t1.index('abc'))"
   ]
  },
  {
   "cell_type": "code",
   "execution_count": 75,
   "id": "84dc8302",
   "metadata": {},
   "outputs": [
    {
     "name": "stdout",
     "output_type": "stream",
     "text": [
      "['x', 'y', 'y', 9, 45, 545]\n",
      "after the reverse method on t2: [545, 45, 9, 'y', 'y', 'x']\n"
     ]
    }
   ],
   "source": [
    "#reverse() method is used to reverse the order of the list elements\n",
    "print(t2)\n",
    "t2.reverse()\n",
    "print('after the reverse method on t2:',t2)"
   ]
  },
  {
   "cell_type": "code",
   "execution_count": 76,
   "id": "d3e06727",
   "metadata": {},
   "outputs": [
    {
     "name": "stdout",
     "output_type": "stream",
     "text": [
      "[0, 5, 1, 32, 45, 9, 78, 25]\n",
      "after sorting elements in list t4: [0, 1, 5, 9, 25, 32, 45, 78]\n"
     ]
    }
   ],
   "source": [
    "t4=[0,5,1,32,45,9,78,25]\n",
    "print(t4)\n",
    "t4.sort()\n",
    "print('after sorting elements in list t4:',t4)"
   ]
  },
  {
   "cell_type": "markdown",
   "id": "7e4d47de",
   "metadata": {},
   "source": [
    "### Iterating over a list\n",
    "\n"
   ]
  },
  {
   "cell_type": "code",
   "execution_count": 77,
   "id": "5e58f815",
   "metadata": {},
   "outputs": [
    {
     "name": "stdout",
     "output_type": "stream",
     "text": [
      "Hello naveen\n",
      "Hello marif\n",
      "Hello lokesh\n",
      "Hello usman\n",
      "Hello mahesh\n",
      "Hello sandeep\n"
     ]
    }
   ],
   "source": [
    "name = ['naveen','marif','lokesh','usman','mahesh','sandeep']\n",
    "for i in name:\n",
    "    print('Hello '+i)"
   ]
  },
  {
   "cell_type": "code",
   "execution_count": 78,
   "id": "cb9dca27",
   "metadata": {},
   "outputs": [
    {
     "name": "stdout",
     "output_type": "stream",
     "text": [
      "Enter a name to search in name list: marif\n",
      "The name marif is present in name list\n"
     ]
    }
   ],
   "source": [
    "name_val = input('Enter a name to search in name list: ')\n",
    "if name_val in name:\n",
    "    print('The name',name_val,'is present in name list')\n",
    "else:\n",
    "    print('The name',name_val,'is not present in name list')"
   ]
  },
  {
   "cell_type": "markdown",
   "id": "586fb0f7",
   "metadata": {},
   "source": [
    "### 3. Tuple"
   ]
  },
  {
   "cell_type": "code",
   "execution_count": 79,
   "id": "6aa3ede4",
   "metadata": {},
   "outputs": [
    {
     "name": "stdout",
     "output_type": "stream",
     "text": [
      "The tup1: (1, 3, 5, 7, 9)\n",
      "The datatype of tup1 is: <class 'tuple'>\n"
     ]
    }
   ],
   "source": [
    "# tuples are created using  \" ( ) \"\n",
    "tup1=(1,3,5,7,9)\n",
    "print('The tup1:',tup1)\n",
    "print('The datatype of tup1 is:',type(tup1))"
   ]
  },
  {
   "cell_type": "code",
   "execution_count": 80,
   "id": "f8fb8afa",
   "metadata": {},
   "outputs": [
    {
     "name": "stdout",
     "output_type": "stream",
     "text": [
      "List1 : [1, 2, 3, 4, 5, 6, 7, 8, 9]\n",
      "The tuple t1 from list1 is: (1, 2, 3, 4, 5, 6, 7, 8, 9)\n",
      "The data type of t1 is  <class 'tuple'> and list1 is: <class 'list'>\n"
     ]
    }
   ],
   "source": [
    "# creating tuples using lists \n",
    "list1 = [1,2,3,4,5,6,7,8,9]\n",
    "print('List1 :',list1)\n",
    "t1 = tuple(list1)\n",
    "print('The tuple t1 from list1 is:',t1)\n",
    "print('The data type of t1 is ',type(t1),'and list1 is:',type(list1))"
   ]
  },
  {
   "cell_type": "code",
   "execution_count": 81,
   "id": "8d82834a",
   "metadata": {},
   "outputs": [
    {
     "name": "stdout",
     "output_type": "stream",
     "text": [
      "(1, 2, 3, 4, 5, 6, 7, 8, 9)\n",
      "t1[0] is: 1\n",
      "t1[3] is: 4\n",
      "t1[5] is: 6\n",
      "Lenght of tuple t1 is: 9\n"
     ]
    }
   ],
   "source": [
    "#accessing elements of a tuple\n",
    "print(t1)\n",
    "print('t1[0] is:',t1[0])\n",
    "print('t1[3] is:',t1[3])\n",
    "print('t1[5] is:',t1[5])\n",
    "print('Lenght of tuple t1 is:',len(t1))  #len() is used to define length os tuple"
   ]
  },
  {
   "cell_type": "markdown",
   "id": "c9c22614",
   "metadata": {},
   "source": [
    "### Tuple Operations"
   ]
  },
  {
   "cell_type": "code",
   "execution_count": 82,
   "id": "d8aed3d5",
   "metadata": {},
   "outputs": [
    {
     "name": "stdout",
     "output_type": "stream",
     "text": [
      "1\n",
      "john\n",
      "True\n",
      "10.53\n",
      "-23.45\n"
     ]
    }
   ],
   "source": [
    "tup2 = (1,'john',True,10.53,-23.45)\n",
    "for i in tup2:\n",
    "    print(i)    #prints all the elements in line\n",
    "    "
   ]
  },
  {
   "cell_type": "code",
   "execution_count": 83,
   "id": "25294774",
   "metadata": {},
   "outputs": [
    {
     "name": "stdout",
     "output_type": "stream",
     "text": [
      "(1, 'john', True, 10.53, -23.45)\n",
      "John is persent in tup2\n"
     ]
    }
   ],
   "source": [
    "print(tup2)\n",
    "if 'john' in tup2:\n",
    "    print('John is persent in tup2')\n",
    "else:\n",
    "    print('john is not present in tup2')"
   ]
  },
  {
   "cell_type": "markdown",
   "id": "1482a3d4",
   "metadata": {},
   "source": [
    "### Nested tuple\n"
   ]
  },
  {
   "cell_type": "code",
   "execution_count": 84,
   "id": "a7503519",
   "metadata": {},
   "outputs": [
    {
     "name": "stdout",
     "output_type": "stream",
     "text": [
      "tup1 : (1, 3, 5, 7, 9)\n",
      "tup2 : (1, 'john', True, 10.53, -23.45)\n",
      "tup3 : (9, 45, (1, 3, 5, 7, 9), (1, 'john', True, 10.53, -23.45), 5.5)\n"
     ]
    }
   ],
   "source": [
    "tup1 = (1,3,5,7,9)\n",
    "tup2 = (1,'john',True,10.53,-23.45)\n",
    "tup3 = (9,45,tup1,tup2,5.5)       #Nested tuple since tup3 contains tup1,tup2 as elements\n",
    "\n",
    "\n",
    "print('tup1 :',tup1)\n",
    "print('tup2 :',tup2)\n",
    "print('tup3 :',tup3)"
   ]
  },
  {
   "cell_type": "code",
   "execution_count": 85,
   "id": "f4a5e0f7",
   "metadata": {},
   "outputs": [
    {
     "name": "stdout",
     "output_type": "stream",
     "text": [
      "tup3[2]:  (1, 3, 5, 7, 9)\n",
      "tup[2][2]:  5\n"
     ]
    }
   ],
   "source": [
    "#accessing nested tuples\n",
    "print('tup3[2]: ',tup3[2])\n",
    "print('tup[2][2]: ',tup3[2][2])"
   ]
  },
  {
   "cell_type": "code",
   "execution_count": 86,
   "id": "1aa095cb",
   "metadata": {},
   "outputs": [
    {
     "data": {
      "text/plain": [
       "True"
      ]
     },
     "execution_count": 86,
     "metadata": {},
     "output_type": "execute_result"
    }
   ],
   "source": [
    "# Comparing tuples\n",
    "\n",
    "(0,1,220000) < (0,3,4)\n",
    "\n",
    "# Here, 1st element of tuple1 is compared with 1st element of tuple2\n",
    "# 0<0 equal then moves to 2nd element of tuple1 and 2nd element of tuple2\n",
    "# 1<3 True, it closes the opertion, does not check the remaining elements in tuples\n",
    "# it returns only true'''"
   ]
  },
  {
   "cell_type": "markdown",
   "id": "8e96b13c",
   "metadata": {},
   "source": [
    "## 4.Sets"
   ]
  },
  {
   "cell_type": "code",
   "execution_count": 87,
   "id": "7630a3a5",
   "metadata": {},
   "outputs": [
    {
     "name": "stdout",
     "output_type": "stream",
     "text": [
      "s1 :  {1, 2, 'abc', 2.345}\n",
      "s2 :  set()\n",
      "s3 :  {1, 2, 3, 4, 5}\n"
     ]
    }
   ],
   "source": [
    "#creating sets\n",
    "s1 = {1,2,'abc',2.345}\n",
    "s2 = set()        #s2 is an Empty set\n",
    "print('s1 : ',s1)\n",
    "print('s2 : ',s2)\n",
    "l1 = [1,2,3,4,5]\n",
    "s3 = set(l1) #converting list l1 into set s3\n",
    "print('s3 : ',s3)\n"
   ]
  },
  {
   "cell_type": "code",
   "execution_count": 88,
   "id": "20f2bd6d",
   "metadata": {},
   "outputs": [
    {
     "name": "stdout",
     "output_type": "stream",
     "text": [
      "Orange is present in basket\n"
     ]
    }
   ],
   "source": [
    "#iteration on sets\n",
    "basket= {'apple','banana','orange','apple','pear','orange'}\n",
    "if 'orange' in basket:\n",
    "    print('Orange is present in basket')\n",
    "else:\n",
    "    print('Orange is not present in basket')"
   ]
  },
  {
   "cell_type": "code",
   "execution_count": 89,
   "id": "d89167fb",
   "metadata": {},
   "outputs": [
    {
     "name": "stdout",
     "output_type": "stream",
     "text": [
      "pear\n",
      "orange\n",
      "banana\n",
      "apple\n"
     ]
    }
   ],
   "source": [
    "#for loop on sets\n",
    "for item in basket:\n",
    "    print(item)"
   ]
  },
  {
   "cell_type": "markdown",
   "id": "971d030e",
   "metadata": {},
   "source": [
    "### Adding items to sets\n"
   ]
  },
  {
   "cell_type": "code",
   "execution_count": 90,
   "id": "271d0df7",
   "metadata": {},
   "outputs": [
    {
     "name": "stdout",
     "output_type": "stream",
     "text": [
      "Basket set items :  {'pear', 'orange', 'banana', 'apple'}\n",
      "Basket set items after adding Apricot : {'banana', 'apple', 'orange', 'apricot', 'pear'}\n"
     ]
    }
   ],
   "source": [
    "#add()\n",
    "\n",
    "print('Basket set items : ',basket)\n",
    "basket.add('apricot')\n",
    "print('Basket set items after adding Apricot :',basket)"
   ]
  },
  {
   "cell_type": "code",
   "execution_count": 91,
   "id": "2b8c0448",
   "metadata": {},
   "outputs": [
    {
     "name": "stdout",
     "output_type": "stream",
     "text": [
      "{'banana', 'apple', 'orange', 'apricot', 'pear'}\n",
      "After updating Basket set is:  {'banana', 'apple', 'pine apple', 'orange', 'apricot', 'pear', 'watermelon', 'grapes'}\n"
     ]
    }
   ],
   "source": [
    "#update () is used to add more elements \n",
    "print(basket)\n",
    "basket.update(['grapes','watermelon','pine apple'])\n",
    "print('After updating Basket set is: ',basket)"
   ]
  },
  {
   "cell_type": "code",
   "execution_count": 92,
   "id": "13cf52b5",
   "metadata": {},
   "outputs": [
    {
     "name": "stdout",
     "output_type": "stream",
     "text": [
      "The length of the basket set is: 8\n"
     ]
    }
   ],
   "source": [
    "#len() is used to calculate length of the set\n",
    "\n",
    "print('The length of the basket set is:',len(basket))"
   ]
  },
  {
   "cell_type": "code",
   "execution_count": 93,
   "id": "dc6a2921",
   "metadata": {},
   "outputs": [
    {
     "name": "stdout",
     "output_type": "stream",
     "text": [
      "The maximum value of s1 is:  45\n",
      "The minimum value of s1 is:  0\n"
     ]
    }
   ],
   "source": [
    "#max() and Min() are used to print the max value and min value of the set\n",
    "s1={0,12,5,3,24,45,9}\n",
    "print('The maximum value of s1 is: ',max(s1))\n",
    "print('The minimum value of s1 is: ',min(s1))"
   ]
  },
  {
   "cell_type": "code",
   "execution_count": 94,
   "id": "b83559a0",
   "metadata": {},
   "outputs": [
    {
     "name": "stdout",
     "output_type": "stream",
     "text": [
      "{'banana', 'apple', 'pine apple', 'orange', 'apricot', 'pear', 'watermelon', 'grapes'}\n",
      "Basket set after removing grapes: {'banana', 'apple', 'pine apple', 'orange', 'apricot', 'pear', 'watermelon'}\n"
     ]
    }
   ],
   "source": [
    "#remove() is used to remove particular element or item from set\n",
    "print(basket)\n",
    "basket.remove('grapes')\n",
    "print('Basket set after removing grapes:',basket)"
   ]
  },
  {
   "cell_type": "code",
   "execution_count": 95,
   "id": "a7fd2ebf",
   "metadata": {},
   "outputs": [
    {
     "name": "stdout",
     "output_type": "stream",
     "text": [
      "{'banana', 'apple', 'pine apple', 'orange', 'apricot', 'pear', 'watermelon'}\n",
      "Basket set after removing all the items:  set()\n"
     ]
    }
   ],
   "source": [
    "#clear() is used to clear the set and make set empty\n",
    "print(basket)\n",
    "basket.clear()\n",
    "print('Basket set after removing all the items: ',basket)"
   ]
  },
  {
   "cell_type": "markdown",
   "id": "919edb60",
   "metadata": {},
   "source": [
    "### Nesting sets"
   ]
  },
  {
   "cell_type": "code",
   "execution_count": 96,
   "id": "f432586f",
   "metadata": {},
   "outputs": [
    {
     "name": "stdout",
     "output_type": "stream",
     "text": [
      "{1, 2, 'abc', (22, 45, 9)}\n"
     ]
    }
   ],
   "source": [
    "#tuple in a set, only immutable are added as nested sets, list and set are not makes as nested sets\n",
    "\n",
    "s1 ={1,2,'abc',(22,45,9)}\n",
    "print(s1)"
   ]
  },
  {
   "cell_type": "markdown",
   "id": "5226c8b7",
   "metadata": {},
   "source": [
    "### Mathematical set operations"
   ]
  },
  {
   "cell_type": "code",
   "execution_count": 97,
   "id": "694393fc",
   "metadata": {},
   "outputs": [
    {
     "name": "stdout",
     "output_type": "stream",
     "text": [
      "Union of s1,s2 :  {'banana', 'grape', 'apple', 'orange', 'lime'}\n",
      "Intersection of s1,s2 :  {'banana'}\n",
      "Difference of s1,s2 is :  {'orange', 'apple'}\n",
      "Symmetric difference of s1,s2 :  {'apple', 'orange', 'lime', 'grape'}\n"
     ]
    }
   ],
   "source": [
    "s1 = {'apple','banana','orange'}\n",
    "s2 = {'grape','lime','banana'}\n",
    "#union \n",
    "print('Union of s1,s2 : ',s1|s2)\n",
    "#intersection\n",
    "print('Intersection of s1,s2 : ',s1&s2)\n",
    "#difference\n",
    "print('Difference of s1,s2 is : ',s1-s2)\n",
    "#Symmentric difference\n",
    "print('Symmetric difference of s1,s2 : ',s1^s2)\n"
   ]
  },
  {
   "cell_type": "markdown",
   "id": "6a1faaed",
   "metadata": {},
   "source": [
    " ### Mathematical set operation in methods\n",
    " "
   ]
  },
  {
   "cell_type": "code",
   "execution_count": 98,
   "id": "1b471293",
   "metadata": {},
   "outputs": [
    {
     "name": "stdout",
     "output_type": "stream",
     "text": [
      "Union of s1,s2 :  {'banana', 'grape', 'apple', 'orange', 'lime'}\n",
      "Intersection of s1,s2 :  {'banana'}\n",
      "Difference of s1,s2 is :  {'orange', 'apple'}\n",
      "Symmetric difference of s1,s2 :  {'apple', 'orange', 'lime', 'grape'}\n"
     ]
    }
   ],
   "source": [
    "#union \n",
    "print('Union of s1,s2 : ',s1.union(s2))\n",
    "#intersection\n",
    "print('Intersection of s1,s2 : ',s1.intersection(s2))\n",
    "#difference\n",
    "print('Difference of s1,s2 is : ',s1.difference(s2))\n",
    "#Symmentric difference\n",
    "print('Symmetric difference of s1,s2 : ',s1.symmetric_difference(s2))"
   ]
  },
  {
   "cell_type": "markdown",
   "id": "729fde41",
   "metadata": {},
   "source": [
    "## 5.Dictionary"
   ]
  },
  {
   "cell_type": "code",
   "execution_count": 99,
   "id": "c26e9998",
   "metadata": {},
   "outputs": [
    {
     "name": "stdout",
     "output_type": "stream",
     "text": [
      "Capitals: {'Telangana': 'Hyderabad', 'tamilnadu': 'chennai', 'andhrapradesh': 'hyderabad', 'karnataka': 'bengaluru', 'maharastra': 'mumbai'}\n"
     ]
    }
   ],
   "source": [
    "#create a dictionary of capitals\n",
    "capitals = {'Telangana':'Hyderabad','tamilnadu':'chennai','andhrapradesh':'hyderabad',\n",
    "            'karnataka':'bengaluru','maharastra':'mumbai'}\n",
    "print('Capitals:',capitals)"
   ]
  },
  {
   "cell_type": "code",
   "execution_count": 100,
   "id": "69c90297",
   "metadata": {},
   "outputs": [
    {
     "name": "stdout",
     "output_type": "stream",
     "text": [
      "Dict1 :  {'uk': 'London', 'ireland': 'dublin', 'france': 'paris'}\n",
      "Dict2 :  {'uk': 'london', 'ireland': 'dublin', 'france': 'paris'}\n",
      "Dict3 :  {'uk': 'london', 'ireland': 'dublin', 'france': 'paris'}\n"
     ]
    }
   ],
   "source": [
    "#creating a dictionary from other collection types\n",
    "#keys are not strings\n",
    "dict1 = dict(uk='London',ireland='dublin',france='paris')\n",
    "print(\"Dict1 : \",dict1)\n",
    "\n",
    "#KEY VALUE pairs are tuple\n",
    "\n",
    "dict2 =dict([('uk','london'),('ireland','dublin'),('france','paris')])\n",
    "print('Dict2 : ',dict2)\n",
    "\n",
    "#keyvalue pairs are lists\n",
    "\n",
    "dict3 = dict((['uk','london'],['ireland','dublin'],['france','paris']))\n",
    "print(\"Dict3 : \",dict3)"
   ]
  },
  {
   "cell_type": "code",
   "execution_count": 101,
   "id": "270afbd2",
   "metadata": {},
   "outputs": [
    {
     "name": "stdout",
     "output_type": "stream",
     "text": [
      "The capitals Dictionar is:  {'Telangana': 'Hyderabad', 'tamilnadu': 'chennai', 'andhrapradesh': 'hyderabad', 'karnataka': 'bengaluru', 'maharastra': 'mumbai'}\n",
      "The capital of andhrapradesh is:  hyderabad\n"
     ]
    }
   ],
   "source": [
    "print('The capitals Dictionar is: ',capitals)\n",
    "print('The capital of andhrapradesh is: ',capitals['andhrapradesh'])"
   ]
  },
  {
   "cell_type": "code",
   "execution_count": 102,
   "id": "ecfbaf6a",
   "metadata": {},
   "outputs": [
    {
     "name": "stdout",
     "output_type": "stream",
     "text": [
      "The capitals dictionary after adding kerala:  {'Telangana': 'Hyderabad', 'tamilnadu': 'chennai', 'andhrapradesh': 'hyderabad', 'karnataka': 'bengaluru', 'maharastra': 'mumbai', 'kerala': 'thiruvananthapuram'}\n"
     ]
    }
   ],
   "source": [
    "#adding a new key:value pair to dictionary\n",
    "\n",
    "capitals['kerala']='thiruvananthapuram'\n",
    "print('The capitals dictionary after adding kerala: ',capitals)"
   ]
  },
  {
   "cell_type": "code",
   "execution_count": 103,
   "id": "86188468",
   "metadata": {},
   "outputs": [
    {
     "name": "stdout",
     "output_type": "stream",
     "text": [
      "The modified dictionary : {'Telangana': 'Hyderabad', 'tamilnadu': 'chennai', 'andhrapradesh': 'Amaravathi', 'karnataka': 'bengaluru', 'maharastra': 'mumbai', 'kerala': 'thiruvananthapuram'}\n"
     ]
    }
   ],
   "source": [
    "#modify an existing element\n",
    "capitals['andhrapradesh']='Amaravathi'\n",
    "print('The modified dictionary :',capitals)"
   ]
  },
  {
   "cell_type": "code",
   "execution_count": 104,
   "id": "c9777d14",
   "metadata": {},
   "outputs": [
    {
     "name": "stdout",
     "output_type": "stream",
     "text": [
      "False\n",
      "True\n"
     ]
    }
   ],
   "source": [
    "#in and not in operations \n",
    "\n",
    "print('Assam' in capitals)\n",
    "print('assam' not in capitals)"
   ]
  },
  {
   "cell_type": "code",
   "execution_count": 105,
   "id": "f7552c2c",
   "metadata": {},
   "outputs": [
    {
     "name": "stdout",
     "output_type": "stream",
     "text": [
      "The length of dictionary capitals is:  6\n"
     ]
    }
   ],
   "source": [
    "#len() find lenght of the dictionary\n",
    "print('The length of dictionary capitals is: ',len(capitals))\n"
   ]
  },
  {
   "cell_type": "code",
   "execution_count": 106,
   "id": "c471a723",
   "metadata": {},
   "outputs": [
    {
     "name": "stdout",
     "output_type": "stream",
     "text": [
      "{'Telangana': 'Hyderabad', 'tamilnadu': 'chennai', 'andhrapradesh': 'Amaravathi', 'karnataka': 'bengaluru', 'maharastra': 'mumbai', 'kerala': 'thiruvananthapuram'}\n"
     ]
    }
   ],
   "source": [
    "#removing items from dictionary\n",
    "print(capitals)"
   ]
  },
  {
   "cell_type": "code",
   "execution_count": 107,
   "id": "3f85659f",
   "metadata": {},
   "outputs": [
    {
     "name": "stdout",
     "output_type": "stream",
     "text": [
      "The last item inserted, deleted by popitem() is : ('kerala', 'thiruvananthapuram')\n"
     ]
    }
   ],
   "source": [
    "print('The last item inserted, deleted by popitem() is :',capitals.popitem())"
   ]
  },
  {
   "cell_type": "code",
   "execution_count": 108,
   "id": "a0fc60b5",
   "metadata": {},
   "outputs": [
    {
     "name": "stdout",
     "output_type": "stream",
     "text": [
      "The capital of maharastra is: mumbai\n"
     ]
    }
   ],
   "source": [
    "#delete an entry by giving key value\n",
    "\n",
    "print('The capital of maharastra is:',capitals.pop('maharastra'))"
   ]
  },
  {
   "cell_type": "code",
   "execution_count": 109,
   "id": "9b08f568",
   "metadata": {},
   "outputs": [
    {
     "name": "stdout",
     "output_type": "stream",
     "text": [
      "{'Telangana': 'Hyderabad', 'tamilnadu': 'chennai', 'andhrapradesh': 'Amaravathi', 'karnataka': 'bengaluru'}\n"
     ]
    }
   ],
   "source": [
    "print(capitals)"
   ]
  },
  {
   "cell_type": "code",
   "execution_count": 110,
   "id": "d76820d3",
   "metadata": {},
   "outputs": [],
   "source": [
    "del capitals['karnataka']"
   ]
  },
  {
   "cell_type": "code",
   "execution_count": 111,
   "id": "a16cc9f7",
   "metadata": {},
   "outputs": [
    {
     "name": "stdout",
     "output_type": "stream",
     "text": [
      "{'Telangana': 'Hyderabad', 'tamilnadu': 'chennai', 'andhrapradesh': 'Amaravathi'}\n"
     ]
    }
   ],
   "source": [
    "print(capitals)"
   ]
  },
  {
   "cell_type": "code",
   "execution_count": 112,
   "id": "bc8cdad3",
   "metadata": {},
   "outputs": [
    {
     "name": "stdout",
     "output_type": "stream",
     "text": [
      "Clearing the Dictionary\n",
      "{}\n"
     ]
    }
   ],
   "source": [
    "print('Clearing the Dictionary')\n",
    "capitals.clear()\n",
    "print(capitals)"
   ]
  },
  {
   "cell_type": "code",
   "execution_count": 114,
   "id": "a6cb293a",
   "metadata": {},
   "outputs": [
    {
     "name": "stdout",
     "output_type": "stream",
     "text": [
      "Capitals: {'Telangana': 'Hyderabad', 'tamilnadu': 'chennai', 'andhrapradesh': 'hyderabad', 'karnataka': 'bengaluru', 'maharastra': 'mumbai'}\n",
      "Telangana,Hyderabad\n",
      "tamilnadu,chennai\n",
      "andhrapradesh,hyderabad\n",
      "karnataka,bengaluru\n",
      "maharastra,mumbai\n"
     ]
    }
   ],
   "source": [
    "#iterate over key and values\n",
    "capitals = {'Telangana':'Hyderabad','tamilnadu':'chennai','andhrapradesh':'hyderabad',\n",
    "            'karnataka':'bengaluru','maharastra':'mumbai'}\n",
    "print('Capitals:',capitals)\n",
    "\n",
    "for state in capitals:\n",
    "    print(state,end=',')\n",
    "    print(capitals[state])"
   ]
  },
  {
   "cell_type": "code",
   "execution_count": 115,
   "id": "5c82b5a9",
   "metadata": {},
   "outputs": [
    {
     "name": "stdout",
     "output_type": "stream",
     "text": [
      "Telangana\n",
      "tamilnadu\n",
      "andhrapradesh\n",
      "karnataka\n",
      "maharastra\n"
     ]
    }
   ],
   "source": [
    "for cap in capitals:\n",
    "    print(cap) #Returns key values"
   ]
  },
  {
   "cell_type": "code",
   "execution_count": 117,
   "id": "4b5d5407",
   "metadata": {},
   "outputs": [
    {
     "name": "stdout",
     "output_type": "stream",
     "text": [
      "Hyderabad\n",
      "chennai\n",
      "hyderabad\n",
      "bengaluru\n",
      "mumbai\n"
     ]
    }
   ],
   "source": [
    "for cap in capitals.values():\n",
    "    print(cap) #returns value values"
   ]
  },
  {
   "cell_type": "code",
   "execution_count": 122,
   "id": "241dbbba",
   "metadata": {},
   "outputs": [
    {
     "name": "stdout",
     "output_type": "stream",
     "text": [
      "dict_values(['Hyderabad', 'chennai', 'hyderabad', 'bengaluru', 'mumbai'])\n",
      "dict_keys(['Telangana', 'tamilnadu', 'andhrapradesh', 'karnataka', 'maharastra'])\n",
      "dict_items([('Telangana', 'Hyderabad'), ('tamilnadu', 'chennai'), ('andhrapradesh', 'hyderabad'), ('karnataka', 'bengaluru'), ('maharastra', 'mumbai')])\n"
     ]
    }
   ],
   "source": [
    "print(capitals.values()) #returns only value values\n",
    "print(capitals.keys())  #returns only key values\n",
    "print(capitals.items()) #returns items in dictionary"
   ]
  },
  {
   "cell_type": "markdown",
   "id": "910acb21",
   "metadata": {},
   "source": [
    "### Nested Dictionary"
   ]
  },
  {
   "cell_type": "code",
   "execution_count": 129,
   "id": "11c10e59",
   "metadata": {},
   "outputs": [
    {
     "name": "stdout",
     "output_type": "stream",
     "text": [
      "{'summer': ('june', 'july', 'august'), 'autumn': ('september', 'october', 'november'), 'winter': ('december', 'january', 'february'), 'spring': ('march', 'apri;', 'may')}\n",
      "('june', 'july', 'august')\n",
      "january\n"
     ]
    }
   ],
   "source": [
    "seasons ={'summer':('june','july','august'),'autumn':('september','october','november'),\n",
    "          'winter':('december','january','february'),'spring':('march','apri;','may')}\n",
    "\n",
    "print(seasons)\n",
    "print(seasons['summer'])\n",
    "print(seasons['winter'][1])"
   ]
  },
  {
   "cell_type": "code",
   "execution_count": 130,
   "id": "b34b7d7c",
   "metadata": {},
   "outputs": [
    {
     "name": "stdout",
     "output_type": "stream",
     "text": [
      "Enter a sentance: python has 4 collection data types. list,set,tuple and dictionary\n",
      "The histogram is:  {'p': 3, 'y': 3, 't': 8, 'h': 2, 'o': 4, 'n': 4, ' ': 8, 'a': 5, 's': 4, '4': 1, 'c': 3, 'l': 4, 'e': 4, 'i': 4, 'd': 3, '.': 1, ',': 2, 'u': 1, 'r': 1}\n"
     ]
    }
   ],
   "source": [
    "#implement a Histogram and count number of letters in sentance\n",
    "sentance = input('Enter a sentance: ')\n",
    "d=dict()\n",
    "for c in sentance:\n",
    "    if c not in d:\n",
    "        d[c]=1\n",
    "    else:\n",
    "        d[c]+=1\n",
    "print('The histogram is: ',d)\n"
   ]
  },
  {
   "cell_type": "code",
   "execution_count": 132,
   "id": "9620408b",
   "metadata": {},
   "outputs": [
    {
     "name": "stdout",
     "output_type": "stream",
     "text": [
      "Enter a sentance: Python has four collection data types. lists, sets, tuples and dictionary\n",
      "The histogram is: {'Python': 1, 'has': 1, 'four': 1, 'collection': 1, 'data': 1, 'types.': 1, 'lists,': 1, 'sets,': 1, 'tuples': 1, 'and': 1, 'dictionary': 1}\n"
     ]
    }
   ],
   "source": [
    "#implement a histogram and count number of words in sentance\n",
    "counts=dict()\n",
    "line=input('Enter a sentance: ')\n",
    "words=line.split()\n",
    "\n",
    "for word in words:\n",
    "    if word not in counts:\n",
    "        counts[word]=1\n",
    "    else:\n",
    "        counts[word]+=1\n",
    "print('The histogram is:',counts)"
   ]
  },
  {
   "cell_type": "code",
   "execution_count": null,
   "id": "9ec0c890",
   "metadata": {},
   "outputs": [],
   "source": []
  }
 ],
 "metadata": {
  "kernelspec": {
   "display_name": "Python 3 (ipykernel)",
   "language": "python",
   "name": "python3"
  },
  "language_info": {
   "codemirror_mode": {
    "name": "ipython",
    "version": 3
   },
   "file_extension": ".py",
   "mimetype": "text/x-python",
   "name": "python",
   "nbconvert_exporter": "python",
   "pygments_lexer": "ipython3",
   "version": "3.9.12"
  }
 },
 "nbformat": 4,
 "nbformat_minor": 5
}
