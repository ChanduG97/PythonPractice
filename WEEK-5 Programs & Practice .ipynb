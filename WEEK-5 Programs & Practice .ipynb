{
 "cells": [
  {
   "cell_type": "markdown",
   "id": "11c07192",
   "metadata": {},
   "source": [
    "# Functions"
   ]
  },
  {
   "cell_type": "markdown",
   "id": "c5360936",
   "metadata": {},
   "source": [
    "## Built-in Functions"
   ]
  },
  {
   "cell_type": "code",
   "execution_count": 1,
   "id": "3636be6a",
   "metadata": {},
   "outputs": [
    {
     "name": "stdout",
     "output_type": "stream",
     "text": [
      "The list is:  [3, 56, 23, 33, 45, 0, 10, 99]\n",
      "The maximum value of the list is:  99\n",
      "The minimum value of list is :  0\n",
      "The length of list is :  8\n",
      "The type of list1 is :  <class 'list'>\n"
     ]
    }
   ],
   "source": [
    "list1 = [3,56,23,33,45,0,10,99]\n",
    "\n",
    "print('The list is: ',list1)\n",
    "print('The maximum value of the list is: ',max(list1))\n",
    "print('The minimum value of list is : ',min(list1))\n",
    "print('The length of list is : ',len(list1))\n",
    "print('The type of list1 is : ',type(list1))"
   ]
  },
  {
   "cell_type": "code",
   "execution_count": 2,
   "id": "558b2f4f",
   "metadata": {},
   "outputs": [
    {
     "name": "stdout",
     "output_type": "stream",
     "text": [
      "a,b,c is :  45.25 45 45.25\n",
      "Type of a,b,c is : <class 'float'> <class 'int'> <class 'str'>\n"
     ]
    }
   ],
   "source": [
    "#Convert one type into another type\n",
    "a = 45.25\n",
    "b = int(a)\n",
    "c= str(a)\n",
    "\n",
    "print('a,b,c is : ',a,b,c)\n",
    "print('Type of a,b,c is :',type(a),type(b),type(c))"
   ]
  },
  {
   "cell_type": "markdown",
   "id": "e6a9442a",
   "metadata": {},
   "source": [
    "### Math functions "
   ]
  },
  {
   "cell_type": "code",
   "execution_count": 3,
   "id": "826c4faf",
   "metadata": {},
   "outputs": [
    {
     "name": "stdout",
     "output_type": "stream",
     "text": [
      "Enter an Integer : 9\n",
      "The square root of 9 is : 3.0\n"
     ]
    }
   ],
   "source": [
    "import math \n",
    "n = int(input('Enter an Integer : '))\n",
    "print('The square root of',n,'is :',math.sqrt(n))"
   ]
  },
  {
   "cell_type": "markdown",
   "id": "4f5f1be7",
   "metadata": {},
   "source": [
    "### Random module"
   ]
  },
  {
   "cell_type": "code",
   "execution_count": 6,
   "id": "e68da0a5",
   "metadata": {},
   "outputs": [
    {
     "name": "stdout",
     "output_type": "stream",
     "text": [
      "The random number betweenn 0 & 1 :  0.993906766880137\n"
     ]
    }
   ],
   "source": [
    "import random\n",
    "print('The random number betweenn 0 & 1 : ',random.random())"
   ]
  },
  {
   "cell_type": "code",
   "execution_count": 14,
   "id": "f2c82318",
   "metadata": {},
   "outputs": [
    {
     "name": "stdout",
     "output_type": "stream",
     "text": [
      "Enter a low value : 5\n",
      "Enter a high value :78\n",
      "a randon Integer between low and high value is :  21\n"
     ]
    }
   ],
   "source": [
    "#random number between 2 number \n",
    "\n",
    "low = int(input('Enter a low value : '))\n",
    "high = int(input('Enter a high value :'))\n",
    "print('a randon Integer between low and high value is : ',random.randint(low,high))"
   ]
  },
  {
   "cell_type": "code",
   "execution_count": 17,
   "id": "be12921d",
   "metadata": {},
   "outputs": [
    {
     "name": "stdout",
     "output_type": "stream",
     "text": [
      "The tuple is :  (1, 21, 100, 25, 45, 9)\n",
      "The random value from tuple t is :  25\n"
     ]
    }
   ],
   "source": [
    "#tuple \n",
    "t = (1,21,100,25,45,9)\n",
    "print('The tuple is : ',t)\n",
    "print('The random value from tuple t is : ',random.choice(t))"
   ]
  },
  {
   "cell_type": "markdown",
   "id": "322aa5bb",
   "metadata": {},
   "source": [
    "## User-Defined Functions"
   ]
  },
  {
   "cell_type": "code",
   "execution_count": 8,
   "id": "bc70bac0",
   "metadata": {},
   "outputs": [
    {
     "name": "stdout",
     "output_type": "stream",
     "text": [
      "Hello World!\n",
      "This is after function call\n",
      "Hello World!\n",
      "The docstring of display_msg1 function is : This function is created and displays Hello world message...\n"
     ]
    }
   ],
   "source": [
    "def display_msg():\n",
    "    '''This function is created and displays Hello world message...'''\n",
    "    print('Hello World!')      #FUNCTION Definiton\n",
    "display_msg()                 #FUNCTION CALL\n",
    "print('This is after function call')\n",
    "display_msg()\n",
    "print('The docstring of display_msg1 function is :',display_msg.__doc__)"
   ]
  },
  {
   "cell_type": "code",
   "execution_count": 11,
   "id": "5a1bd753",
   "metadata": {},
   "outputs": [
    {
     "name": "stdout",
     "output_type": "stream",
     "text": [
      "The message received is:  Hello\n",
      "The message received is:  Bye\n"
     ]
    }
   ],
   "source": [
    "# Function which take arguments / parameters\n",
    "def display_msg1(msg):\n",
    "    print('The message received is: ',msg)\n",
    "display_msg1('Hello')\n",
    "display_msg1('Bye')"
   ]
  },
  {
   "cell_type": "code",
   "execution_count": 13,
   "id": "ccbd7f7b",
   "metadata": {},
   "outputs": [
    {
     "name": "stdout",
     "output_type": "stream",
     "text": [
      "The return value is : 36\n",
      "The return value is :  9\n"
     ]
    }
   ],
   "source": [
    "def square(n):\n",
    "    res = n * n\n",
    "    return res\n",
    "sqr = square(6)\n",
    "print('The return value is :',sqr)\n",
    "#change the n value in print statement\n",
    "print('The return value is : ',square(3))"
   ]
  },
  {
   "cell_type": "code",
   "execution_count": 14,
   "id": "6ce4e554",
   "metadata": {},
   "outputs": [
    {
     "name": "stdout",
     "output_type": "stream",
     "text": [
      "The sum of two numbers are :  54\n"
     ]
    }
   ],
   "source": [
    "#function to return sum of two numbers\n",
    "def sum_of_num(x,y):\n",
    "    return x+y\n",
    "result = sum_of_num(9,45)\n",
    "print('The sum of two numbers are : ',result)"
   ]
  },
  {
   "cell_type": "code",
   "execution_count": 24,
   "id": "2538e4c0",
   "metadata": {},
   "outputs": [
    {
     "name": "stdout",
     "output_type": "stream",
     "text": [
      "Chandu Welcome to the python programming\n",
      "Chandu Welcome India\n",
      "Chandu Hello Welcome\n"
     ]
    }
   ],
   "source": [
    "#default parameters\n",
    "def greeter(name,prompt='Welcome',msg = 'to the python programming'):\n",
    "    print(name,prompt,msg)\n",
    "greeter('Chandu')\n",
    "greeter('Chandu',msg='India')\n",
    "greeter(name='Chandu',msg='Welcome',prompt='Hello')"
   ]
  },
  {
   "cell_type": "code",
   "execution_count": 27,
   "id": "e8dc5922",
   "metadata": {},
   "outputs": [
    {
     "name": "stdout",
     "output_type": "stream",
     "text": [
      "Welcome Naveen\n",
      "Welcome Marif\n",
      "Welcome Lokesh\n",
      "Welcome Hyderabad\n",
      "Welcome Ongole\n",
      "Welcome Bengaluru\n"
     ]
    }
   ],
   "source": [
    "#arbitrary positional argument functions\n",
    "def greeter(*args):\n",
    "    for name in args:\n",
    "        print('Welcome',name)\n",
    "greeter(\"Naveen\",'Marif','Lokesh')\n",
    "greeter('Hyderabad','Ongole','Bengaluru')"
   ]
  },
  {
   "cell_type": "code",
   "execution_count": 31,
   "id": "1a765e0a",
   "metadata": {},
   "outputs": [
    {
     "name": "stdout",
     "output_type": "stream",
     "text": [
      "Arg : Chandu\n",
      "Arg : Marif\n",
      "Arg : Lokesh\n",
      "Key : friend1 has value Marif\n",
      "Key : friend2 has value Lokesh\n"
     ]
    }
   ],
   "source": [
    "#positional and keyword arguments\n",
    "def my_function(*args,**kwargs):\n",
    "    for arg in args:\n",
    "        print('Arg :',arg)\n",
    "    for key in kwargs.keys():\n",
    "        print('Key :',key,'has value',kwargs[key])\n",
    "my_function('Chandu','Marif','Lokesh',friend1 ='Marif',friend2 = 'Lokesh')"
   ]
  },
  {
   "cell_type": "code",
   "execution_count": 32,
   "id": "a1660ea4",
   "metadata": {},
   "outputs": [
    {
     "name": "stdout",
     "output_type": "stream",
     "text": [
      "key : a has value 1\n",
      "key : b has value 2\n",
      "key : c has value 3\n",
      "key : d has value 4\n",
      "key : e has value 5\n",
      "key : f has value 6\n"
     ]
    }
   ],
   "source": [
    "#only keyword arguments\n",
    "\n",
    "def names(**kwargs):\n",
    "    for key in kwargs.keys():\n",
    "        print('key :',key,'has value',kwargs[key])\n",
    "names(a=1,b=2,c=3,d=4,e=5,f=6)"
   ]
  },
  {
   "cell_type": "markdown",
   "id": "66bf49ce",
   "metadata": {},
   "source": [
    "### Local variable\n",
    "\n"
   ]
  },
  {
   "cell_type": "code",
   "execution_count": 34,
   "id": "1e14afa9",
   "metadata": {},
   "outputs": [
    {
     "name": "stdout",
     "output_type": "stream",
     "text": [
      "100\n"
     ]
    }
   ],
   "source": [
    "def my_function():\n",
    "    a_variable=100       # local variable created\n",
    "    print(a_variable)\n",
    "my_function()\n",
    "#sprint(a_variable) #accessing local varibale outside function causes error\n"
   ]
  },
  {
   "cell_type": "code",
   "execution_count": 36,
   "id": "86625628",
   "metadata": {},
   "outputs": [
    {
     "name": "stdout",
     "output_type": "stream",
     "text": [
      "The value of a_var is : 100\n",
      "The value of a_Var is: 200\n"
     ]
    }
   ],
   "source": [
    "# global variable \n",
    "\n",
    "a_var = 200       #globla varible\n",
    "def my_fun1():\n",
    "    a_var=100     #local variable\n",
    "    print('The value of a_var is :',a_var)  #returns local varibale value\n",
    "my_fun1()\n",
    "print('The value of a_Var is:',a_var)       #returns global varibale value\n"
   ]
  },
  {
   "cell_type": "code",
   "execution_count": 37,
   "id": "4e1f9828",
   "metadata": {},
   "outputs": [
    {
     "name": "stdout",
     "output_type": "stream",
     "text": [
      "The value of x after increment is: 101\n",
      "The value of x is: 101\n"
     ]
    }
   ],
   "source": [
    "# accessing global varibale within a fucntion\n",
    "x = 100\n",
    "def my_fun2():\n",
    "    global x\n",
    "    x+=1\n",
    "    print('The value of x after increment is:',x)\n",
    "my_fun2()\n",
    "print(\"The value of x is:\",x)"
   ]
  },
  {
   "cell_type": "code",
   "execution_count": 38,
   "id": "8a885365",
   "metadata": {},
   "outputs": [
    {
     "name": "stdout",
     "output_type": "stream",
     "text": [
      "X =  100\n",
      "The value of x after incement : 101\n"
     ]
    }
   ],
   "source": [
    "# function within a function - nonloacl variables\n",
    "\n",
    "def func():\n",
    "    x = 100\n",
    "    print('X = ',x) #local variable value to func\n",
    "    def func1():\n",
    "        nonlocal x\n",
    "        x += 1\n",
    "        print('The value of x after incement :',x)\n",
    "    func1()\n",
    "func()\n"
   ]
  },
  {
   "cell_type": "code",
   "execution_count": 44,
   "id": "2d30220d",
   "metadata": {},
   "outputs": [
    {
     "name": "stdout",
     "output_type": "stream",
     "text": [
      "Enter a number :1\n",
      "The factorial of  1 is  1\n"
     ]
    }
   ],
   "source": [
    "#factorial of a number using recursion\n",
    "def fact(x):\n",
    "    if x<=1:\n",
    "        return 1\n",
    "    else:\n",
    "        return x*fact(x-1) #recursive call\n",
    "\n",
    "n = int(input('Enter a number :'))\n",
    "\n",
    "print(\"The factorial of \",n,'is ',fact(n))"
   ]
  },
  {
   "cell_type": "code",
   "execution_count": 46,
   "id": "e7855950",
   "metadata": {},
   "outputs": [
    {
     "name": "stdout",
     "output_type": "stream",
     "text": [
      "The square value is  16\n"
     ]
    }
   ],
   "source": [
    "# anonymous functions / lambda functions\n",
    "square = lambda i:i*i  #square of i stored in square\n",
    "print('The square value is ',square(4))"
   ]
  },
  {
   "cell_type": "code",
   "execution_count": 55,
   "id": "daace06f",
   "metadata": {},
   "outputs": [
    {
     "name": "stdout",
     "output_type": "stream",
     "text": [
      "Lambda function with no arguments\n",
      "16\n",
      "6\n",
      "18\n"
     ]
    }
   ],
   "source": [
    "func0 = lambda : print ('Lambda function with no arguments')\n",
    "func1 = lambda x:x*x\n",
    "func2 = lambda x,y:y*x\n",
    "func3 = lambda x,y,z:x+y+z\n",
    "\n",
    "\n",
    "func0()\n",
    "print(func1(4))\n",
    "print(func2(2,3))\n",
    "print(func3(4,5,9))"
   ]
  },
  {
   "cell_type": "code",
   "execution_count": 57,
   "id": "a68e9ae3",
   "metadata": {},
   "outputs": [
    {
     "name": "stdout",
     "output_type": "stream",
     "text": [
      "16\n"
     ]
    }
   ],
   "source": [
    "# Higher order functions\n",
    "def apply(x,fun):\n",
    "    result = fun(x)\n",
    "    return result\n",
    "def square(n):\n",
    "    return n*n\n",
    "print(apply(4,square))"
   ]
  },
  {
   "cell_type": "code",
   "execution_count": 58,
   "id": "7a78ddb8",
   "metadata": {},
   "outputs": [
    {
     "name": "stdout",
     "output_type": "stream",
     "text": [
      "f1(5) =  False\n",
      "f2(5) =  True\n",
      "f3(5) =  False\n"
     ]
    }
   ],
   "source": [
    "# function which return function as return value\n",
    "\n",
    "def check(s):\n",
    "    if s == 'even':\n",
    "        return lambda n : n%2==0\n",
    "    elif s == 'positive':\n",
    "        return lambda n : n>=0\n",
    "    elif s == 'negative':\n",
    "        return lambda n : n<0\n",
    "\n",
    "    \n",
    "f1 = check('even')\n",
    "f2 = check('positive')\n",
    "f3 = check('negative')\n",
    "\n",
    "print('f1(5) = ',f1(5))\n",
    "print('f2(5) = ',f2(5))\n",
    "print('f3(5) = ',f3(5))\n"
   ]
  },
  {
   "cell_type": "code",
   "execution_count": 60,
   "id": "95cc585e",
   "metadata": {},
   "outputs": [
    {
     "name": "stdout",
     "output_type": "stream",
     "text": [
      "Data is: [1, 3, 5, 2, 4, 9, 8, 7, 10]\n",
      "Even numbers are  [2, 4, 8, 10]\n"
     ]
    }
   ],
   "source": [
    "#filter ( ) function\n",
    "data = [1,3,5,2,4,9,8,7,10]\n",
    "print('Data is:',data)\n",
    "def is_even(i):\n",
    "    return i % 2 == 0\n",
    "#filter for even numbers using filter()\n",
    "even_data = list(filter(is_even,data))\n",
    "print('Even numbers are ',even_data)\n",
    "\n"
   ]
  },
  {
   "cell_type": "code",
   "execution_count": 61,
   "id": "90432840",
   "metadata": {},
   "outputs": [
    {
     "name": "stdout",
     "output_type": "stream",
     "text": [
      "Data is : [1, 4, 3, 5, 2, 9, 7, 10]\n",
      "The result of map function is: [2, 5, 4, 6, 3, 10, 8, 11]\n"
     ]
    }
   ],
   "source": [
    "# map function\n",
    "\n",
    "data = [1,4,3,5,2,9,7,10]\n",
    "print('Data is :',data)\n",
    "#applying the lambda function to each element in the list using the map function\n",
    "d1 = list(map(lambda i:i+1,data))\n",
    "print('The result of map function is:',d1)"
   ]
  },
  {
   "cell_type": "code",
   "execution_count": 63,
   "id": "a10a7479",
   "metadata": {},
   "outputs": [
    {
     "name": "stdout",
     "output_type": "stream",
     "text": [
      "The result of adding 2 data lists is:  [3, 7, 11, 15, 19]\n"
     ]
    }
   ],
   "source": [
    "data1 = [1,3,5,7,9]\n",
    "data2 = [2,4,6,8,10]\n",
    "result = list(map(lambda x,y:x+y,data1,data2))\n",
    "\n",
    "print('The result of adding 2 data lists is: ',result)"
   ]
  },
  {
   "cell_type": "code",
   "execution_count": 64,
   "id": "89d2aee1",
   "metadata": {},
   "outputs": [
    {
     "name": "stdout",
     "output_type": "stream",
     "text": [
      "The square of data is: [1, 16, 9, 25, 4, 81, 49, 100]\n"
     ]
    }
   ],
   "source": [
    "data = [1,4,3,5,2,9,7,10]\n",
    "def square(n):\n",
    "    return n*n\n",
    "sqr = list(map(square,data))\n",
    "print('The square of data is:',sqr)"
   ]
  },
  {
   "cell_type": "code",
   "execution_count": 67,
   "id": "92f92fd0",
   "metadata": {},
   "outputs": [
    {
     "name": "stdout",
     "output_type": "stream",
     "text": [
      "The sum of total data:  31\n",
      "The multiplication of data using reduce() : 5184\n"
     ]
    }
   ],
   "source": [
    "#reduce function\n",
    "from functools import reduce\n",
    "data = [1,4,3,6,8,9]\n",
    "result = reduce (lambda total,value:total+value,data)\n",
    "print('The sum of total data: ',result)\n",
    "result2 = reduce(lambda total,value:total * value,data)\n",
    "print('The multiplication of data using reduce() :',result2)"
   ]
  },
  {
   "cell_type": "code",
   "execution_count": null,
   "id": "64b5a490",
   "metadata": {},
   "outputs": [],
   "source": []
  }
 ],
 "metadata": {
  "kernelspec": {
   "display_name": "Python 3 (ipykernel)",
   "language": "python",
   "name": "python3"
  },
  "language_info": {
   "codemirror_mode": {
    "name": "ipython",
    "version": 3
   },
   "file_extension": ".py",
   "mimetype": "text/x-python",
   "name": "python",
   "nbconvert_exporter": "python",
   "pygments_lexer": "ipython3",
   "version": "3.9.12"
  }
 },
 "nbformat": 4,
 "nbformat_minor": 5
}
