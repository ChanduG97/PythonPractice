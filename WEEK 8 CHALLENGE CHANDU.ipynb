{
 "cells": [
  {
   "cell_type": "markdown",
   "id": "ca64b82f",
   "metadata": {},
   "source": [
    "# WEEK 8 CHALLENGE CHANDU"
   ]
  },
  {
   "cell_type": "markdown",
   "id": "7940ad43",
   "metadata": {},
   "source": [
    "### 1.Write a program that accepts two integers and displays the result of dividing the first number by the second number. It should raise ZeroDivisionError if the denominator is zero."
   ]
  },
  {
   "cell_type": "code",
   "execution_count": 1,
   "id": "26a752e0",
   "metadata": {},
   "outputs": [
    {
     "name": "stdout",
     "output_type": "stream",
     "text": [
      "Enter 1st integer :5\n",
      "Enter 2nd integer :5\n",
      "The result of n1/n2 is: 1.0\n"
     ]
    }
   ],
   "source": [
    "try:\n",
    "    n1 = int(input('Enter 1st integer :'))\n",
    "    n2 = int(input('Enter 2nd integer :'))\n",
    "    res = n1/n2\n",
    "    print('The result of n1/n2 is:',res)\n",
    "except ZeroDivisionError as z:\n",
    "    print(z,'Error raised')\n",
    "except ValueError as v:\n",
    "    print('Value error raised.',v)"
   ]
  },
  {
   "cell_type": "markdown",
   "id": "62986c3c",
   "metadata": {},
   "source": [
    "### 2.Implement the above program with the help of Assertion"
   ]
  },
  {
   "cell_type": "code",
   "execution_count": 2,
   "id": "7440959b",
   "metadata": {},
   "outputs": [
    {
     "name": "stdout",
     "output_type": "stream",
     "text": [
      "Enter 1st integer :5\n",
      "Enter 2nd integer :2\n",
      "The result of no1/no2 is :  2.5\n"
     ]
    }
   ],
   "source": [
    "no1 = int(input('Enter 1st integer :'))\n",
    "no2 = int(input('Enter 2nd integer :'))\n",
    "assert no2 != 0,'Zero Division Error'\n",
    "res = no1/no2\n",
    "print('The result of no1/no2 is : ',res)"
   ]
  },
  {
   "cell_type": "markdown",
   "id": "c459418b",
   "metadata": {},
   "source": [
    "### 3.Write a program that accepts n positive integers as input and prints their square. If a negative number is entered, then raise ValueError exception and display a relevant error message and make an exit."
   ]
  },
  {
   "cell_type": "code",
   "execution_count": 3,
   "id": "c66dac66",
   "metadata": {},
   "outputs": [
    {
     "name": "stdout",
     "output_type": "stream",
     "text": [
      "Enter a number: 12\n",
      "Enter a number: 32\n",
      "Enter a number: 14\n",
      "Enter a number: 0\n",
      "Enter a number: 5\n",
      "Enter a number: 45\n",
      "Enter a number: 48\n",
      "Enter a number: 54\n",
      "Enter a number: 12\n",
      "Enter a number: 14\n",
      "Enter a number: 12\n",
      "Enter a number: \n",
      "Value Error invalid literal for int() with base 10: ''\n",
      "Square of 12 is : 144\n",
      "Square of 32 is : 1024\n",
      "Square of 14 is : 196\n",
      "Square of 0 is : 0\n",
      "Square of 5 is : 25\n",
      "Square of 45 is : 2025\n",
      "Square of 48 is : 2304\n",
      "Square of 54 is : 2916\n",
      "Square of 12 is : 144\n",
      "Square of 14 is : 196\n",
      "Square of 12 is : 144\n"
     ]
    }
   ],
   "source": [
    "try:\n",
    "    l = list()\n",
    "    while True:\n",
    "        n=int(input('Enter a number: '))\n",
    "        if n<0:\n",
    "            raise ValueError\n",
    "        else:\n",
    "            l.append(n)\n",
    "except ValueError as v:\n",
    "    print('Value Error',v)\n",
    "finally :\n",
    "    for i in l:\n",
    "        print('Square of',i,'is :',i**2)"
   ]
  },
  {
   "cell_type": "markdown",
   "id": "fcbf2ff8",
   "metadata": {},
   "source": [
    "### 4.Write a program that receives an integer as input and finds its factorial. If a non-integer input is entered, then report an error and accept the input again. Continue this process until correct input is entered."
   ]
  },
  {
   "cell_type": "code",
   "execution_count": 4,
   "id": "f16e9bb3",
   "metadata": {},
   "outputs": [
    {
     "name": "stdout",
     "output_type": "stream",
     "text": [
      "Enter an Integer :5\n",
      "The factorial of 5 is : 120\n",
      "Enter an Integer :4\n",
      "The factorial of 4 is : 2880\n",
      "Enter an Integer :\n",
      "<class 'Exception'>\n"
     ]
    }
   ],
   "source": [
    "try :\n",
    "    fact = 1\n",
    "    while True:\n",
    "        n = int(input('Enter an Integer :'))\n",
    "        for i in range(1,n+1):\n",
    "            fact = fact * i\n",
    "        print('The factorial of',n,'is :',fact)\n",
    "except Exception:\n",
    "    print(Exception)"
   ]
  },
  {
   "cell_type": "markdown",
   "id": "7fbae342",
   "metadata": {},
   "source": [
    "### 5.Create an iterator that returns numbers, starting with 1, and each sequence will increase by one (returning 1,2,3,4,5 etc..)"
   ]
  },
  {
   "cell_type": "code",
   "execution_count": 5,
   "id": "60e22908",
   "metadata": {},
   "outputs": [],
   "source": [
    "class Integer:\n",
    "    def __init__(self,l):\n",
    "        self._limit = l\n",
    "        self._val = 1\n",
    "    def __iter__(self):\n",
    "        return self\n",
    "    def __next__(self):\n",
    "        if self._val > self._limit:\n",
    "            raise StopIteration\n",
    "        else:\n",
    "            return_val = self._val \n",
    "            self._val +=1\n",
    "        return return_val\n",
    "    "
   ]
  },
  {
   "cell_type": "code",
   "execution_count": 6,
   "id": "4cb0cdee",
   "metadata": {},
   "outputs": [
    {
     "name": "stdout",
     "output_type": "stream",
     "text": [
      "Start Iterator...\n",
      "Enter limit : 5\n",
      "Sequence :  1\n",
      "Sequence :  2\n",
      "Sequence :  3\n",
      "Sequence :  4\n",
      "Sequence :  5\n",
      "End of Iterator.\n"
     ]
    }
   ],
   "source": [
    "print('Start Iterator...')\n",
    "n = int(input('Enter limit : '))\n",
    "for i in range(1,n+1):\n",
    "    print('Sequence : ',i)\n",
    "print('End of Iterator.')"
   ]
  },
  {
   "cell_type": "markdown",
   "id": "70fb1998",
   "metadata": {},
   "source": [
    "### 6.Write a program that implements iterator class called Prime and which prints prime numbers up to n."
   ]
  },
  {
   "cell_type": "code",
   "execution_count": 7,
   "id": "f9410753",
   "metadata": {},
   "outputs": [],
   "source": [
    "class Prime:\n",
    "    def __init__(self,l):\n",
    "        self._limit = l\n",
    "        self._val = 0\n",
    "    def __iter__(self):\n",
    "        return self\n",
    "    def __next__(self):\n",
    "        if self._val > self._limit:\n",
    "            raise StopIteration\n",
    "        else:\n",
    "            return_val = self._val\n",
    "            self._val +=1\n",
    "            return return_val\n",
    "        "
   ]
  },
  {
   "cell_type": "code",
   "execution_count": 8,
   "id": "4d365464",
   "metadata": {},
   "outputs": [
    {
     "name": "stdout",
     "output_type": "stream",
     "text": [
      "Enter Limit : 10\n",
      "Prime numbers are :  0\n",
      "Prime numbers are :  1\n",
      "Prime numbers are :  2\n",
      "Prime numbers are :  3\n",
      "Prime numbers are :  5\n",
      "Prime numbers are :  7\n"
     ]
    }
   ],
   "source": [
    "n = int(input('Enter Limit : '))\n",
    "for n in Prime(n):\n",
    "    for i in range(2,n):\n",
    "        if(n%i==0):\n",
    "            break\n",
    "    else:\n",
    "        print('Prime numbers are : ',n,end = '\\n')"
   ]
  },
  {
   "cell_type": "markdown",
   "id": "8f9f9193",
   "metadata": {},
   "source": [
    "### 7.Define a class, Circle, which takes two arguments when defined — a sequence and a number. The idea is that the object will then return elements the defined number of times. If the number is greater than the number of elements, then the sequence repeats as necessary."
   ]
  },
  {
   "cell_type": "code",
   "execution_count": 9,
   "id": "461acdf9",
   "metadata": {},
   "outputs": [],
   "source": [
    "class Circle:\n",
    "    def __init__(self,number,sequence):\n",
    "        self._limit = number\n",
    "        self._data = sequence\n",
    "        self._val=0\n",
    "    def __iter__(self):\n",
    "        return Circle(self._limit,self._data)\n",
    "    def __next__(self):\n",
    "        if self._val >= self._limit:\n",
    "            raise StopIteration\n",
    "        else:\n",
    "            value = self._data[self._val % len(self._data)]\n",
    "            self._val += 1\n",
    "            return value "
   ]
  },
  {
   "cell_type": "code",
   "execution_count": 10,
   "id": "3d28d6fa",
   "metadata": {},
   "outputs": [
    {
     "name": "stdout",
     "output_type": "stream",
     "text": [
      "[1, 2, 3, 4, 5, 6, 1, 2, 3, 4, 5, 6, 1, 2, 3, 4, 5, 6, 1, 2, 3, 4, 5, 6, 1, 2, 3, 4, 5, 6]\n"
     ]
    }
   ],
   "source": [
    "n = Circle(30,[1,2,3,4,5,6])\n",
    "print(list(n))"
   ]
  },
  {
   "cell_type": "markdown",
   "id": "cbbe4b0f",
   "metadata": {},
   "source": [
    "### 8.Write a Python program to demonstrate working of iterators using an example type that iterates from 10 to given value"
   ]
  },
  {
   "cell_type": "code",
   "execution_count": 14,
   "id": "fb65a21d",
   "metadata": {},
   "outputs": [],
   "source": [
    "class Iterator:\n",
    "    def __init__(self,limit):\n",
    "        self._limit=limit\n",
    "        self._val=10\n",
    "    def __iter__(self):\n",
    "        return self\n",
    "    def __next__(self):\n",
    "        if self._val>self._limit:\n",
    "            raise StopIteration\n",
    "        else:\n",
    "            return_val=self._val\n",
    "            self._val+=1\n",
    "            return return_val"
   ]
  },
  {
   "cell_type": "code",
   "execution_count": 15,
   "id": "f0c88715",
   "metadata": {},
   "outputs": [
    {
     "name": "stdout",
     "output_type": "stream",
     "text": [
      "Enter the limit more than 10 :25\n",
      "The numbers from 10 to 25 are :  10 11 12 13 14 15 16 17 18 19 20 21 22 23 24 25 "
     ]
    }
   ],
   "source": [
    "n = int(input('Enter the limit more than 10 :'))\n",
    "print('The numbers from 10 to',n,'are : ',end=' ')\n",
    "for i in  Iterator(n):\n",
    "    print(i,end=' ')"
   ]
  },
  {
   "cell_type": "markdown",
   "id": "3cc69cf1",
   "metadata": {},
   "source": [
    "### 9.Write a program to illustrate the concept of multiple decorators"
   ]
  },
  {
   "cell_type": "code",
   "execution_count": 16,
   "id": "c2600789",
   "metadata": {},
   "outputs": [],
   "source": [
    "\n",
    "def star(func):\n",
    "    def inner(*args,**kwargs):\n",
    "        print('*'*75)\n",
    "        func(*args,**kwargs)\n",
    "        print('*'*75)\n",
    "    return inner\n",
    "\n",
    "def hyphen(func):\n",
    "    def inner(*args,**kwargs):\n",
    "        print('-'*75)\n",
    "        func(*args,**kwargs)\n",
    "        print('-'*75)\n",
    "    return inner"
   ]
  },
  {
   "cell_type": "code",
   "execution_count": 17,
   "id": "f5fb5651",
   "metadata": {},
   "outputs": [],
   "source": [
    "@star\n",
    "@hyphen\n",
    "def printer(msg):\n",
    "    print(msg)"
   ]
  },
  {
   "cell_type": "code",
   "execution_count": 18,
   "id": "05267c96",
   "metadata": {},
   "outputs": [
    {
     "name": "stdout",
     "output_type": "stream",
     "text": [
      "***************************************************************************\n",
      "---------------------------------------------------------------------------\n",
      "program to illustrate the concept of multiple decorators\n",
      "---------------------------------------------------------------------------\n",
      "***************************************************************************\n"
     ]
    }
   ],
   "source": [
    "printer('program to illustrate the concept of multiple decorators')"
   ]
  },
  {
   "cell_type": "markdown",
   "id": "f0eab54f",
   "metadata": {},
   "source": [
    "### 10.Write a decorator called timer that calculates the time required to execute a function. Its wrapper function called calculates should take all the parameters that are passed to the decorated function."
   ]
  },
  {
   "cell_type": "code",
   "execution_count": 19,
   "id": "9dc32eea",
   "metadata": {},
   "outputs": [],
   "source": [
    "import time\n",
    "def timer(func):\n",
    "    def calculate(*args,**kwargs):\n",
    "        start_time = time.perf_counter()\n",
    "        value = func(*args,**kwargs)\n",
    "        end_time = time.perf_counter()\n",
    "        run_time = end_time - start_time\n",
    "        print('Execution time is : {0:10.10f}secs'.format(run_time))\n",
    "        return value\n",
    "    return calculate"
   ]
  },
  {
   "cell_type": "code",
   "execution_count": 20,
   "id": "5d320e12",
   "metadata": {},
   "outputs": [],
   "source": [
    "@timer\n",
    "def factorial(n):\n",
    "    fact  = 1\n",
    "    for i in range(n):\n",
    "        fact = fact * (i+1)\n",
    "    return fact"
   ]
  },
  {
   "cell_type": "code",
   "execution_count": 21,
   "id": "614ac7f4",
   "metadata": {},
   "outputs": [
    {
     "name": "stdout",
     "output_type": "stream",
     "text": [
      "Execution time is : 0.0000051000secs\n",
      "The factorial is : 120\n"
     ]
    }
   ],
   "source": [
    "print('The factorial is :',factorial(5))"
   ]
  }
 ],
 "metadata": {
  "kernelspec": {
   "display_name": "Python 3 (ipykernel)",
   "language": "python",
   "name": "python3"
  },
  "language_info": {
   "codemirror_mode": {
    "name": "ipython",
    "version": 3
   },
   "file_extension": ".py",
   "mimetype": "text/x-python",
   "name": "python",
   "nbconvert_exporter": "python",
   "pygments_lexer": "ipython3",
   "version": "3.9.12"
  }
 },
 "nbformat": 4,
 "nbformat_minor": 5
}
