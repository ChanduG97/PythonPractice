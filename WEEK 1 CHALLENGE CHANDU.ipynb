{
 "cells": [
  {
   "cell_type": "markdown",
   "id": "177210e3",
   "metadata": {},
   "source": [
    "## 1. Create a program that displays your name and complete mailing address formatted in the manner that you would usually see it on the outside of an envelope. Your program does not need to read any input from the user"
   ]
  },
  {
   "cell_type": "code",
   "execution_count": 1,
   "id": "ea41abd1",
   "metadata": {},
   "outputs": [
    {
     "name": "stdout",
     "output_type": "stream",
     "text": [
      "Name :  Gadde Naveen chand\n",
      "Email :  naveenchand.benny@gmail.com\n"
     ]
    }
   ],
   "source": [
    "name = 'Gadde Naveen chand'\n",
    "mail = 'naveenchand.benny@gmail.com'\n",
    "print ('Name : ',name)\n",
    "print ('Email : ',mail)"
   ]
  },
  {
   "cell_type": "markdown",
   "id": "acaa209f",
   "metadata": {},
   "source": [
    "## 2. Write a program that asks the user to enter his or her name. The program should respond with a message that says hello to the user, using his or her name.\n"
   ]
  },
  {
   "cell_type": "code",
   "execution_count": 2,
   "id": "5af0a25f",
   "metadata": {},
   "outputs": [
    {
     "name": "stdout",
     "output_type": "stream",
     "text": [
      "Enter your nameNaveen\n",
      "Hello Naveen\n"
     ]
    }
   ],
   "source": [
    "name= input('Enter your name')\n",
    "print('Hello',name)"
   ]
  },
  {
   "cell_type": "markdown",
   "id": "c40c3ffa",
   "metadata": {},
   "source": [
    "## 3. Write a program that accepts radius (datatype : float) of a circle from the user. Calculate and display the area and circumference of the circle\n"
   ]
  },
  {
   "cell_type": "code",
   "execution_count": 3,
   "id": "9c686543",
   "metadata": {},
   "outputs": [
    {
     "name": "stdout",
     "output_type": "stream",
     "text": [
      "Enter radius value : 5\n",
      "Area of circle :  78.5\n",
      "Circumference of circle :  31.400000000000002\n"
     ]
    }
   ],
   "source": [
    "r =float(input('Enter radius value : ')) # r=radius\n",
    "'''area of circel formula 3.14 * r *r '''\n",
    "'''circumference of circle 2 * 3.14 * r'''\n",
    "area = 3.14 * r * r\n",
    "circum = 2 * 3.14 * r\n",
    "print ('Area of circle : ',area)\n",
    "print('Circumference of circle : ',circum)"
   ]
  },
  {
   "cell_type": "markdown",
   "id": "09658154",
   "metadata": {},
   "source": [
    "## 4. Write a program that accepts length and breadth (both float) of a rectangle from the user. Calculate and display the area and perimeter of the rectangle"
   ]
  },
  {
   "cell_type": "code",
   "execution_count": 4,
   "id": "900eb44a",
   "metadata": {},
   "outputs": [
    {
     "name": "stdout",
     "output_type": "stream",
     "text": [
      "Enter Length of a rectangle : 5\n",
      "Enter breadth of a rectangle : 7\n",
      " Area of rectangel :  35.0\n",
      " Perimeter of rectangle :  24.0\n"
     ]
    }
   ],
   "source": [
    "# length = l\n",
    "# breadth = b\n",
    "l=float(input('Enter Length of a rectangle : '))\n",
    "b=float(input('Enter breadth of a rectangle : '))\n",
    "area = l * b\n",
    "perimeter = 2 * ( l + b )\n",
    "print (' Area of rectangel : ',area)\n",
    "print(' Perimeter of rectangle : ',perimeter)"
   ]
  },
  {
   "cell_type": "markdown",
   "id": "1b800222",
   "metadata": {},
   "source": [
    "## 5. Write a program to accept the side (datatype : float) of a square from the user. Calculate and display the area and perimeter of the square"
   ]
  },
  {
   "cell_type": "code",
   "execution_count": 5,
   "id": "ff9fd7c4",
   "metadata": {},
   "outputs": [
    {
     "name": "stdout",
     "output_type": "stream",
     "text": [
      "Enter a side of a square : 4\n",
      "Area of a Square :  256.0\n",
      "Perimeter of a Square :  16.0\n"
     ]
    }
   ],
   "source": [
    "#side = s\n",
    "s =float(input('Enter a side of a square : '))\n",
    "area=s*s \n",
    "perimeter=4*s\n",
    "print('Area of a Square : ',area)\n",
    "print('Perimeter of a Square : ',perimeter)"
   ]
  },
  {
   "cell_type": "markdown",
   "id": "bb810e6c",
   "metadata": {},
   "source": [
    "## 6. Write a program to accept the temperature (datatype : float) in Fahrenheit and convert it into Centigrade. Modify the program to accept the temperature in Centigrade and convert it into Fahrenheit"
   ]
  },
  {
   "cell_type": "code",
   "execution_count": 6,
   "id": "6a0b4c92",
   "metadata": {},
   "outputs": [
    {
     "name": "stdout",
     "output_type": "stream",
     "text": [
      "Enter temperature in Fahrenheit : 66\n",
      "Converted temperature from Fahrenheit to Centigrade is :  18.88888888888889\n",
      "Enter temperature in Centigrade : 18\n",
      "Converted temperature from centigrade to fahrenheit :  64.4\n"
     ]
    }
   ],
   "source": [
    "#fahrenheit = fh\n",
    "#centigrade = cl\n",
    "fh =float(input('Enter temperature in Fahrenheit : '))\n",
    "\n",
    "# formula for converting fahrenheit to centigrade is ( (Fh - 32) * 5/9 )\n",
    "cl = ((fh - 32)* 5/9)\n",
    "print('Converted temperature from Fahrenheit to Centigrade is : ',cl)\n",
    "\n",
    "#program to convert the temperature from centigrade to fahrenheit \n",
    "\n",
    "#formula to convert centigrade to fahrenheit ( (cl * 9/5) + 32)\n",
    "cl = float(input('Enter temperature in Centigrade : '))\n",
    "\n",
    "fh = ( (cl * 9/5) + 32)\n",
    "\n",
    "print('Converted temperature from centigrade to fahrenheit : ',fh)"
   ]
  },
  {
   "cell_type": "markdown",
   "id": "2967bd35",
   "metadata": {},
   "source": [
    "## 7. Write a program to accept two complex numbers. Perform addition, subtraction and multiplication of these numbers an display the results to the user."
   ]
  },
  {
   "cell_type": "code",
   "execution_count": 7,
   "id": "2634e8aa",
   "metadata": {},
   "outputs": [
    {
     "name": "stdout",
     "output_type": "stream",
     "text": [
      "Enter complex number 1 : 3+4j\n",
      "Enter complex number 2 : 5+6j\n",
      "Addition of two complex numbers :  (8+10j)\n",
      "Subtraction of two complex numbers :  (-2-2j)\n",
      "Multiplication of two complex numbers :  (-9+38j)\n"
     ]
    }
   ],
   "source": [
    "#complex numbers are stored in cp1,cp2\n",
    "cp1 = complex(input('Enter complex number 1 : '))\n",
    "cp2 = complex(input('Enter complex number 2 : '))\n",
    "add = cp1 + cp2\n",
    "sub = cp1 - cp2\n",
    "mul = cp1 * cp2\n",
    "print ('Addition of two complex numbers : ',add)\n",
    "print ('Subtraction of two complex numbers : ',sub)\n",
    "print('Multiplication of two complex numbers : ',mul)"
   ]
  },
  {
   "cell_type": "markdown",
   "id": "3657eaff",
   "metadata": {},
   "source": [
    "## 8. Write a program to accept the name and basic salary (datatype : float) of an employee. Calculate the dearness allowance as 40 % of basic and house rent allowance as 20 % of basic. Display the gross salary to the user. (Hint: gross salary = basic salary + dearness allowance + house rent allowance)"
   ]
  },
  {
   "cell_type": "code",
   "execution_count": 8,
   "id": "bc6aacfc",
   "metadata": {},
   "outputs": [
    {
     "name": "stdout",
     "output_type": "stream",
     "text": [
      "Enter name of the Employee : 22000\n",
      "Enter Basic salary : 22000\n",
      "Dearness allowance is :  8800.0\n",
      "House rent allowance is :  4400.0\n",
      "Gross salary is :  35200.0\n"
     ]
    }
   ],
   "source": [
    "name=input('Enter name of the Employee : ')\n",
    "#Salary = sal\n",
    "sal = float(input('Enter Basic salary : '))\n",
    "#dearness allowance = da\n",
    "#house rent allowance = hra\n",
    "#gross salary = gross\n",
    "da = (40/100) * sal\n",
    "print('Dearness allowance is : ',da)\n",
    "hra = (20/100) * sal\n",
    "print('House rent allowance is : ',hra)\n",
    "gross = sal + da + hra\n",
    "print('Gross salary is : ',gross)"
   ]
  },
  {
   "cell_type": "markdown",
   "id": "76e7e8a2",
   "metadata": {},
   "source": [
    "## 9. Write a program that reads a positive integer, n, from the user and then displays the sum of all of the integers from 1 to n. The sum of the first n positive integers can be computed using the formula: sum = (n)(n + 1)/ 2"
   ]
  },
  {
   "cell_type": "code",
   "execution_count": 9,
   "id": "de75ab08",
   "metadata": {},
   "outputs": [
    {
     "name": "stdout",
     "output_type": "stream",
     "text": [
      "Enter N value : 9\n",
      "Sum of all integers are : 45.0\n"
     ]
    }
   ],
   "source": [
    "n = int(input('Enter N value : '))\n",
    "#assume sum of all integers = sumint\n",
    "sumint = (n)*(n+1)/2\n",
    "print('Sum of all integers are :',sumint)"
   ]
  },
  {
   "cell_type": "markdown",
   "id": "48de00dd",
   "metadata": {},
   "source": [
    "## 10. Create a program that reads two integers, a and b, from the user. Your program should compute and display:\n",
    "\n",
    "### 1. The sum of a and b\n",
    "### 2. The difference when b is subtracted from a\n",
    "### 3. The product of a and b\n",
    "### 4. The quotient when a is divided by b\n",
    "### 5. The remainder when a is divided by b\n",
    "### 6. The result of a power b"
   ]
  },
  {
   "cell_type": "code",
   "execution_count": 10,
   "id": "c75507be",
   "metadata": {},
   "outputs": [
    {
     "name": "stdout",
     "output_type": "stream",
     "text": [
      "Enter value of A :6\n",
      "Enter value of B :4\n",
      "The sum of a and b is : 10\n",
      "The difference when b is subtracted from a : 2\n",
      "The product of a and b : 24\n",
      "The quotient when a is divided by b : 1.5\n",
      "The remainder when a is divided by b : 2\n",
      "The result of a power b : 1296\n"
     ]
    }
   ],
   "source": [
    "a = int(input('Enter value of A :'))\n",
    "b = int(input('Enter value of B :'))\n",
    "add = a + b\n",
    "sub = a - b\n",
    "mul = a * b\n",
    "div = a / b\n",
    "rem = a % b\n",
    "result = a ** b\n",
    "print ('The sum of a and b is :',add)\n",
    "print ('The difference when b is subtracted from a :',sub)\n",
    "print ('The product of a and b :',mul)\n",
    "print ('The quotient when a is divided by b :',div)\n",
    "print ('The remainder when a is divided by b :',rem)\n",
    "print ('The result of a power b :',result)\n"
   ]
  }
 ],
 "metadata": {
  "kernelspec": {
   "display_name": "Python 3 (ipykernel)",
   "language": "python",
   "name": "python3"
  },
  "language_info": {
   "codemirror_mode": {
    "name": "ipython",
    "version": 3
   },
   "file_extension": ".py",
   "mimetype": "text/x-python",
   "name": "python",
   "nbconvert_exporter": "python",
   "pygments_lexer": "ipython3",
   "version": "3.9.12"
  }
 },
 "nbformat": 4,
 "nbformat_minor": 5
}
