{
 "cells": [
  {
   "cell_type": "markdown",
   "id": "499c8f17",
   "metadata": {},
   "source": [
    "# Python_Week1"
   ]
  },
  {
   "cell_type": "code",
   "execution_count": 38,
   "id": "a46de56a",
   "metadata": {},
   "outputs": [
    {
     "name": "stdout",
     "output_type": "stream",
     "text": [
      "Hello world\n"
     ]
    }
   ],
   "source": [
    "# Python practice week 1 classes, hello world program 10/09/2022 01:07am\n",
    "print('Hello world')"
   ]
  },
  {
   "cell_type": "code",
   "execution_count": 39,
   "id": "b0822053",
   "metadata": {},
   "outputs": [
    {
     "name": "stdout",
     "output_type": "stream",
     "text": [
      "single line comments\n",
      "first line code print statement\n",
      "multi line comments\n",
      "multi line code print statement\n"
     ]
    }
   ],
   "source": [
    "# testing comments\n",
    "print('single line comments')\n",
    "print('first line code print statement')\n",
    "'''\n",
    "testing the multi-line comments\n",
    "code will be next to the triple comments\n",
    "'''\n",
    "print('multi line comments')\n",
    "print('multi line code print statement')"
   ]
  },
  {
   "cell_type": "code",
   "execution_count": 40,
   "id": "300c4b76",
   "metadata": {},
   "outputs": [
    {
     "name": "stdout",
     "output_type": "stream",
     "text": [
      "The value of X : 10\n"
     ]
    }
   ],
   "source": [
    "x=10\n",
    "print('The value of X :',x)"
   ]
  },
  {
   "cell_type": "code",
   "execution_count": 41,
   "id": "2a4bf1a8",
   "metadata": {},
   "outputs": [
    {
     "name": "stdout",
     "output_type": "stream",
     "text": [
      "10\n"
     ]
    }
   ],
   "source": [
    "print(x)"
   ]
  },
  {
   "cell_type": "code",
   "execution_count": 42,
   "id": "e66a43ab",
   "metadata": {},
   "outputs": [
    {
     "name": "stdout",
     "output_type": "stream",
     "text": [
      "The value of X: 15.11\n",
      "The data type of X: <class 'float'>\n"
     ]
    }
   ],
   "source": [
    "x = 15.11\n",
    "print('The value of X:',x)\n",
    "print ('The data type of X:',type(x))\n"
   ]
  },
  {
   "cell_type": "code",
   "execution_count": 43,
   "id": "c4bdd056",
   "metadata": {},
   "outputs": [
    {
     "name": "stdout",
     "output_type": "stream",
     "text": [
      "The value of Y: (5+2j)\n",
      "The Datatype of Y: <class 'complex'>\n"
     ]
    }
   ],
   "source": [
    "y=5+2j\n",
    "print('The value of Y:',y)\n",
    "print('The Datatype of Y:',type(y))"
   ]
  },
  {
   "cell_type": "markdown",
   "id": "f67faea7",
   "metadata": {},
   "source": [
    "## STRINGS"
   ]
  },
  {
   "cell_type": "code",
   "execution_count": 44,
   "id": "1e87a800",
   "metadata": {},
   "outputs": [
    {
     "name": "stdout",
     "output_type": "stream",
     "text": [
      "The String str1 =  Welcome to Strings (single quoted)\n"
     ]
    }
   ],
   "source": [
    "str1 = 'Welcome to Strings (single quoted)'\n",
    "print('The String str1 = ', str1)"
   ]
  },
  {
   "cell_type": "code",
   "execution_count": 45,
   "id": "ab8be862",
   "metadata": {},
   "outputs": [
    {
     "name": "stdout",
     "output_type": "stream",
     "text": [
      "The  string 2 is :  Strings in Double quotes\n"
     ]
    }
   ],
   "source": [
    "str2 = \"Strings in Double quotes\"\n",
    "print('The  string 2 is : ', str2)"
   ]
  },
  {
   "cell_type": "code",
   "execution_count": 46,
   "id": "c19cb607",
   "metadata": {},
   "outputs": [
    {
     "name": "stdout",
     "output_type": "stream",
     "text": [
      "The string 3 is :   String creation using TRIPE QUOTES \n",
      "           Welcome to \n",
      "           Multi line string\n"
     ]
    }
   ],
   "source": [
    "str3 = ''' String creation using TRIPE QUOTES \n",
    "           Welcome to \n",
    "           Multi line string'''\n",
    "\n",
    "print('The string 3 is : ',str3)\n"
   ]
  },
  {
   "cell_type": "markdown",
   "id": "9cce0fb5",
   "metadata": {},
   "source": [
    "## BOOL Datatype"
   ]
  },
  {
   "cell_type": "code",
   "execution_count": 47,
   "id": "521fbb9a",
   "metadata": {},
   "outputs": [
    {
     "name": "stdout",
     "output_type": "stream",
     "text": [
      "The value of Flag :  True\n",
      "The Datatype of Flag :  <class 'bool'>\n"
     ]
    }
   ],
   "source": [
    "flag = True\n",
    "print('The value of Flag : ', flag)\n",
    "print('The Datatype of Flag : ',type(flag))\n"
   ]
  },
  {
   "cell_type": "code",
   "execution_count": 48,
   "id": "72cf4d1a",
   "metadata": {},
   "outputs": [
    {
     "name": "stdout",
     "output_type": "stream",
     "text": [
      "The changed value of flag is :  False\n",
      "the datatype of Flag is :  <class 'bool'>\n"
     ]
    }
   ],
   "source": [
    "flag = False\n",
    "print('The changed value of flag is : ',flag)\n",
    "print('the datatype of Flag is : ', type(flag))\n"
   ]
  },
  {
   "cell_type": "markdown",
   "id": "e2cb5d8e",
   "metadata": {},
   "source": [
    "## Arithmetic Operators"
   ]
  },
  {
   "cell_type": "code",
   "execution_count": 49,
   "id": "5bffa411",
   "metadata": {},
   "outputs": [
    {
     "name": "stdout",
     "output_type": "stream",
     "text": [
      "the value of X is :  10\n",
      "The value of X after adding  2 is :  12\n"
     ]
    }
   ],
   "source": [
    "## addition operator (+)\n",
    "\n",
    "x=10\n",
    "print('the value of X is : ',x)\n",
    "x = x + 2\n",
    "print('The value of X after adding  2 is : ',x)"
   ]
  },
  {
   "cell_type": "code",
   "execution_count": 50,
   "id": "ef6a969a",
   "metadata": {},
   "outputs": [
    {
     "name": "stdout",
     "output_type": "stream",
     "text": [
      "The value of Z =  9\n",
      "The datatype of Z is :  <class 'int'>\n"
     ]
    }
   ],
   "source": [
    "## minus operator (-)\n",
    "y = 3\n",
    "z = x - y\n",
    "print('The value of Z = ',z,)\n",
    "print('The datatype of Z is : ',type(z))"
   ]
  },
  {
   "cell_type": "code",
   "execution_count": 51,
   "id": "6521100f",
   "metadata": {},
   "outputs": [
    {
     "name": "stdout",
     "output_type": "stream",
     "text": [
      "The value of y after multiplication :  6\n"
     ]
    }
   ],
   "source": [
    "# Multiplication Operator (*)\n",
    "y = y * 2\n",
    "print('The value of y after multiplication : ',y)\n"
   ]
  },
  {
   "cell_type": "code",
   "execution_count": 52,
   "id": "d54a8e61",
   "metadata": {},
   "outputs": [
    {
     "name": "stdout",
     "output_type": "stream",
     "text": [
      "the value of z after Division is:  2.4\n",
      "The Datatype of z :  <class 'float'>\n"
     ]
    }
   ],
   "source": [
    "# Division operator  ( / )\n",
    "z = x / 5\n",
    "print('the value of z after Division is: ',z)\n",
    "print('The Datatype of z : ',type(z))"
   ]
  },
  {
   "cell_type": "code",
   "execution_count": 53,
   "id": "85995d15",
   "metadata": {},
   "outputs": [
    {
     "name": "stdout",
     "output_type": "stream",
     "text": [
      "The value of x is :  12\n",
      "The value of y after Division is :  2\n",
      "The datatype of y is :  <class 'int'>\n"
     ]
    }
   ],
   "source": [
    "## Integer divison ( // ) returns only integer values even it is float value\n",
    "\n",
    "y = x // 5\n",
    "print('The value of x is : ', x )\n",
    "print('The value of y after Division is : ', y )\n",
    "print('The datatype of y is : ', type(y))\n",
    "\n"
   ]
  },
  {
   "cell_type": "code",
   "execution_count": 54,
   "id": "68908716",
   "metadata": {},
   "outputs": [
    {
     "name": "stdout",
     "output_type": "stream",
     "text": [
      "Z :  1\n",
      "Z :  2\n"
     ]
    }
   ],
   "source": [
    "## Modular Division ( % )\n",
    "x = 13\n",
    "z = x % 2\n",
    "print('Z : ', z)\n",
    "x = 17\n",
    "z = x % 5\n",
    "print('Z : ', z)\n"
   ]
  },
  {
   "cell_type": "code",
   "execution_count": 55,
   "id": "c3dc2745",
   "metadata": {},
   "outputs": [
    {
     "name": "stdout",
     "output_type": "stream",
     "text": [
      "The value of Z :  8\n"
     ]
    }
   ],
   "source": [
    "## Exponential Operator ( ** ) means power operator * a power b * \n",
    "x = 2\n",
    "y = 3\n",
    "z = x ** y\n",
    "print('The value of Z : ', z)\n"
   ]
  },
  {
   "cell_type": "code",
   "execution_count": 56,
   "id": "7621f147",
   "metadata": {},
   "outputs": [
    {
     "name": "stdout",
     "output_type": "stream",
     "text": [
      "The value of X :  10\n",
      "The value of Y :  -10\n",
      "The value of Z :  10\n"
     ]
    }
   ],
   "source": [
    "## Expressions\n",
    "## Unary Minus operator\n",
    "x = 10\n",
    "y = -x\n",
    "print('The value of X : ',x)\n",
    "print('The value of Y : ',y)\n",
    "z = -y\n",
    "print('The value of Z : ',z)"
   ]
  },
  {
   "cell_type": "markdown",
   "id": "a9b3ee55",
   "metadata": {},
   "source": [
    "## video 4"
   ]
  },
  {
   "cell_type": "code",
   "execution_count": 57,
   "id": "0e744c7f",
   "metadata": {},
   "outputs": [
    {
     "name": "stdout",
     "output_type": "stream",
     "text": [
      "The result is :  110\n"
     ]
    }
   ],
   "source": [
    "x = 10\n",
    "y = 20\n",
    "z = 5\n",
    "res = x + y * z\n",
    "print('The result is : ',res)"
   ]
  },
  {
   "cell_type": "code",
   "execution_count": 58,
   "id": "bfeb2896",
   "metadata": {},
   "outputs": [
    {
     "name": "stdout",
     "output_type": "stream",
     "text": [
      "The result :  -5\n"
     ]
    }
   ],
   "source": [
    "res = x - y + z\n",
    "print('The result : ',res)"
   ]
  },
  {
   "cell_type": "code",
   "execution_count": 59,
   "id": "4e72dbda",
   "metadata": {},
   "outputs": [
    {
     "name": "stdout",
     "output_type": "stream",
     "text": [
      "The value of x is :  10  The value of y is :  10\n"
     ]
    }
   ],
   "source": [
    "## Assignment operators \n",
    "x = 10\n",
    "y = x\n",
    "print('The value of x is : ',x, ' The value of y is : ', y)"
   ]
  },
  {
   "cell_type": "code",
   "execution_count": 60,
   "id": "48b7c5c8",
   "metadata": {},
   "outputs": [
    {
     "name": "stdout",
     "output_type": "stream",
     "text": [
      "The increment vlaue of x is :  12\n"
     ]
    }
   ],
   "source": [
    "x += 2\n",
    "print('The increment vlaue of x is : ',x)\n"
   ]
  },
  {
   "cell_type": "code",
   "execution_count": 61,
   "id": "2d63b418",
   "metadata": {},
   "outputs": [
    {
     "name": "stdout",
     "output_type": "stream",
     "text": [
      "Value of x after decrement :  9\n"
     ]
    }
   ],
   "source": [
    "x -=3\n",
    "print('Value of x after decrement : ',x)\n"
   ]
  },
  {
   "cell_type": "code",
   "execution_count": 62,
   "id": "4c0940bc",
   "metadata": {},
   "outputs": [
    {
     "name": "stdout",
     "output_type": "stream",
     "text": [
      "Value of x after Multiply is :  18\n"
     ]
    }
   ],
   "source": [
    "x *=2\n",
    "print('Value of x after Multiply is : ',x)"
   ]
  },
  {
   "cell_type": "code",
   "execution_count": 63,
   "id": "7bac442f",
   "metadata": {},
   "outputs": [
    {
     "name": "stdout",
     "output_type": "stream",
     "text": [
      "Value of x after division =  6.0\n"
     ]
    }
   ],
   "source": [
    "x /=3\n",
    "print('Value of x after division = ',x)"
   ]
  },
  {
   "cell_type": "code",
   "execution_count": 64,
   "id": "a27240fd",
   "metadata": {},
   "outputs": [
    {
     "name": "stdout",
     "output_type": "stream",
     "text": [
      "Value of x after modula division :  1\n"
     ]
    }
   ],
   "source": [
    "x = 13\n",
    "x %= 4\n",
    "print('Value of x after modula division : ',x)"
   ]
  },
  {
   "cell_type": "code",
   "execution_count": 65,
   "id": "313df79b",
   "metadata": {},
   "outputs": [
    {
     "name": "stdout",
     "output_type": "stream",
     "text": [
      "Value of x after interger division is :  2\n"
     ]
    }
   ],
   "source": [
    "x = 12\n",
    "x //=5\n",
    "print('Value of x after interger division is : ',x)"
   ]
  },
  {
   "cell_type": "code",
   "execution_count": 66,
   "id": "8de39743",
   "metadata": {},
   "outputs": [
    {
     "name": "stdout",
     "output_type": "stream",
     "text": [
      "Value of x after exponentiation is :  36\n"
     ]
    }
   ],
   "source": [
    "x = 6\n",
    "x **=2\n",
    "print('Value of x after exponentiation is : ',x)"
   ]
  },
  {
   "cell_type": "markdown",
   "id": "d9b1d477",
   "metadata": {},
   "source": [
    "## INPUT() STATEMENTS"
   ]
  },
  {
   "cell_type": "code",
   "execution_count": 67,
   "id": "0ba66e7a",
   "metadata": {},
   "outputs": [
    {
     "name": "stdout",
     "output_type": "stream",
     "text": [
      "Enter your name : Chandu\n",
      "The Entered string is :  Chandu\n",
      "Hello  Chandu\n",
      "The datatype of the str1 is : <class 'str'>\n"
     ]
    }
   ],
   "source": [
    "str1 = input('Enter your name : ')\n",
    "print('The Entered string is : ',str1)\n",
    "print('Hello ',str1)\n",
    "print('The datatype of the str1 is :',type(str1))"
   ]
  },
  {
   "cell_type": "code",
   "execution_count": 68,
   "id": "167596e7",
   "metadata": {},
   "outputs": [
    {
     "name": "stdout",
     "output_type": "stream",
     "text": [
      "Enter Num 1 value : 12\n",
      "Enter Num 2 value : 21\n",
      "The SUM of two given numbers are :  33\n"
     ]
    }
   ],
   "source": [
    "## ACCEPT TWO NUMBERS FROM THE USER AND PERFORM ADDITION\n",
    "num1 = int(input('Enter Num 1 value : '))\n",
    "num2 = int(input('Enter Num 2 value : '))\n",
    "res = num1 + num2\n",
    "print('The SUM of two given numbers are : ',res)"
   ]
  },
  {
   "cell_type": "code",
   "execution_count": 70,
   "id": "53a72118",
   "metadata": {},
   "outputs": [
    {
     "name": "stdout",
     "output_type": "stream",
     "text": [
      "Enter radius value : 54\n",
      "Area of the circle :  9156.24\n",
      "Circumference of the circle :  339.12\n"
     ]
    }
   ],
   "source": [
    "## CALCULATE AREA AND CIRCUMFERENCE OF A CIRCLE BY ACCEPTING RADIUS AND INPUT\n",
    "radius = float(input('Enter radius value : '))\n",
    "area = 3.14 * radius * radius\n",
    "circumference = 2 * 3.14 * radius\n",
    "print('Area of the circle : ',area)\n",
    "print('Circumference of the circle : ',circumference)"
   ]
  },
  {
   "cell_type": "code",
   "execution_count": 71,
   "id": "be38c553",
   "metadata": {},
   "outputs": [
    {
     "name": "stdout",
     "output_type": "stream",
     "text": [
      "Value of A is:  (3+8j)\n",
      "Value of B is:  (10-7j)\n",
      "The sum of A,B is :  (13+1j)\n",
      "The difference of A & B is :  (7-15j)\n"
     ]
    }
   ],
   "source": [
    "## ARITHMETIC OPERATIONS ON COMPLEX NUMBERS \n",
    "a = 3+8j\n",
    "b = 10-7j\n",
    "c = a + b \n",
    "print(\"Value of A is: \",a)\n",
    "print('Value of B is: ',b)\n",
    "print('The sum of A,B is : ',c)\n",
    "d = b - a\n",
    "print('The difference of A & B is : ',d)"
   ]
  },
  {
   "cell_type": "markdown",
   "id": "3bad7680",
   "metadata": {},
   "source": [
    "## Strings VIDEO 5"
   ]
  },
  {
   "cell_type": "markdown",
   "id": "75b04ad1",
   "metadata": {},
   "source": [
    "## Statements in single line and multiple line"
   ]
  },
  {
   "cell_type": "code",
   "execution_count": 72,
   "id": "3e919f51",
   "metadata": {},
   "outputs": [
    {
     "name": "stdout",
     "output_type": "stream",
     "text": [
      "30 ['a', 'b', 'c', 'd'] 350 ['a', 'b', 'c', 'd']\n"
     ]
    }
   ],
   "source": [
    "s1 = 10 + 20\n",
    "s2 = ['a','b','c','d']\n",
    "s3 = 20 + 30+ \\\n",
    "    40 + 50 + 60+ \\\n",
    "    70+80\n",
    "s4 = ['a',\n",
    "     'b',\n",
    "     'c',\n",
    "     'd']\n",
    "print(s1,s2,s3,s4)"
   ]
  },
  {
   "cell_type": "code",
   "execution_count": 73,
   "id": "d64052c1",
   "metadata": {},
   "outputs": [
    {
     "name": "stdout",
     "output_type": "stream",
     "text": [
      "apple is a red fruitbanana is a yellow fruit\n",
      "apple is a red fruit banana is a yellow fruit\n"
     ]
    }
   ],
   "source": [
    "# various operationa can be performed on string. a string once defined can only be re-written full\n",
    "# It cannot be partially changed\n",
    "# Everytime a operation is done on string, we need to store it another variable to retrive it again\n",
    "str1 = 'apple is a red fruit'\n",
    "str2 = 'banana is a yellow fruit'\n",
    "print(str1 + str2)\n",
    "print(str1 + ' ' + str2)"
   ]
  },
  {
   "cell_type": "code",
   "execution_count": 74,
   "id": "12eed3f0",
   "metadata": {},
   "outputs": [
    {
     "name": "stdout",
     "output_type": "stream",
     "text": [
      "APPLE IS A RED FRUIT\n",
      "apple is a red fruit\n",
      "APPLE IS A RED FRUIT --- Apple Is A Red Fruit --- ['apple', 'is', 'a', 'red', 'fruit']\n",
      "pple is a red fruit\n",
      "apple is a red frui\n",
      "apple is a red fruit ---- apple is a red fruit\n"
     ]
    }
   ],
   "source": [
    "print(str1.upper()) #prints statement in uppercase\n",
    "print(str1)\n",
    "str4 = str1.upper()\n",
    "str5 = str1.title() #first letter of everyword is in uppercase\n",
    "str6 = str1.split() #removes all the spaces and gives the words alone\n",
    "print(str4,'---',str5,'---',str6)\n",
    "str7 = str1.lstrip('a') #will remove \"a\" at the start from string 1\n",
    "print(str7)\n",
    "str8 = str1.rstrip('t') #will remove \"t\" at the end of the string 1\n",
    "print(str8)\n",
    "str9 = str1.lstrip('b')\n",
    "str10 = str1.rstrip('j')\n",
    "print(str9,'----',str10)"
   ]
  },
  {
   "cell_type": "code",
   "execution_count": 75,
   "id": "dbc54e26",
   "metadata": {},
   "outputs": [
    {
     "name": "stdout",
     "output_type": "stream",
     "text": [
      "banana is a yellow fruit\n",
      "True\n",
      "False\n",
      "False\n",
      "False\n",
      "String 2 starts with Banana True\n",
      "String 2 ends with Fruit True\n"
     ]
    }
   ],
   "source": [
    "# Operations on strings\n",
    "print(str2)\n",
    "print(str2.islower())\n",
    "print(str2.isupper())\n",
    "print(str2.istitle())\n",
    "print(str2.isdigit())\n",
    "print('String 2 starts with Banana',str2.startswith('banana'))\n",
    "print('String 2 ends with Fruit',str2.endswith('fruit'))"
   ]
  },
  {
   "cell_type": "code",
   "execution_count": null,
   "id": "5eb41b22",
   "metadata": {},
   "outputs": [],
   "source": [
    "print(len(str1),len(str2))"
   ]
  },
  {
   "cell_type": "code",
   "execution_count": 77,
   "id": "736467e4",
   "metadata": {},
   "outputs": [
    {
     "name": "stdout",
     "output_type": "stream",
     "text": [
      "apple is a red fruitbanana is a yellow fruit\n",
      "tiurf wolley a si ananabtiurf der a si elppa\n",
      "tufwle  iaaatufdras lp\n",
      "apei  e ribnn saylo ri\n",
      "ple is a\n",
      "p\n",
      "apple*is*a*red*fruitbanana*is*a*yellow*fruit\n",
      "apple is a red fruitMango is a yellow fruit\n"
     ]
    }
   ],
   "source": [
    "str11 = str1 + str2\n",
    "print(str11)\n",
    "print(str11[::-1]) # prints the statement is reverse order\n",
    "print(str11[::-2]) # removes letter by  letter and prints remaining letters as words in reverse order \n",
    "print(str11[::2]) # removes letter by  letter and prints remaining letters as words\n",
    "print(str11[2:10]) # prints words from 2 to 10 index values\n",
    "print(str11[2]) # prints the 2nd index value of string a,0 p,1 p,2 l,3 e,4\n",
    "print(str11.replace(' ','*')) # replaces space with *\n",
    "print(str11.replace('banana','Mango'))\n"
   ]
  },
  {
   "cell_type": "code",
   "execution_count": 83,
   "id": "69d5c8ad",
   "metadata": {},
   "outputs": [
    {
     "name": "stdout",
     "output_type": "stream",
     "text": [
      " \n",
      "h\n",
      "e\n",
      "l\n",
      "l\n",
      "o\n",
      " \n",
      "e\n",
      "v\n",
      "e\n",
      "r\n",
      "y\n",
      "o\n",
      "n\n",
      "e\n"
     ]
    }
   ],
   "source": [
    "mystr1 = \" hello everyone\"\n",
    "for i in mystr1:\n",
    "    print(i)\n",
    "    "
   ]
  },
  {
   "cell_type": "code",
   "execution_count": 85,
   "id": "1c4609d4",
   "metadata": {},
   "outputs": [
    {
     "name": "stdout",
     "output_type": "stream",
     "text": [
      "(0, ' ')\n",
      "(1, 'h')\n",
      "(2, 'e')\n",
      "(3, 'l')\n",
      "(4, 'l')\n",
      "(5, 'o')\n",
      "(6, ' ')\n",
      "(7, 'e')\n",
      "(8, 'v')\n",
      "(9, 'e')\n",
      "(10, 'r')\n",
      "(11, 'y')\n",
      "(12, 'o')\n",
      "(13, 'n')\n",
      "(14, 'e')\n"
     ]
    }
   ],
   "source": [
    "for i in enumerate(mystr1):\n",
    "    print(i)"
   ]
  },
  {
   "cell_type": "code",
   "execution_count": 87,
   "id": "42be1316",
   "metadata": {},
   "outputs": [
    {
     "name": "stdout",
     "output_type": "stream",
     "text": [
      "True\n",
      "True\n",
      "False\n"
     ]
    }
   ],
   "source": [
    "#string membership\n",
    "mystr1 = \"Hello Everyone\"\n",
    "print('Hello' in mystr1)\n",
    "print('Everyone' in mystr1)\n",
    "print('Hi' in mystr1)\n"
   ]
  },
  {
   "cell_type": "code",
   "execution_count": 88,
   "id": "35d9cee9",
   "metadata": {},
   "outputs": [
    {
     "name": "stdout",
     "output_type": "stream",
     "text": [
      "('This is a very long statement ', 'and', ' the sentence is stupid')\n"
     ]
    }
   ],
   "source": [
    "str5 = \"This is a very long statement and the sentence is stupid\"\n",
    "L = str5.partition('and') # split at first AND\n",
    "print(L)"
   ]
  },
  {
   "cell_type": "code",
   "execution_count": 90,
   "id": "05ca58bb",
   "metadata": {},
   "outputs": [
    {
     "name": "stdout",
     "output_type": "stream",
     "text": [
      "('This is a very long statement ', 'and', ' the sentence is stupid')\n"
     ]
    }
   ],
   "source": [
    "str5 = \"This is a very long statement and the sentence is stupid\"\n",
    "R = str5.rpartition('and') # split at first AND\n",
    "print(R)"
   ]
  },
  {
   "cell_type": "code",
   "execution_count": 94,
   "id": "d20090c0",
   "metadata": {},
   "outputs": [
    {
     "data": {
      "text/plain": [
       "4"
      ]
     },
     "execution_count": 94,
     "metadata": {},
     "output_type": "execute_result"
    }
   ],
   "source": [
    "str12 ='one one one two four three five ten one six eight seven'\n",
    "str12.count('one') #counts the word 'one' that how many times repeated"
   ]
  },
  {
   "cell_type": "code",
   "execution_count": 96,
   "id": "5c3a2d1d",
   "metadata": {},
   "outputs": [
    {
     "name": "stdout",
     "output_type": "stream",
     "text": [
      "cost of item 1 ,item 2 ,item 3 are 40,55,and 77\n",
      "cost of item 3,item 2, item 1 are 77,55 and 40\n"
     ]
    }
   ],
   "source": [
    "## combining string  & numbers using format method\n",
    "item1 = 40\n",
    "item2 = 55\n",
    "item3 = 77\n",
    "res = 'cost of item 1 ,item 2 ,item 3 are {},{},and {}'\n",
    "print(res.format(item1,item2,item3))\n",
    "res='cost of item 3,item 2, item 1 are {2},{1} and {0}'\n",
    "print(res.format(item1,item2,item3))"
   ]
  },
  {
   "cell_type": "code",
   "execution_count": 97,
   "id": "e25397e1",
   "metadata": {},
   "outputs": [
    {
     "name": "stdout",
     "output_type": "stream",
     "text": [
      "                               python is a nice programming language                                \n",
      "                                                        python is a nice programming language                                                         \n",
      "                                                                                 python is a nice programming language                                                                                  \n",
      "*******************************python is a nice programming language********************************\n",
      "                                                               python is a nice programming language\n",
      "python is a nice programming language             \n"
     ]
    }
   ],
   "source": [
    "str2='python is a nice programming language'\n",
    "print(str2.center(100))\n",
    "print(str2.center(150))\n",
    "print(str2.center(200))\n",
    "print(str2.center(100,'*'))\n",
    "print(str2.rjust(100))\n",
    "print(str2.ljust(50))"
   ]
  },
  {
   "cell_type": "code",
   "execution_count": 98,
   "id": "7cfeb07e",
   "metadata": {},
   "outputs": [
    {
     "name": "stdout",
     "output_type": "stream",
     "text": [
      "False\n",
      "True\n",
      "True\n",
      "True\n"
     ]
    }
   ],
   "source": [
    "mystr6=\"123456789\"\n",
    "print(mystr6.isalpha()) #returns true if all the characters in the text are letters\n",
    "print(mystr6.isalnum()) #return true if a string contains only letters or numbers or both\n",
    "print(mystr6.isdecimal()) #returns true if all the characters are decimals(0-9)\n",
    "print(mystr6.isnumeric()) #returns true if all the characters are numeric(0-9)"
   ]
  },
  {
   "cell_type": "code",
   "execution_count": 99,
   "id": "0775e7fc",
   "metadata": {},
   "outputs": [
    {
     "name": "stdout",
     "output_type": "stream",
     "text": [
      "True\n",
      "True\n",
      "False\n",
      "False\n"
     ]
    }
   ],
   "source": [
    "mystr7=\"abcdef\"\n",
    "print(mystr7.isalpha()) #returns true if all the characters in the text are letters\n",
    "print(mystr7.isalnum()) #return true if a string contains only letters or numbers or both\n",
    "print(mystr7.isdecimal()) #returns true if all the characters are decimals(0-9)\n",
    "print(mystr7.isnumeric()) #returns true if all the characters are numeric(0-9)"
   ]
  },
  {
   "cell_type": "code",
   "execution_count": 100,
   "id": "c5e8cc3a",
   "metadata": {},
   "outputs": [
    {
     "name": "stdout",
     "output_type": "stream",
     "text": [
      "False\n",
      "True\n",
      "False\n",
      "False\n"
     ]
    }
   ],
   "source": [
    "mystr8=\"abc123\"\n",
    "print(mystr8.isalpha()) #returns true if all the characters in the text are letters\n",
    "print(mystr8.isalnum()) #return true if a string contains only letters or numbers or both\n",
    "print(mystr8.isdecimal()) #returns true if all the characters are decimals(0-9)\n",
    "print(mystr8.isnumeric()) #returns true if all the characters are numeric(0-9)"
   ]
  },
  {
   "cell_type": "code",
   "execution_count": 101,
   "id": "0b735a36",
   "metadata": {},
   "outputs": [
    {
     "name": "stdout",
     "output_type": "stream",
     "text": [
      "True\n",
      "False\n",
      "False\n",
      "True\n"
     ]
    }
   ],
   "source": [
    "mystr9 = 'ABCDEF'\n",
    "print(mystr9.isupper())\n",
    "print(mystr9.islower())\n",
    "mystr10 = 'abcdef'\n",
    "print(mystr10.isupper())\n",
    "print(mystr10.islower())"
   ]
  },
  {
   "cell_type": "markdown",
   "id": "8b54adfd",
   "metadata": {},
   "source": [
    "# WEEK 1 CHALLENGES "
   ]
  },
  {
   "cell_type": "code",
   "execution_count": null,
   "id": "9ed59ab9",
   "metadata": {},
   "outputs": [],
   "source": [
    "name = 'Gadde Naveen chand'\n",
    "mail = 'naveenchand.benny@gmail.com'\n",
    "print('Name:',name)\n",
    "print('Emain:',mail)"
   ]
  },
  {
   "cell_type": "code",
   "execution_count": null,
   "id": "e101bd39",
   "metadata": {},
   "outputs": [],
   "source": [
    "name= input('Enter your name')\n",
    "print('Hello',name)"
   ]
  },
  {
   "cell_type": "code",
   "execution_count": null,
   "id": "c76c3fbd",
   "metadata": {},
   "outputs": [],
   "source": [
    "radius =float(input('Enter radius value'))\n",
    "'''area of circel formula 3.14 * r *r '''\n",
    "'''circumference of circle 2 * 3.14 * r'''\n",
    "area = 3.14 * r * r\n",
    "circum = 2 * 3.14 * r\n",
    "print ('Area of circle :',area)\n",
    "print('Circumference of circle:',circum)\n"
   ]
  },
  {
   "cell_type": "code",
   "execution_count": null,
   "id": "615f5d7c",
   "metadata": {},
   "outputs": [],
   "source": [
    "r =float(input('Enter radius value')) # r=radius\n",
    "'''area of circel formula 3.14 * r *r '''\n",
    "'''circumference of circle 2 * 3.14 * r'''\n",
    "area = 3.14 * r * r\n",
    "circum = 2 * 3.14 * r\n",
    "print ('Area of circle :',area)\n",
    "print('Circumference of circle:',circum)\n"
   ]
  },
  {
   "cell_type": "code",
   "execution_count": null,
   "id": "4975bfd4",
   "metadata": {},
   "outputs": [],
   "source": [
    "# length = l\n",
    "# breadth = b\n",
    "\n",
    "l = float(input('Enter Length of a rectangle : '))\n",
    "b = float(input('Enter breadth of a rectangle : '))\n",
    "area = l * b\n",
    "perimeter = 2 * ( l + b )\n",
    "print (' Area of rectangel : ',area)\n",
    "print(' Perimeter of rectangle : ',perimeter)\n"
   ]
  },
  {
   "cell_type": "code",
   "execution_count": null,
   "id": "98ffd774",
   "metadata": {},
   "outputs": [],
   "source": [
    "#side = s\n",
    "s =float(input('Enter a side of a square : '))\n",
    "area=s**s\n",
    "perimeter=4*s\n",
    "print('Area of a Square : ',area)\n",
    "print('Perimeter of a Square : ',perimeter)\n"
   ]
  },
  {
   "cell_type": "code",
   "execution_count": null,
   "id": "88c1a398",
   "metadata": {},
   "outputs": [],
   "source": [
    "#fahrenheit = fh\n",
    "#centigrade = cl\n",
    "fh =float(input('Enter temperature in Fahrenheit : '))\n",
    "\n",
    "# formula for converting fahrenheit to centigrade is ( (Fh - 32) * 5/9 )\n",
    "cl = ((fh - 32)* 5/9)\n",
    "print('Converted temperature from Fahrenheit to Centigrade is : ',cl)\n",
    "\n",
    "#program to convert the temperature from centigrade to fahrenheit \n",
    "\n",
    "#formula to convert centigrade to fahrenheit ( (cl * 9/5) + 32)\n",
    "cl = float(input('Enter temperature in Centigrade : '))\n",
    "\n",
    "fh = ( (cl * 9/5) + 32)\n",
    "\n",
    "print('Converted temperature from centigrade to fahrenheit : ',fh)"
   ]
  },
  {
   "cell_type": "code",
   "execution_count": null,
   "id": "dde7dab5",
   "metadata": {},
   "outputs": [],
   "source": [
    "#complex numbers are stored in cp1,cp2\n",
    "cp1 = complex(input('Enter complex number 1 : '))\n",
    "cp2 = complex(input('Enter complex number 2 : '))\n",
    "add = cp1 + cp2\n",
    "sub = cp1 - cp2\n",
    "mul = cp1 * cp2\n",
    "print ('Addition of two complex numbers : ',add)\n",
    "print ('Subtraction of two complex numbers : ',sub)\n",
    "print('Multiplication of two complex numbers : ',mul)\n"
   ]
  },
  {
   "cell_type": "code",
   "execution_count": null,
   "id": "8ff3e163",
   "metadata": {},
   "outputs": [],
   "source": [
    "#dearness allowance = da\n",
    "#house rent allowance = hra\n",
    "#gross salary = gross\n",
    "#Salary = sal\n",
    "\n",
    "name = input('Enter name of the Employee : ')\n",
    "sal = float(input('Enter Basic salary : '))\n",
    "da = (40/100) * sal\n",
    "print('Dearness allowance is : ',da)\n",
    "hra = (20/100) * sal\n",
    "print('House rent allowance is : ',hra)\n",
    "gross = sal + da + hra\n",
    "print('Gross salary is : ',gross)"
   ]
  },
  {
   "cell_type": "code",
   "execution_count": null,
   "id": "6a893bca",
   "metadata": {},
   "outputs": [],
   "source": [
    "n = int(input('Enter N value : '))\n",
    "#assume sum of all integers = sumint\n",
    "sumint = (n)*(n+1)/2\n",
    "print('all integers are:',sumint)"
   ]
  },
  {
   "cell_type": "code",
   "execution_count": null,
   "id": "9f9202f4",
   "metadata": {},
   "outputs": [],
   "source": [
    "a = int(input('Enter value of A :'))\n",
    "b = int(input('Enter value of B :'))\n",
    "add = a + b\n",
    "sub = a - b\n",
    "mul = a * b\n",
    "div = a / b\n",
    "rem = a % b\n",
    "result = a ** b\n",
    "print ('The sum of a and b is :',add)\n",
    "print ('The difference when b is subtracted from a :',sub)\n",
    "print ('The product of a and b :',mul)\n",
    "print ('The quotient when a is divided by b :',div)\n",
    "print ('The remainder when a is divided by b :',rem)\n",
    "print ('The result of a power b :',result)\n"
   ]
  },
  {
   "cell_type": "code",
   "execution_count": null,
   "id": "b610b942",
   "metadata": {},
   "outputs": [],
   "source": []
  }
 ],
 "metadata": {
  "kernelspec": {
   "display_name": "Python 3 (ipykernel)",
   "language": "python",
   "name": "python3"
  },
  "language_info": {
   "codemirror_mode": {
    "name": "ipython",
    "version": 3
   },
   "file_extension": ".py",
   "mimetype": "text/x-python",
   "name": "python",
   "nbconvert_exporter": "python",
   "pygments_lexer": "ipython3",
   "version": "3.9.12"
  }
 },
 "nbformat": 4,
 "nbformat_minor": 5
}
